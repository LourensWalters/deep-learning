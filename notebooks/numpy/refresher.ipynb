{
 "cells": [
  {
   "cell_type": "code",
   "execution_count": 1,
   "metadata": {
    "collapsed": true
   },
   "outputs": [
    {
     "name": "stdout",
     "output_type": "stream",
     "text": [
      "Input prior to function:\n",
      "Input as Array: \n",
      "[[-1  2  7]]\n",
      "Input minus min: \n",
      "[[0 3 8]]\n",
      "Input div max: \n",
      "[[0.    0.375 1.   ]]\n",
      "Multiply 1:\n",
      "False\n",
      "Multiply 2:\n",
      "[[14]\n",
      " [32]]\n",
      "Multiply 3:\n",
      "[[ 9 12 15]]\n",
      "Mean == 2.6666666666666665\n"
     ]
    }
   ],
   "source": [
    "import numpy as np\n",
    "\n",
    "\n",
    "def prepare_inputs(inputs):\n",
    "    # Create a 2-dimensional ndarray from the given 1-dimensional list and assign it to input_array\n",
    "    input_array = np.array([inputs])\n",
    "\n",
    "    # Find the minimum value in input_array and subtract that value from all the elements of input_array. Store the\n",
    "    # result in inputs_minus_min\n",
    "    inputs_minus_min = input_array - np.amin(input_array)\n",
    "\n",
    "    # Find the maximum value in inputs_minus_min and divide all of the values in inputs_minus_min by the maximum value.\n",
    "    # Store the results in inputs_div_max.\n",
    "    inputs_div_max = inputs_minus_min/np.max(inputs_minus_min)\n",
    "\n",
    "    # Return the three arrays we've created\n",
    "    return input_array, inputs_minus_min, inputs_div_max\n",
    "\n",
    "\n",
    "def multiply_inputs(m1, m2):\n",
    "    # Check the shapes of the matrices m1 and m2. m1 and m2 will be ndarray objects.\n",
    "    # Return False if the shapes cannot be used for matrix multiplication. You may not use a transpose\n",
    "#    print(m1.ndim)\n",
    "#    print(m1.shape)\n",
    "#    print(m2.ndim)\n",
    "#    print(m2.shape)\n",
    "#\n",
    "    if m1.shape[1] != m2.shape[0] and m1.shape[0] != m2.shape[1]:\n",
    "        return False\n",
    "\n",
    "    # If you have not returned False, then calculate the matrix product of m1 and m2 and return it.\n",
    "    # Do not use a transpose, but you swap their order if necessary\n",
    "    if m1.shape[1] == m2.shape[0]:\n",
    "        return np.matmul(m1, m2)\n",
    "    else:\n",
    "        return np.matmul(m2, m1)\n",
    "\n",
    "def find_mean(values):\n",
    "    # Return the average of the values in the given Python list\n",
    "    return np.mean(values)\n",
    "\n",
    "print(\"Input prior to function:\")\n",
    "input_list = [-1,2,7]\n",
    "#print(input_list)\n",
    "#print(type(input_list))\n",
    "input_array, inputs_minus_min, inputs_div_max = prepare_inputs(input_list)\n",
    "print(\"Input as Array: \\n{}\".format(input_array))\n",
    "#print(type(input_array))\n",
    "#print(input_array.shape)\n",
    "print(\"Input minus min: \\n{}\".format(inputs_minus_min))\n",
    "print(\"Input div max: \\n{}\".format(inputs_div_max))\n",
    "\n",
    "print(\"Multiply 1:\\n{}\".format(multiply_inputs(np.array([[1,2,3],[4,5,6]]), np.array([[1],[2],[3],[4]]))))\n",
    "print(\"Multiply 2:\\n{}\".format(multiply_inputs(np.array([[1,2,3],[4,5,6]]), np.array([[1],[2],[3]]))))\n",
    "print(\"Multiply 3:\\n{}\".format(multiply_inputs(np.array([[1,2,3],[4,5,6]]), np.array([[1,2]]))))\n",
    "\n",
    "print(\"Mean == {}\".format(find_mean([1,3,4])))"
   ]
  }
 ],
 "metadata": {
  "kernelspec": {
   "name": "pycharm-f294f163",
   "language": "python",
   "display_name": "PyCharm (deep-learning)"
  },
  "language_info": {
   "codemirror_mode": {
    "name": "ipython",
    "version": 2
   },
   "file_extension": ".py",
   "mimetype": "text/x-python",
   "name": "python",
   "nbconvert_exporter": "python",
   "pygments_lexer": "ipython2",
   "version": "2.7.6"
  }
 },
 "nbformat": 4,
 "nbformat_minor": 0
}