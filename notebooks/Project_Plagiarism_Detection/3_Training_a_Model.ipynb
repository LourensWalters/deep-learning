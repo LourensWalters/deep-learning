{
 "cells": [
  {
   "cell_type": "markdown",
   "source": [
    "    # Plagiarism Detection Model\n",
    "\n",
    "Now that you've created training and test data, you are ready to define and train a model. Your goal in this notebook, will be to train a binary classification model that learns to label an answer file as either plagiarized or not, based on the features you provide the model.\n",
    "\n",
    "This task will be broken down into a few discrete steps:\n",
    "\n",
    "* Upload your data to S3.\n",
    "* Define a binary classification model and a training script.\n",
    "* Train your model and deploy it.\n",
    "* Evaluate your deployed classifier and answer some questions about your approach.\n",
    "\n",
    "To complete this notebook, you'll have to complete all given exercises and answer all the questions in this notebook.\n",
    "> All your tasks will be clearly labeled **EXERCISE** and questions as **QUESTION**.\n",
    "\n",
    "It will be up to you to explore different classification models and decide on a model that gives you the best performance for this dataset.\n",
    "\n",
    "---"
   ],
   "metadata": {
    "collapsed": false,
    "pycharm": {
     "name": "#%% md\n"
    }
   }
  },
  {
   "cell_type": "markdown",
   "source": [
    "## Load Data to S3\n",
    "\n",
    "In the last notebook, you should have created two files: a `training.csv` and `test.csv` file with the features and class labels for the given corpus of plagiarized/non-plagiarized text data.\n",
    "\n",
    ">The below cells load in some AWS SageMaker libraries and creates a default bucket. After creating this bucket, you can upload your locally stored data to S3.\n",
    "\n",
    "Save your train and test `.csv` feature files, locally. To do this you can run the second notebook \"2_Plagiarism_Feature_Engineering\" in SageMaker or you can manually upload your files to this notebook using the upload icon in Jupyter Lab. Then you can upload local files to S3 by using `sagemaker_session.upload_data` and pointing directly to where the training data is saved."
   ],
   "metadata": {
    "collapsed": false,
    "pycharm": {
     "name": "#%% md\n"
    }
   }
  },
  {
   "cell_type": "code",
   "execution_count": 15,
   "outputs": [],
   "source": [
    "import pandas as pd\n",
    "import boto3\n",
    "import sagemaker"
   ],
   "metadata": {
    "collapsed": false,
    "pycharm": {
     "name": "#%%\n"
    }
   }
  },
  {
   "cell_type": "code",
   "execution_count": 16,
   "outputs": [],
   "source": [
    "\"\"\"\n",
    "DON'T MODIFY ANYTHING IN THIS CELL THAT IS BELOW THIS LINE\n",
    "\"\"\"\n",
    "# session and role\n",
    "#sagemaker_session = sagemaker.Session()\n",
    "sagemaker_session = sagemaker.Session(boto3.session.Session(region_name=\"eu-west-2\"))\n",
    "#role = sagemaker.get_execution_role()\n",
    "role = 'arn:aws:iam::214565185159:role/service-role/AmazonSageMaker-ExecutionRole-20220326T161149'\n",
    "#'arn:aws:iam::520084941985:role/service-role/AmazonSageMaker-ExecutionRole-20211114T202747'\n",
    "\n",
    "# create an S3 bucket\n",
    "bucket = sagemaker_session.default_bucket()"
   ],
   "metadata": {
    "collapsed": false,
    "pycharm": {
     "name": "#%%\n"
    }
   }
  },
  {
   "cell_type": "markdown",
   "source": [
    "## EXERCISE: Upload your training data to S3\n",
    "\n",
    "Specify the `data_dir` where you've saved your `train.csv` file. Decide on a descriptive `prefix` that defines where your data will be uploaded in the default S3 bucket. Finally, create a pointer to your training data by calling `sagemaker_session.upload_data` and passing in the required parameters. It may help to look at the [Session documentation](https://sagemaker.readthedocs.io/en/stable/session.html#sagemaker.session.Session.upload_data) or previous SageMaker code examples.\n",
    "\n",
    "You are expected to upload your entire directory. Later, the training script will only access the `train.csv` file."
   ],
   "metadata": {
    "collapsed": false,
    "pycharm": {
     "name": "#%% md\n"
    }
   }
  },
  {
   "cell_type": "code",
   "execution_count": 17,
   "outputs": [
    {
     "name": "stdout",
     "output_type": "stream",
     "text": [
      "Upload complete.\n"
     ]
    }
   ],
   "source": [
    "# should be the name of directory you created to save your features data\n",
    "data_dir = \"plagiarism_data\"\n",
    "\n",
    "# set prefix, a descriptive name for a directory\n",
    "prefix = \"sagemaker/coin_detection\"\n",
    "\n",
    "# upload all data to S3\n",
    "bucket_address = sagemaker_session.upload_data(path=data_dir, bucket=bucket, key_prefix=prefix)\n",
    "\n",
    "print('Upload complete.')"
   ],
   "metadata": {
    "collapsed": false,
    "pycharm": {
     "name": "#%%\n"
    }
   }
  },
  {
   "cell_type": "markdown",
   "metadata": {
    "pycharm": {
     "name": "#%% md\n"
    }
   },
   "source": [
    "### Test cell\n",
    "\n",
    "Test that your data has been successfully uploaded. The below cell prints out the items in your S3 bucket and will throw an error if it is empty. You should see the contents of your `data_dir` and perhaps some checkpoints. If you see any other files listed, then you may have some old model files that you can delete via the S3 console (though, additional files shouldn't affect the performance of model developed in this notebook)."
   ]
  },
  {
   "cell_type": "code",
   "execution_count": 18,
   "metadata": {
    "collapsed": true,
    "pycharm": {
     "name": "#%%\n"
    }
   },
   "outputs": [
    {
     "name": "stdout",
     "output_type": "stream",
     "text": [
      "sagemaker/coin_detection/test.csv\n",
      "sagemaker/coin_detection/train.csv\n",
      "Test passed!\n"
     ]
    }
   ],
   "source": [
    "\"\"\"\n",
    "DON'T MODIFY ANYTHING IN THIS CELL THAT IS BELOW THIS LINE\n",
    "\"\"\"\n",
    "# confirm that data is in S3 bucket\n",
    "empty_check = []\n",
    "for obj in boto3.resource('s3').Bucket(bucket).objects.all():\n",
    "    empty_check.append(obj.key)\n",
    "    print(obj.key)\n",
    "\n",
    "assert len(empty_check) !=0, 'S3 bucket is empty.'\n",
    "print('Test passed!')"
   ]
  },
  {
   "cell_type": "markdown",
   "metadata": {
    "pycharm": {
     "name": "#%% md\n"
    }
   },
   "source": [
    "---\n",
    "\n",
    "# Modeling\n",
    "\n",
    "Now that you've uploaded your training data, it's time to define and train a model!\n",
    "\n",
    "The type of model you create is up to you. For a binary classification task, you can choose to go one of three routes:\n",
    "* Use a built-in classification algorithm, like LinearLearner.\n",
    "* Define a custom Scikit-learn classifier, a comparison of models can be found [here](https://scikit-learn.org/stable/auto_examples/classification/plot_classifier_comparison.html).\n",
    "* Define a custom PyTorch neural network classifier. \n",
    "\n",
    "It will be up to you to test out a variety of models and choose the best one. Your project will be graded on the accuracy of your final model. \n",
    " \n",
    "---\n",
    "\n",
    "## EXERCISE: Complete a training script \n",
    "\n",
    "To implement a custom classifier, you'll need to complete a `train.py` script. You've been given the folders `source_sklearn` and `source_pytorch` which hold starting code for a custom Scikit-learn model and a PyTorch model, respectively. Each directory has a `train.py` training script. To complete this project **you only need to complete one of these scripts**; the script that is responsible for training your final model.\n",
    "\n",
    "A typical training script:\n",
    "* Loads training data from a specified directory\n",
    "* Parses any training & model hyperparameters (ex. nodes in a neural network, training epochs, etc.)\n",
    "* Instantiates a model of your design, with any specified hyperparams\n",
    "* Trains that model \n",
    "* Finally, saves the model so that it can be hosted/deployed, later\n",
    "\n",
    "### Defining and training a model\n",
    "Much of the training script code is provided for you. Almost all of your work will be done in the `if __name__ == '__main__':` section. To complete a `train.py` file, you will:\n",
    "1. Import any extra libraries you need\n",
    "2. Define any additional model training hyperparameters using `parser.add_argument`\n",
    "2. Define a model in the `if __name__ == '__main__':` section\n",
    "3. Train the model in that same section\n",
    "\n",
    "Below, you can use `!pygmentize` to display an existing `train.py` file. Read through the code; all of your tasks are marked with `TODO` comments. \n",
    "\n",
    "**Note: If you choose to create a custom PyTorch model, you will be responsible for defining the model in the `model.py` file,** and a `predict.py` file is provided. If you choose to use Scikit-learn, you only need a `train.py` file; you may import a classifier from the `sklearn` library."
   ]
  },
  {
   "cell_type": "code",
   "execution_count": 19,
   "metadata": {
    "collapsed": true,
    "pycharm": {
     "name": "#%%\n"
    }
   },
   "outputs": [
    {
     "name": "stdout",
     "output_type": "stream",
     "text": [
      "import argparse\n",
      "import json\n",
      "import os\n",
      "import pandas as pd\n",
      "import torch\n",
      "import torch.optim as optim\n",
      "import torch.utils.data\n",
      "\n",
      "# imports the model in model.py by name\n",
      "from model import BinaryClassifier\n",
      "\n",
      "def model_fn(model_dir):\n",
      "    \"\"\"Load the PyTorch model from the `model_dir` directory.\"\"\"\n",
      "    print(\"Loading model.\")\n",
      "\n",
      "    # First, load the parameters used to create the model.\n",
      "    model_info = {}\n",
      "    model_info_path = os.path.join(model_dir, 'model_info.pth')\n",
      "    with open(model_info_path, 'rb') as f:\n",
      "        model_info = torch.load(f)\n",
      "\n",
      "    print(\"model_info: {}\".format(model_info))\n",
      "\n",
      "    # Determine the device and construct the model.\n",
      "    device = torch.device(\"cuda\" if torch.cuda.is_available() else \"cpu\")\n",
      "    model = BinaryClassifier(model_info['input_features'], model_info['hidden_dim'], model_info['output_dim'])\n",
      "\n",
      "    # Load the stored model parameters.\n",
      "    model_path = os.path.join(model_dir, 'model.pth')\n",
      "    with open(model_path, 'rb') as f:\n",
      "        model.load_state_dict(torch.load(f))\n",
      "\n",
      "    # set to eval mode, could use no_grad\n",
      "    model.to(device).eval()\n",
      "\n",
      "    print(\"Done loading model.\")\n",
      "    return model\n",
      "\n",
      "# Gets training data in batches from the train.csv file\n",
      "def _get_train_data_loader(batch_size, training_dir):\n",
      "    print(\"Get train data loader.\")\n",
      "\n",
      "    train_data = pd.read_csv(os.path.join(training_dir, \"train.csv\"), header=None, names=None)\n",
      "\n",
      "    train_y = torch.from_numpy(train_data[[0]].values).float().squeeze()\n",
      "    train_x = torch.from_numpy(train_data.drop([0], axis=1).values).float()\n",
      "\n",
      "    train_ds = torch.utils.data.TensorDataset(train_x, train_y)\n",
      "\n",
      "    return torch.utils.data.DataLoader(train_ds, batch_size=batch_size)\n",
      "\n",
      "\n",
      "# Provided training function\n",
      "def train(model, train_loader, epochs, criterion, optimizer, device):\n",
      "    \"\"\"\n",
      "    This is the training method that is called by the PyTorch training script. The parameters\n",
      "    passed are as follows:\n",
      "    model        - The PyTorch model that we wish to train.\n",
      "    train_loader - The PyTorch DataLoader that should be used during training.\n",
      "    epochs       - The total number of epochs to train for.\n",
      "    criterion    - The loss function used for training. \n",
      "    optimizer    - The optimizer to use during training.\n",
      "    device       - Where the model and data should be loaded (gpu or cpu).\n",
      "    \"\"\"\n",
      "    \n",
      "    # training loop is provided\n",
      "    for epoch in range(1, epochs + 1):\n",
      "        model.train() # Make sure that the model is in training mode.\n",
      "\n",
      "        total_loss = 0\n",
      "\n",
      "        for batch in train_loader:\n",
      "            # get data\n",
      "            batch_x, batch_y = batch\n",
      "\n",
      "            batch_x = batch_x.to(device)\n",
      "            batch_y = batch_y.to(device)\n",
      "\n",
      "            optimizer.zero_grad()\n",
      "\n",
      "            # get predictions from model\n",
      "            y_pred = model(batch_x)\n",
      "            \n",
      "            # perform backprop\n",
      "            loss = criterion(y_pred, batch_y)\n",
      "            loss.backward()\n",
      "            optimizer.step()\n",
      "            \n",
      "            total_loss += loss.data.item()\n",
      "\n",
      "        print(\"Epoch: {}, Loss: {}\".format(epoch, total_loss / len(train_loader)))\n",
      "\n",
      "\n",
      "## TODO: Complete the main code\n",
      "if __name__ == '__main__':\n",
      "    \n",
      "    # All of the model parameters and training parameters are sent as arguments\n",
      "    # when this script is executed, during a training job\n",
      "    \n",
      "    # Here we set up an argument parser to easily access the parameters\n",
      "    parser = argparse.ArgumentParser()\n",
      "\n",
      "    # SageMaker parameters, like the directories for training data and saving models; set automatically\n",
      "    # Do not need to change\n",
      "    parser.add_argument('--output-data-dir', type=str, default=os.environ['SM_OUTPUT_DATA_DIR'])\n",
      "    parser.add_argument('--model-dir', type=str, default=os.environ['SM_MODEL_DIR'])\n",
      "    parser.add_argument('--data-dir', type=str, default=os.environ['SM_CHANNEL_TRAIN'])\n",
      "    \n",
      "    # Training Parameters, given\n",
      "    parser.add_argument('--batch-size', type=int, default=10, metavar='N',\n",
      "                        help='input batch size for training (default: 10)')\n",
      "    parser.add_argument('--epochs', type=int, default=10, metavar='N',\n",
      "                        help='number of epochs to train (default: 10)')\n",
      "    parser.add_argument('--seed', type=int, default=1, metavar='S',\n",
      "                        help='random seed (default: 1)')\n",
      "    \n",
      "    ## TODO: Add args for the three model parameters: input_features, hidden_dim, output_dim\n",
      "    # Model Parameters\n",
      "    parser.add_argument('--input_features', type=int, default=2,\n",
      "                        help='input_features (default: 2)')\n",
      "    parser.add_argument('--hidden_dim', type=int, default=20,\n",
      "                        help='hidden_dim (default: 20)')\n",
      "    parser.add_argument('--output_dim', type=int, default=1,\n",
      "                        help='output_dim (default: 1)')\n",
      "    parser.add_argument('--lr', type=float, default=1e-3,\n",
      "                        help='learning rate (default: 1e-3)')\n",
      "\n",
      "\n",
      "    # args holds all passed-in arguments\n",
      "    args = parser.parse_args()\n",
      "\n",
      "    device = torch.device(\"cuda\" if torch.cuda.is_available() else \"cpu\")\n",
      "    print(\"Using device {}.\".format(device))\n",
      "\n",
      "    torch.manual_seed(args.seed)\n",
      "\n",
      "    # Load the training data.\n",
      "    train_loader = _get_train_data_loader(args.batch_size, args.data_dir)\n",
      "\n",
      "\n",
      "    ## --- Your code here --- ##\n",
      "    \n",
      "    ## TODO:  Build the model by passing in the input params\n",
      "    # To get params from the parser, call args.argument_name, ex. args.epochs or ards.hidden_dim\n",
      "    # Don't forget to move your model .to(device) to move to GPU , if appropriate\n",
      "    model = BinaryClassifier(args.input_features, args.hidden_dim, args.output_dim).to(device)\n",
      "\n",
      "    ## TODO: Define an optimizer and loss function for training\n",
      "    optimizer = optim.Adam(model.parameters(), lr=args.lr)\n",
      "    criterion = torch.nn.BCELoss()\n",
      "\n",
      "    # Trains the model (given line of code, which calls the above training function)\n",
      "    train(model, train_loader, args.epochs, criterion, optimizer, device)\n",
      "\n",
      "    ## TODO: complete in the model_info by adding three argument names, the first is given\n",
      "    # Keep the keys of this dictionary as they are \n",
      "    model_info_path = os.path.join(args.model_dir, 'model_info.pth')\n",
      "    with open(model_info_path, 'wb') as f:\n",
      "        model_info = {\n",
      "            'input_features': args.input_features,\n",
      "            'hidden_dim': args.hidden_dim,\n",
      "            'output_dim': args.output_dim,\n",
      "            'lr': args.lr,\n",
      "        }\n",
      "        torch.save(model_info, f)\n",
      "        \n",
      "    ## --- End of your code  --- ##\n",
      "    \n",
      "\n",
      "\t# Save the model parameters\n",
      "    model_path = os.path.join(args.model_dir, 'model.pth')\n",
      "    with open(model_path, 'wb') as f:\n",
      "        torch.save(model.cpu().state_dict(), f)\n"
     ]
    }
   ],
   "source": [
    "# directory can be changed to: source_sklearn or source_pytorch\n",
    "#!pygmentize source_sklearn/train.py\n",
    "!pygmentize source_pytorch/train.py"
   ]
  },
  {
   "cell_type": "markdown",
   "metadata": {
    "pycharm": {
     "name": "#%% md\n"
    }
   },
   "source": [
    "### Provided code\n",
    "\n",
    "If you read the code above, you can see that the starter code includes a few things:\n",
    "* Model loading (`model_fn`) and saving code\n",
    "* Getting SageMaker's default hyperparameters\n",
    "* Loading the training data by name, `train.csv` and extracting the features and labels, `train_x`, and `train_y`\n",
    "\n",
    "If you'd like to read more about model saving with [joblib for sklearn](https://scikit-learn.org/stable/modules/model_persistence.html) or with [torch.save](https://pytorch.org/tutorials/beginner/saving_loading_models.html), click on the provided links."
   ]
  },
  {
   "cell_type": "markdown",
   "metadata": {
    "pycharm": {
     "name": "#%% md\n"
    }
   },
   "source": [
    "---\n",
    "# Create an Estimator\n",
    "\n",
    "When a custom model is constructed in SageMaker, an entry point must be specified. This is the Python file which will be executed when the model is trained; the `train.py` function you specified above. To run a custom training script in SageMaker, construct an estimator, and fill in the appropriate constructor arguments:\n",
    "\n",
    "* **entry_point**: The path to the Python script SageMaker runs for training and prediction.\n",
    "* **source_dir**: The path to the training script directory `source_sklearn` OR `source_pytorch`.\n",
    "* **role**: Role ARN, which was specified, above.\n",
    "* **train_instance_count**: The number of training instances (should be left at 1).\n",
    "* **train_instance_type**: The type of SageMaker instance for training. Note: Because Scikit-learn does not natively support GPU training, Sagemaker Scikit-learn does not currently support training on GPU instance types.\n",
    "* **sagemaker_session**: The session used to train on Sagemaker.\n",
    "* **hyperparameters** (optional): A dictionary `{'name':value, ..}` passed to the train function as hyperparameters.\n",
    "\n",
    "Note: For a PyTorch model, there is another optional argument **framework_version**, which you can set to the latest version of PyTorch, `1.0`.\n",
    "\n",
    "## EXERCISE: Define a Scikit-learn or PyTorch estimator\n",
    "\n",
    "To import your desired estimator, use one of the following lines:\n",
    "```\n",
    "from sagemaker.sklearn.estimator import SKLearn\n",
    "```\n",
    "```\n",
    "from sagemaker.pytorch import PyTorch\n",
    "```"
   ]
  },
  {
   "cell_type": "code",
   "execution_count": 20,
   "metadata": {
    "collapsed": true,
    "pycharm": {
     "name": "#%%\n"
    }
   },
   "outputs": [
    {
     "name": "stderr",
     "output_type": "stream",
     "text": [
      "train_instance_count has been renamed in sagemaker>=2.\n",
      "See: https://sagemaker.readthedocs.io/en/stable/v2.html for details.\n",
      "train_instance_type has been renamed in sagemaker>=2.\n",
      "See: https://sagemaker.readthedocs.io/en/stable/v2.html for details.\n"
     ]
    }
   ],
   "source": [
    "output_path = 's3://{}/{}'.format(bucket, prefix)\n",
    "\n",
    "# your import and estimator code, here\n",
    "#from sagemaker.sklearn.estimator import SKLearn\n",
    "#\n",
    "#estimator = SKLearn(entry_point=\"train.py\",\n",
    "#                    source_dir=\"source_sklearn\",\n",
    "#                    role=role,\n",
    "#                    instance_count=1,\n",
    "#                    instance_type='ml.c4.xlarge',\n",
    "#                    framework_version=\"0.23-1\",\n",
    "#                    py_version=\"py3\",\n",
    "#                    sagemaker_session=sagemaker_session)\n",
    "\n",
    "from sagemaker.pytorch import PyTorch\n",
    "\n",
    "estimator = PyTorch(entry_point=\"train.py\",\n",
    "                    source_dir=\"source_pytorch\",\n",
    "                    role=role,\n",
    "                    framework_version='1.0',\n",
    "                    py_version=\"py3\",\n",
    "                    train_instance_count=1,\n",
    "#                    train_instance_type='ml.m5.12xlarge',\n",
    "                    train_instance_type='ml.g4dn.8xlarge',\n",
    "                    output = output_path,\n",
    "                    sagemaker_session=sagemaker_session,\n",
    "                    hyperparameters={\n",
    "                        'input_features': 3,\n",
    "                        'hidden_dim': 400,\n",
    "                        'output_dim': 1,\n",
    "                        'epochs': 400,\n",
    "                        'lr': 1e-3\n",
    "                    })\n"
   ]
  },
  {
   "cell_type": "code",
   "execution_count": 21,
   "outputs": [
    {
     "name": "stdout",
     "output_type": "stream",
     "text": [
      "eu-west-2\n"
     ]
    }
   ],
   "source": [
    "\n",
    "print(boto3.Session().region_name)"
   ],
   "metadata": {
    "collapsed": false,
    "pycharm": {
     "name": "#%%\n"
    }
   }
  },
  {
   "cell_type": "markdown",
   "metadata": {
    "pycharm": {
     "name": "#%% md\n"
    }
   },
   "source": [
    "## EXERCISE: Train the estimator\n",
    "\n",
    "Train your estimator on the training data stored in S3. This should create a training job that you can monitor in your SageMaker console."
   ]
  },
  {
   "cell_type": "code",
   "execution_count": 22,
   "metadata": {
    "collapsed": true,
    "pycharm": {
     "name": "#%%\n"
    }
   },
   "outputs": [
    {
     "name": "stdout",
     "output_type": "stream",
     "text": [
      "2022-04-02 12:43:09 Starting - Starting the training job...\n",
      "2022-04-02 12:43:32 Starting - Preparing the instances for trainingProfilerReport-1648903388: InProgress\n",
      "......\n",
      "2022-04-02 12:44:33 Downloading - Downloading input data...\n",
      "2022-04-02 12:44:53 Training - Downloading the training image...\n",
      "2022-04-02 12:45:39 Training - Training image download completed. Training in progress..\u001B[34mbash: cannot set terminal process group (-1): Inappropriate ioctl for device\u001B[0m\n",
      "\u001B[34mbash: no job control in this shell\u001B[0m\n",
      "\u001B[34m2022-04-02 12:45:42,479 sagemaker-containers INFO     Imported framework sagemaker_pytorch_container.training\u001B[0m\n",
      "\u001B[34m2022-04-02 12:45:42,501 sagemaker_pytorch_container.training INFO     Block until all host DNS lookups succeed.\u001B[0m\n",
      "\u001B[34m2022-04-02 12:45:42,502 sagemaker_pytorch_container.training INFO     Invoking user training script.\u001B[0m\n",
      "\u001B[34m2022-04-02 12:45:42,722 sagemaker-containers INFO     Module train does not provide a setup.py. \u001B[0m\n",
      "\u001B[34mGenerating setup.py\u001B[0m\n",
      "\u001B[34m2022-04-02 12:45:42,722 sagemaker-containers INFO     Generating setup.cfg\u001B[0m\n",
      "\u001B[34m2022-04-02 12:45:42,722 sagemaker-containers INFO     Generating MANIFEST.in\u001B[0m\n",
      "\u001B[34m2022-04-02 12:45:42,722 sagemaker-containers INFO     Installing module with the following command:\u001B[0m\n",
      "\u001B[34m/usr/bin/python -m pip install -U . \u001B[0m\n",
      "\u001B[34mProcessing /opt/ml/code\u001B[0m\n",
      "\u001B[34mBuilding wheels for collected packages: train\n",
      "  Running setup.py bdist_wheel for train: started\n",
      "  Running setup.py bdist_wheel for train: finished with status 'done'\n",
      "  Stored in directory: /tmp/pip-ephem-wheel-cache-yzb2e6bd/wheels/35/24/16/37574d11bf9bde50616c67372a334f94fa8356bc7164af8ca3\u001B[0m\n",
      "\u001B[34mSuccessfully built train\u001B[0m\n",
      "\u001B[34mInstalling collected packages: train\u001B[0m\n",
      "\u001B[34mSuccessfully installed train-1.0.0\u001B[0m\n",
      "\u001B[34mYou are using pip version 18.1, however version 21.3.1 is available.\u001B[0m\n",
      "\u001B[34mYou should consider upgrading via the 'pip install --upgrade pip' command.\u001B[0m\n",
      "\u001B[34m2022-04-02 12:45:44,213 sagemaker-containers INFO     Invoking user script\u001B[0m\n",
      "\u001B[34mTraining Env:\u001B[0m\n",
      "\u001B[34m{\n",
      "    \"additional_framework_parameters\": {},\n",
      "    \"channel_input_dirs\": {\n",
      "        \"train\": \"/opt/ml/input/data/train\"\n",
      "    },\n",
      "    \"current_host\": \"algo-1\",\n",
      "    \"framework_module\": \"sagemaker_pytorch_container.training:main\",\n",
      "    \"hosts\": [\n",
      "        \"algo-1\"\n",
      "    ],\n",
      "    \"hyperparameters\": {\n",
      "        \"epochs\": 400,\n",
      "        \"hidden_dim\": 400,\n",
      "        \"input_features\": 3,\n",
      "        \"lr\": 0.001,\n",
      "        \"output_dim\": 1\n",
      "    },\n",
      "    \"input_config_dir\": \"/opt/ml/input/config\",\n",
      "    \"input_data_config\": {\n",
      "        \"train\": {\n",
      "            \"TrainingInputMode\": \"File\",\n",
      "            \"S3DistributionType\": \"FullyReplicated\",\n",
      "            \"RecordWrapperType\": \"None\"\n",
      "        }\n",
      "    },\n",
      "    \"input_dir\": \"/opt/ml/input\",\n",
      "    \"is_master\": true,\n",
      "    \"job_name\": \"sagemaker-pytorch-2022-04-02-12-43-07-794\",\n",
      "    \"log_level\": 20,\n",
      "    \"master_hostname\": \"algo-1\",\n",
      "    \"model_dir\": \"/opt/ml/model\",\n",
      "    \"module_dir\": \"s3://sagemaker-eu-west-2-214565185159/sagemaker-pytorch-2022-04-02-12-43-07-794/source/sourcedir.tar.gz\",\n",
      "    \"module_name\": \"train\",\n",
      "    \"network_interface_name\": \"eth0\",\n",
      "    \"num_cpus\": 32,\n",
      "    \"num_gpus\": 1,\n",
      "    \"output_data_dir\": \"/opt/ml/output/data\",\n",
      "    \"output_dir\": \"/opt/ml/output\",\n",
      "    \"output_intermediate_dir\": \"/opt/ml/output/intermediate\",\n",
      "    \"resource_config\": {\n",
      "        \"current_host\": \"algo-1\",\n",
      "        \"current_instance_type\": \"ml.g4dn.8xlarge\",\n",
      "        \"current_group_name\": \"homogeneousCluster\",\n",
      "        \"hosts\": [\n",
      "            \"algo-1\"\n",
      "        ],\n",
      "        \"instance_groups\": [\n",
      "            {\n",
      "                \"instance_group_name\": \"homogeneousCluster\",\n",
      "                \"instance_type\": \"ml.g4dn.8xlarge\",\n",
      "                \"hosts\": [\n",
      "                    \"algo-1\"\n",
      "                ]\n",
      "            }\n",
      "        ],\n",
      "        \"network_interface_name\": \"eth0\"\n",
      "    },\n",
      "    \"user_entry_point\": \"train.py\"\u001B[0m\n",
      "\u001B[34m}\u001B[0m\n",
      "\u001B[34mEnvironment variables:\u001B[0m\n",
      "\u001B[34mSM_HOSTS=[\"algo-1\"]\u001B[0m\n",
      "\u001B[34mSM_NETWORK_INTERFACE_NAME=eth0\u001B[0m\n",
      "\u001B[34mSM_HPS={\"epochs\":400,\"hidden_dim\":400,\"input_features\":3,\"lr\":0.001,\"output_dim\":1}\u001B[0m\n",
      "\u001B[34mSM_USER_ENTRY_POINT=train.py\u001B[0m\n",
      "\u001B[34mSM_FRAMEWORK_PARAMS={}\u001B[0m\n",
      "\u001B[34mSM_RESOURCE_CONFIG={\"current_group_name\":\"homogeneousCluster\",\"current_host\":\"algo-1\",\"current_instance_type\":\"ml.g4dn.8xlarge\",\"hosts\":[\"algo-1\"],\"instance_groups\":[{\"hosts\":[\"algo-1\"],\"instance_group_name\":\"homogeneousCluster\",\"instance_type\":\"ml.g4dn.8xlarge\"}],\"network_interface_name\":\"eth0\"}\u001B[0m\n",
      "\u001B[34mSM_INPUT_DATA_CONFIG={\"train\":{\"RecordWrapperType\":\"None\",\"S3DistributionType\":\"FullyReplicated\",\"TrainingInputMode\":\"File\"}}\u001B[0m\n",
      "\u001B[34mSM_OUTPUT_DATA_DIR=/opt/ml/output/data\u001B[0m\n",
      "\u001B[34mSM_CHANNELS=[\"train\"]\u001B[0m\n",
      "\u001B[34mSM_CURRENT_HOST=algo-1\u001B[0m\n",
      "\u001B[34mSM_MODULE_NAME=train\u001B[0m\n",
      "\u001B[34mSM_LOG_LEVEL=20\u001B[0m\n",
      "\u001B[34mSM_FRAMEWORK_MODULE=sagemaker_pytorch_container.training:main\u001B[0m\n",
      "\u001B[34mSM_INPUT_DIR=/opt/ml/input\u001B[0m\n",
      "\u001B[34mSM_INPUT_CONFIG_DIR=/opt/ml/input/config\u001B[0m\n",
      "\u001B[34mSM_OUTPUT_DIR=/opt/ml/output\u001B[0m\n",
      "\u001B[34mSM_NUM_CPUS=32\u001B[0m\n",
      "\u001B[34mSM_NUM_GPUS=1\u001B[0m\n",
      "\u001B[34mSM_MODEL_DIR=/opt/ml/model\u001B[0m\n",
      "\u001B[34mSM_MODULE_DIR=s3://sagemaker-eu-west-2-214565185159/sagemaker-pytorch-2022-04-02-12-43-07-794/source/sourcedir.tar.gz\u001B[0m\n",
      "\u001B[34mSM_TRAINING_ENV={\"additional_framework_parameters\":{},\"channel_input_dirs\":{\"train\":\"/opt/ml/input/data/train\"},\"current_host\":\"algo-1\",\"framework_module\":\"sagemaker_pytorch_container.training:main\",\"hosts\":[\"algo-1\"],\"hyperparameters\":{\"epochs\":400,\"hidden_dim\":400,\"input_features\":3,\"lr\":0.001,\"output_dim\":1},\"input_config_dir\":\"/opt/ml/input/config\",\"input_data_config\":{\"train\":{\"RecordWrapperType\":\"None\",\"S3DistributionType\":\"FullyReplicated\",\"TrainingInputMode\":\"File\"}},\"input_dir\":\"/opt/ml/input\",\"is_master\":true,\"job_name\":\"sagemaker-pytorch-2022-04-02-12-43-07-794\",\"log_level\":20,\"master_hostname\":\"algo-1\",\"model_dir\":\"/opt/ml/model\",\"module_dir\":\"s3://sagemaker-eu-west-2-214565185159/sagemaker-pytorch-2022-04-02-12-43-07-794/source/sourcedir.tar.gz\",\"module_name\":\"train\",\"network_interface_name\":\"eth0\",\"num_cpus\":32,\"num_gpus\":1,\"output_data_dir\":\"/opt/ml/output/data\",\"output_dir\":\"/opt/ml/output\",\"output_intermediate_dir\":\"/opt/ml/output/intermediate\",\"resource_config\":{\"current_group_name\":\"homogeneousCluster\",\"current_host\":\"algo-1\",\"current_instance_type\":\"ml.g4dn.8xlarge\",\"hosts\":[\"algo-1\"],\"instance_groups\":[{\"hosts\":[\"algo-1\"],\"instance_group_name\":\"homogeneousCluster\",\"instance_type\":\"ml.g4dn.8xlarge\"}],\"network_interface_name\":\"eth0\"},\"user_entry_point\":\"train.py\"}\u001B[0m\n",
      "\u001B[34mSM_USER_ARGS=[\"--epochs\",\"400\",\"--hidden_dim\",\"400\",\"--input_features\",\"3\",\"--lr\",\"0.001\",\"--output_dim\",\"1\"]\u001B[0m\n",
      "\u001B[34mSM_OUTPUT_INTERMEDIATE_DIR=/opt/ml/output/intermediate\u001B[0m\n",
      "\u001B[34mSM_CHANNEL_TRAIN=/opt/ml/input/data/train\u001B[0m\n",
      "\u001B[34mSM_HP_EPOCHS=400\u001B[0m\n",
      "\u001B[34mSM_HP_HIDDEN_DIM=400\u001B[0m\n",
      "\u001B[34mSM_HP_INPUT_FEATURES=3\u001B[0m\n",
      "\u001B[34mSM_HP_LR=0.001\u001B[0m\n",
      "\u001B[34mSM_HP_OUTPUT_DIM=1\u001B[0m\n",
      "\u001B[34mPYTHONPATH=/usr/local/bin:/usr/lib/python36.zip:/usr/lib/python3.6:/usr/lib/python3.6/lib-dynload:/usr/local/lib/python3.6/dist-packages:/usr/lib/python3/dist-packages\u001B[0m\n",
      "\u001B[34mInvoking script with the following command:\u001B[0m\n",
      "\u001B[34m/usr/bin/python -m train --epochs 400 --hidden_dim 400 --input_features 3 --lr 0.001 --output_dim 1\u001B[0m\n",
      "\u001B[34mUsing device cuda.\u001B[0m\n",
      "\u001B[34mGet train data loader.\u001B[0m\n",
      "\u001B[34mEpoch: 1, Loss: 0.7059854865074158\u001B[0m\n",
      "\u001B[34mEpoch: 2, Loss: 0.6306054847581046\u001B[0m\n",
      "\u001B[34mEpoch: 3, Loss: 0.581245413848332\u001B[0m\n",
      "\u001B[34mEpoch: 4, Loss: 0.5717174368245261\u001B[0m\n",
      "\u001B[34mEpoch: 5, Loss: 0.5570277741977147\u001B[0m\n",
      "\u001B[34mEpoch: 6, Loss: 0.5431902919496808\u001B[0m\n",
      "\u001B[34mEpoch: 7, Loss: 0.5160148952688489\u001B[0m\n",
      "\u001B[34mEpoch: 8, Loss: 0.49485532300812857\u001B[0m\n",
      "\u001B[34mEpoch: 9, Loss: 0.49302540506635395\u001B[0m\n",
      "\u001B[34mEpoch: 10, Loss: 0.4701421558856964\u001B[0m\n",
      "\u001B[34mEpoch: 11, Loss: 0.44773403235844206\u001B[0m\n",
      "\u001B[34mEpoch: 12, Loss: 0.4304154855864389\u001B[0m\n",
      "\u001B[34mEpoch: 13, Loss: 0.4222050224031721\u001B[0m\n",
      "\u001B[34mEpoch: 14, Loss: 0.4010890083653586\u001B[0m\n",
      "\u001B[34mEpoch: 15, Loss: 0.40203596012932913\u001B[0m\n",
      "\u001B[34mEpoch: 16, Loss: 0.38026709641729084\u001B[0m\n",
      "\u001B[34mEpoch: 17, Loss: 0.3679241921220507\u001B[0m\n",
      "\u001B[34mEpoch: 18, Loss: 0.36722096375056673\u001B[0m\n",
      "\u001B[34mEpoch: 19, Loss: 0.3641481229237148\u001B[0m\n",
      "\u001B[34mEpoch: 20, Loss: 0.35228403551237925\u001B[0m\n",
      "\u001B[34mEpoch: 21, Loss: 0.33494784789425985\u001B[0m\n",
      "\u001B[34mEpoch: 22, Loss: 0.3299639906202044\u001B[0m\n",
      "\u001B[34mEpoch: 23, Loss: 0.3078546332461493\u001B[0m\n",
      "\u001B[34mEpoch: 24, Loss: 0.31822096024240765\u001B[0m\n",
      "\u001B[34mEpoch: 25, Loss: 0.3069321023566382\u001B[0m\n",
      "\u001B[34mEpoch: 26, Loss: 0.30196280564580646\u001B[0m\n",
      "\u001B[34mEpoch: 27, Loss: 0.29935779316084726\u001B[0m\n",
      "\u001B[34mEpoch: 28, Loss: 0.2832113632134029\u001B[0m\n",
      "\u001B[34mEpoch: 29, Loss: 0.2878500691481999\u001B[0m\n",
      "\u001B[34mEpoch: 30, Loss: 0.2833830416202545\u001B[0m\n",
      "\u001B[34mEpoch: 31, Loss: 0.2822679653763771\u001B[0m\n",
      "\u001B[34mEpoch: 32, Loss: 0.28087383189371656\u001B[0m\n",
      "\u001B[34mEpoch: 33, Loss: 0.2712997261966978\u001B[0m\n",
      "\u001B[34mEpoch: 34, Loss: 0.2730189583131245\u001B[0m\n",
      "\u001B[34mEpoch: 35, Loss: 0.2647020752940859\u001B[0m\n",
      "\u001B[34mEpoch: 36, Loss: 0.260778471827507\u001B[0m\n",
      "\u001B[34mEpoch: 37, Loss: 0.2637673573834555\u001B[0m\n",
      "\u001B[34mEpoch: 38, Loss: 0.26750733596938\u001B[0m\n",
      "\u001B[34mEpoch: 39, Loss: 0.26350954813616617\u001B[0m\n",
      "\u001B[34mEpoch: 40, Loss: 0.25936316166605267\u001B[0m\n",
      "\u001B[34mEpoch: 41, Loss: 0.25185229629278183\u001B[0m\n",
      "\u001B[34mEpoch: 42, Loss: 0.23999982752970286\u001B[0m\n",
      "\u001B[34mEpoch: 43, Loss: 0.2505747952631542\u001B[0m\n",
      "\u001B[34mEpoch: 44, Loss: 0.25949125843388693\u001B[0m\n",
      "\u001B[34mEpoch: 45, Loss: 0.244179901267801\u001B[0m\n",
      "\u001B[34mEpoch: 46, Loss: 0.22906854535852159\u001B[0m\n",
      "\u001B[34mEpoch: 47, Loss: 0.2475017202751977\u001B[0m\n",
      "\u001B[34mEpoch: 48, Loss: 0.24595353645937784\u001B[0m\n",
      "\u001B[34mEpoch: 49, Loss: 0.2590759407196726\u001B[0m\n",
      "\u001B[34mEpoch: 50, Loss: 0.24188761625971114\u001B[0m\n",
      "\u001B[34mEpoch: 51, Loss: 0.2463786197560174\u001B[0m\n",
      "\u001B[34mEpoch: 52, Loss: 0.23184807811464583\u001B[0m\n",
      "\u001B[34mEpoch: 53, Loss: 0.23938383694205964\u001B[0m\n",
      "\u001B[34mEpoch: 54, Loss: 0.22567526144640787\u001B[0m\n",
      "\u001B[34mEpoch: 55, Loss: 0.238011505986963\u001B[0m\n",
      "\u001B[34mEpoch: 56, Loss: 0.23816056975296565\u001B[0m\n",
      "\u001B[34mEpoch: 57, Loss: 0.23480785531657083\u001B[0m\n",
      "\u001B[34mEpoch: 58, Loss: 0.23430049419403076\u001B[0m\n",
      "\u001B[34mEpoch: 59, Loss: 0.23293307104281016\u001B[0m\n",
      "\u001B[34mEpoch: 60, Loss: 0.2440655039889472\u001B[0m\n",
      "\u001B[34mEpoch: 61, Loss: 0.2240217700600624\u001B[0m\n",
      "\u001B[34mEpoch: 62, Loss: 0.2233786146555628\u001B[0m\n",
      "\u001B[34mEpoch: 63, Loss: 0.22706137491124018\u001B[0m\n",
      "\u001B[34mEpoch: 64, Loss: 0.22717755820069993\u001B[0m\n",
      "\u001B[34mEpoch: 65, Loss: 0.23833150203738893\u001B[0m\n",
      "\u001B[34mEpoch: 66, Loss: 0.22844490621771132\u001B[0m\n",
      "\u001B[34mEpoch: 67, Loss: 0.2106274249298232\u001B[0m\n",
      "\u001B[34mEpoch: 68, Loss: 0.22409837586539133\u001B[0m\n",
      "\u001B[34mEpoch: 69, Loss: 0.2235260967697416\u001B[0m\n",
      "\u001B[34mEpoch: 70, Loss: 0.21710811448948725\u001B[0m\n",
      "\u001B[34mEpoch: 71, Loss: 0.22372296452522278\u001B[0m\n",
      "\u001B[34mEpoch: 72, Loss: 0.23030871046440943\u001B[0m\n",
      "\u001B[34mEpoch: 73, Loss: 0.2248556220105716\u001B[0m\n",
      "\u001B[34mEpoch: 74, Loss: 0.22493100804941996\u001B[0m\n",
      "\u001B[34mEpoch: 75, Loss: 0.21598025730678014\u001B[0m\n",
      "\u001B[34mEpoch: 76, Loss: 0.23568712919950485\u001B[0m\n",
      "\u001B[34mEpoch: 77, Loss: 0.224178141781262\u001B[0m\n",
      "\u001B[34mEpoch: 78, Loss: 0.21670199717794145\u001B[0m\n",
      "\u001B[34mEpoch: 79, Loss: 0.23157390100615366\u001B[0m\n",
      "\u001B[34mEpoch: 80, Loss: 0.22421604288475855\u001B[0m\n",
      "\u001B[34mEpoch: 81, Loss: 0.20873863995075226\u001B[0m\n",
      "\u001B[34mEpoch: 82, Loss: 0.2185786265347685\u001B[0m\n",
      "\u001B[34mEpoch: 83, Loss: 0.20387555712035724\u001B[0m\n",
      "\u001B[34mEpoch: 84, Loss: 0.23907057515212468\u001B[0m\n",
      "\u001B[34mEpoch: 85, Loss: 0.20787210975374495\u001B[0m\n",
      "\u001B[34mEpoch: 86, Loss: 0.21172466075846127\u001B[0m\n",
      "\u001B[34mEpoch: 87, Loss: 0.2217932061425277\u001B[0m\n",
      "\u001B[34mEpoch: 88, Loss: 0.2243911698460579\u001B[0m\n",
      "\u001B[34mEpoch: 89, Loss: 0.20661879437310354\u001B[0m\n",
      "\u001B[34mEpoch: 90, Loss: 0.21263153105974197\u001B[0m\n",
      "\u001B[34mEpoch: 91, Loss: 0.21475760000092642\u001B[0m\n",
      "\u001B[34mEpoch: 92, Loss: 0.21823002185140336\u001B[0m\n",
      "\u001B[34mEpoch: 93, Loss: 0.20101076364517212\u001B[0m\n",
      "\u001B[34mEpoch: 94, Loss: 0.21976143653903688\u001B[0m\n",
      "\u001B[34mEpoch: 95, Loss: 0.21432415129882948\u001B[0m\n",
      "\u001B[34mEpoch: 96, Loss: 0.22115874290466309\u001B[0m\n",
      "\u001B[34mEpoch: 97, Loss: 0.23209397228700773\u001B[0m\n",
      "\u001B[34mEpoch: 98, Loss: 0.2253399517919336\u001B[0m\n",
      "\u001B[34mEpoch: 99, Loss: 0.20888227650097438\u001B[0m\n",
      "\u001B[34mEpoch: 100, Loss: 0.21881908071892603\u001B[0m\n",
      "\u001B[34mEpoch: 101, Loss: 0.22331567321504867\u001B[0m\n",
      "\u001B[34mEpoch: 102, Loss: 0.21508033467190607\u001B[0m\n",
      "\u001B[34mEpoch: 103, Loss: 0.22347896652562277\u001B[0m\n",
      "\u001B[34mEpoch: 104, Loss: 0.19531984627246857\u001B[0m\n",
      "\u001B[34mEpoch: 105, Loss: 0.21808389574289322\u001B[0m\n",
      "\u001B[34mEpoch: 106, Loss: 0.21659842346395766\u001B[0m\n",
      "\u001B[34mEpoch: 107, Loss: 0.1986971806202616\u001B[0m\n",
      "\u001B[34mEpoch: 108, Loss: 0.20482838207057544\u001B[0m\n",
      "\u001B[34mEpoch: 109, Loss: 0.20324967056512833\u001B[0m\n",
      "\u001B[34mEpoch: 110, Loss: 0.21397013536521367\u001B[0m\n",
      "\u001B[34mEpoch: 111, Loss: 0.20929837652615138\u001B[0m\n",
      "\u001B[34mEpoch: 112, Loss: 0.2124797733766692\u001B[0m\n",
      "\u001B[34mEpoch: 113, Loss: 0.20443122940404074\u001B[0m\n",
      "\u001B[34mEpoch: 114, Loss: 0.19443771402750695\u001B[0m\n",
      "\u001B[34mEpoch: 115, Loss: 0.2030416801571846\u001B[0m\n",
      "\u001B[34mEpoch: 116, Loss: 0.21185115299054555\u001B[0m\n",
      "\u001B[34mEpoch: 117, Loss: 0.2069117192711149\u001B[0m\n",
      "\u001B[34mEpoch: 118, Loss: 0.2065554271851267\u001B[0m\n",
      "\u001B[34mEpoch: 119, Loss: 0.21604485011526517\u001B[0m\n",
      "\u001B[34mEpoch: 120, Loss: 0.20291928042258536\u001B[0m\n",
      "\u001B[34mEpoch: 121, Loss: 0.20080687318529403\u001B[0m\n",
      "\u001B[34mEpoch: 122, Loss: 0.1948838010430336\u001B[0m\n",
      "\u001B[34mEpoch: 123, Loss: 0.21695972021136964\u001B[0m\n",
      "\u001B[34mEpoch: 124, Loss: 0.20934791756527765\u001B[0m\n",
      "\u001B[34mEpoch: 125, Loss: 0.2086130210331508\u001B[0m\n",
      "\u001B[34mEpoch: 126, Loss: 0.21894249213593348\u001B[0m\n",
      "\u001B[34mEpoch: 127, Loss: 0.20238437982542173\u001B[0m\n",
      "\u001B[34mEpoch: 128, Loss: 0.20420908502170018\u001B[0m\n",
      "\u001B[34mEpoch: 129, Loss: 0.19013959914445877\u001B[0m\n",
      "\u001B[34mEpoch: 130, Loss: 0.20741295920951025\u001B[0m\n",
      "\u001B[34mEpoch: 131, Loss: 0.21990259204592025\u001B[0m\n",
      "\u001B[34mEpoch: 132, Loss: 0.19937763948525702\u001B[0m\n",
      "\u001B[34mEpoch: 133, Loss: 0.21600985527038574\u001B[0m\n",
      "\u001B[34mEpoch: 134, Loss: 0.21476740656154497\u001B[0m\n",
      "\u001B[34mEpoch: 135, Loss: 0.21801879097308433\u001B[0m\n",
      "\u001B[34mEpoch: 136, Loss: 0.19615511915513448\u001B[0m\n",
      "\u001B[34mEpoch: 137, Loss: 0.20591132236378534\u001B[0m\n",
      "\u001B[34mEpoch: 138, Loss: 0.21022895297833852\u001B[0m\n",
      "\u001B[34mEpoch: 139, Loss: 0.20096107785190856\u001B[0m\n",
      "\u001B[34mEpoch: 140, Loss: 0.19788253839526856\u001B[0m\n",
      "\u001B[34mEpoch: 141, Loss: 0.1983903625181743\u001B[0m\n",
      "\u001B[34mEpoch: 142, Loss: 0.2027177576507841\u001B[0m\n",
      "\u001B[34mEpoch: 143, Loss: 0.21536237107855932\u001B[0m\n",
      "\u001B[34mEpoch: 144, Loss: 0.21182716371757643\u001B[0m\n",
      "\u001B[34mEpoch: 145, Loss: 0.21821520796843938\u001B[0m\n",
      "\u001B[34mEpoch: 146, Loss: 0.2087294672216688\u001B[0m\n",
      "\u001B[34mEpoch: 147, Loss: 0.19586483389139175\u001B[0m\n",
      "\u001B[34mEpoch: 148, Loss: 0.2110707387328148\u001B[0m\n",
      "\u001B[34mEpoch: 149, Loss: 0.19700417241879872\u001B[0m\n",
      "\u001B[34mEpoch: 150, Loss: 0.21199469481195723\u001B[0m\n",
      "\u001B[34mEpoch: 151, Loss: 0.21260560570018633\u001B[0m\n",
      "\u001B[34mEpoch: 152, Loss: 0.188971289566585\u001B[0m\n",
      "\u001B[34mEpoch: 153, Loss: 0.18220298045447894\u001B[0m\n",
      "\u001B[34mEpoch: 154, Loss: 0.2188793814608029\u001B[0m\n",
      "\u001B[34mEpoch: 155, Loss: 0.21369419246912003\u001B[0m\n",
      "\u001B[34mEpoch: 156, Loss: 0.20019268191286496\u001B[0m\n",
      "\u001B[34mEpoch: 157, Loss: 0.2057137138077191\u001B[0m\n",
      "\u001B[34mEpoch: 158, Loss: 0.19477389486772673\u001B[0m\n",
      "\u001B[34mEpoch: 159, Loss: 0.20720225785459792\u001B[0m\n",
      "\u001B[34mEpoch: 160, Loss: 0.21354385252509797\u001B[0m\n",
      "\u001B[34mEpoch: 161, Loss: 0.18562655576637813\u001B[0m\n",
      "\u001B[34mEpoch: 162, Loss: 0.2000663759452956\u001B[0m\n",
      "\u001B[34mEpoch: 163, Loss: 0.2113942259124347\u001B[0m\n",
      "\u001B[34mEpoch: 164, Loss: 0.2043634754206453\u001B[0m\n",
      "\u001B[34mEpoch: 165, Loss: 0.19982488666261947\u001B[0m\n",
      "\u001B[34mEpoch: 166, Loss: 0.21436509862542152\u001B[0m\n",
      "\u001B[34mEpoch: 167, Loss: 0.19668125254767282\u001B[0m\n",
      "\u001B[34mEpoch: 168, Loss: 0.20029946097305842\u001B[0m\n",
      "\u001B[34mEpoch: 169, Loss: 0.20301273678030288\u001B[0m\n",
      "\u001B[34mEpoch: 170, Loss: 0.19031689262815885\u001B[0m\n",
      "\u001B[34mEpoch: 171, Loss: 0.20502725935408048\u001B[0m\n",
      "\u001B[34mEpoch: 172, Loss: 0.1927681341767311\u001B[0m\n",
      "\u001B[34mEpoch: 173, Loss: 0.21098266382302558\u001B[0m\n",
      "\u001B[34mEpoch: 174, Loss: 0.19618467560836247\u001B[0m\n",
      "\u001B[34mEpoch: 175, Loss: 0.18919698202184268\u001B[0m\n",
      "\u001B[34mEpoch: 176, Loss: 0.19921028773699487\u001B[0m\n",
      "\u001B[34mEpoch: 177, Loss: 0.1925762625677245\u001B[0m\n",
      "\u001B[34mEpoch: 178, Loss: 0.19187962849225318\u001B[0m\n",
      "\u001B[34mEpoch: 179, Loss: 0.20856898011905806\u001B[0m\n",
      "\u001B[34mEpoch: 180, Loss: 0.19888332273278916\u001B[0m\n",
      "\u001B[34mEpoch: 181, Loss: 0.1923161388507911\u001B[0m\n",
      "\u001B[34mEpoch: 182, Loss: 0.19365637855870382\u001B[0m\n",
      "\u001B[34mEpoch: 183, Loss: 0.19612268837434904\u001B[0m\n",
      "\u001B[34mEpoch: 184, Loss: 0.2053628840616771\u001B[0m\n",
      "\u001B[34mEpoch: 185, Loss: 0.19021326303482056\u001B[0m\n",
      "\u001B[34mEpoch: 186, Loss: 0.1928927398153714\u001B[0m\n",
      "\u001B[34mEpoch: 187, Loss: 0.20394795281546457\u001B[0m\n",
      "\u001B[34mEpoch: 188, Loss: 0.19266817718744278\u001B[0m\n",
      "\u001B[34mEpoch: 189, Loss: 0.1916396181498255\u001B[0m\n",
      "\u001B[34mEpoch: 190, Loss: 0.20184909711991036\u001B[0m\n",
      "\u001B[34mEpoch: 191, Loss: 0.19368152746132442\u001B[0m\n",
      "\u001B[34mEpoch: 192, Loss: 0.2002380894763129\u001B[0m\n",
      "\u001B[34mEpoch: 193, Loss: 0.1813392804137298\u001B[0m\n",
      "\u001B[34mEpoch: 194, Loss: 0.18123864329286984\u001B[0m\n",
      "\u001B[34mEpoch: 195, Loss: 0.19738269597291946\u001B[0m\n",
      "\u001B[34mEpoch: 196, Loss: 0.19446893302457674\u001B[0m\n",
      "\u001B[34mEpoch: 197, Loss: 0.1816619448363781\u001B[0m\n",
      "\u001B[34mEpoch: 198, Loss: 0.17552028064216887\u001B[0m\n",
      "\u001B[34mEpoch: 199, Loss: 0.18958935301218713\u001B[0m\n",
      "\u001B[34mEpoch: 200, Loss: 0.19355963596275874\u001B[0m\n",
      "\u001B[34mEpoch: 201, Loss: 0.20799539663961955\u001B[0m\n",
      "\u001B[34mEpoch: 202, Loss: 0.19767998052494867\u001B[0m\n",
      "\u001B[34mEpoch: 203, Loss: 0.1887514048389026\u001B[0m\n",
      "\u001B[34mEpoch: 204, Loss: 0.2052252127655915\u001B[0m\n",
      "\u001B[34mEpoch: 205, Loss: 0.17223323243004934\u001B[0m\n",
      "\u001B[34mEpoch: 206, Loss: 0.19236222441707337\u001B[0m\n",
      "\u001B[34mEpoch: 207, Loss: 0.21420139925820486\u001B[0m\n",
      "\u001B[34mEpoch: 208, Loss: 0.19105598330497742\u001B[0m\n",
      "\u001B[34mEpoch: 209, Loss: 0.20644280367663928\u001B[0m\n",
      "\u001B[34mEpoch: 210, Loss: 0.1863949421261038\u001B[0m\n",
      "\u001B[34mEpoch: 211, Loss: 0.1992563626595906\u001B[0m\n",
      "\u001B[34mEpoch: 212, Loss: 0.2021780971969877\u001B[0m\n",
      "\u001B[34mEpoch: 213, Loss: 0.18989811252270425\u001B[0m\n",
      "\u001B[34mEpoch: 214, Loss: 0.19699331426194736\u001B[0m\n",
      "\u001B[34mEpoch: 215, Loss: 0.186949080654553\u001B[0m\n",
      "\u001B[34mEpoch: 216, Loss: 0.19789030935083116\u001B[0m\n",
      "\u001B[34mEpoch: 217, Loss: 0.1985734168972288\u001B[0m\n",
      "\u001B[34mEpoch: 218, Loss: 0.18544455245137215\u001B[0m\n",
      "\u001B[34mEpoch: 219, Loss: 0.1971812913460391\u001B[0m\n",
      "\u001B[34mEpoch: 220, Loss: 0.1929559846009527\u001B[0m\n",
      "\u001B[34mEpoch: 221, Loss: 0.19342520354049547\u001B[0m\n",
      "\u001B[34mEpoch: 222, Loss: 0.19390803681952612\u001B[0m\n",
      "\u001B[34mEpoch: 223, Loss: 0.17739287125212805\u001B[0m\n",
      "\u001B[34mEpoch: 224, Loss: 0.1776578277349472\u001B[0m\n",
      "\u001B[34mEpoch: 225, Loss: 0.1958368867635727\u001B[0m\n",
      "\u001B[34mEpoch: 226, Loss: 0.19211809656449727\u001B[0m\n",
      "\u001B[34mEpoch: 227, Loss: 0.19448428973555565\u001B[0m\n",
      "\u001B[34mEpoch: 228, Loss: 0.18822306713887624\u001B[0m\n",
      "\u001B[34mEpoch: 229, Loss: 0.18788328553949082\u001B[0m\n",
      "\u001B[34mEpoch: 230, Loss: 0.1816823807145868\u001B[0m\n",
      "\u001B[34mEpoch: 231, Loss: 0.20160295920712606\u001B[0m\n",
      "\u001B[34mEpoch: 232, Loss: 0.19645668406571662\u001B[0m\n",
      "\u001B[34mEpoch: 233, Loss: 0.17591034940310887\u001B[0m\n",
      "\u001B[34mEpoch: 234, Loss: 0.18428944583450044\u001B[0m\n",
      "\u001B[34mEpoch: 235, Loss: 0.18892033504588263\u001B[0m\n",
      "\u001B[34mEpoch: 236, Loss: 0.1838465364915984\u001B[0m\n",
      "\u001B[34mEpoch: 237, Loss: 0.1941696314939431\u001B[0m\n",
      "\u001B[34mEpoch: 238, Loss: 0.18089839124253818\u001B[0m\n",
      "\u001B[34mEpoch: 239, Loss: 0.1966185426073415\u001B[0m\n",
      "\u001B[34mEpoch: 240, Loss: 0.19198121236903326\u001B[0m\n",
      "\u001B[34mEpoch: 241, Loss: 0.1977909728884697\u001B[0m\n",
      "\u001B[34mEpoch: 242, Loss: 0.1819059651877199\u001B[0m\n",
      "\u001B[34mEpoch: 243, Loss: 0.18382539440478599\u001B[0m\n",
      "\u001B[34mEpoch: 244, Loss: 0.18600624852946826\u001B[0m\n",
      "\u001B[34mEpoch: 245, Loss: 0.19185500432338035\u001B[0m\n",
      "\u001B[34mEpoch: 246, Loss: 0.18570966592856816\u001B[0m\n",
      "\u001B[34mEpoch: 247, Loss: 0.2035410308412143\u001B[0m\n",
      "\u001B[34mEpoch: 248, Loss: 0.1867550744542054\u001B[0m\n",
      "\u001B[34mEpoch: 249, Loss: 0.18279253265687398\u001B[0m\n",
      "\u001B[34mEpoch: 250, Loss: 0.2003836610487529\u001B[0m\n",
      "\u001B[34mEpoch: 251, Loss: 0.19508808638368333\u001B[0m\n",
      "\u001B[34mEpoch: 252, Loss: 0.18216917557375772\u001B[0m\n",
      "\u001B[34mEpoch: 253, Loss: 0.2002559852387224\u001B[0m\n",
      "\u001B[34mEpoch: 254, Loss: 0.20078482691730773\u001B[0m\n",
      "\u001B[34mEpoch: 255, Loss: 0.20028285256453923\u001B[0m\n",
      "\u001B[34mEpoch: 256, Loss: 0.2005227617919445\u001B[0m\n",
      "\u001B[34mEpoch: 257, Loss: 0.18951028798307692\u001B[0m\n",
      "\u001B[34mEpoch: 258, Loss: 0.18802807799407414\u001B[0m\n",
      "\u001B[34mEpoch: 259, Loss: 0.18893550868545259\u001B[0m\n",
      "\u001B[34mEpoch: 260, Loss: 0.18561266362667084\u001B[0m\n",
      "\u001B[34mEpoch: 261, Loss: 0.18525704901133264\u001B[0m\n",
      "\u001B[34mEpoch: 262, Loss: 0.17991651275328227\u001B[0m\n",
      "\u001B[34mEpoch: 263, Loss: 0.18390937681709016\u001B[0m\n",
      "\u001B[34mEpoch: 264, Loss: 0.17967110286865914\u001B[0m\n",
      "\u001B[34mEpoch: 265, Loss: 0.2011609242430755\u001B[0m\n",
      "\u001B[34mEpoch: 266, Loss: 0.19509279940809524\u001B[0m\n",
      "\u001B[34mEpoch: 267, Loss: 0.1961636287825448\u001B[0m\n",
      "\u001B[34mEpoch: 268, Loss: 0.193814111075231\u001B[0m\n",
      "\u001B[34mEpoch: 269, Loss: 0.185929536819458\u001B[0m\n",
      "\u001B[34mEpoch: 270, Loss: 0.18796939083508082\u001B[0m\n",
      "\u001B[34mEpoch: 271, Loss: 0.18818166319813048\u001B[0m\n",
      "\u001B[34mEpoch: 272, Loss: 0.1991503137562956\u001B[0m\n",
      "\u001B[34mEpoch: 273, Loss: 0.1814966680748122\u001B[0m\n",
      "\u001B[34mEpoch: 274, Loss: 0.19440632898892676\u001B[0m\n",
      "\u001B[34mEpoch: 275, Loss: 0.17987485176750592\u001B[0m\n",
      "\u001B[34mEpoch: 276, Loss: 0.18391266837716103\u001B[0m\n",
      "\u001B[34mEpoch: 277, Loss: 0.19676073480929648\u001B[0m\n",
      "\u001B[34mEpoch: 278, Loss: 0.18568249578986848\u001B[0m\n",
      "\u001B[34mEpoch: 279, Loss: 0.18906818915690696\u001B[0m\n",
      "\u001B[34mEpoch: 280, Loss: 0.19704739430121013\u001B[0m\n",
      "\u001B[34mEpoch: 281, Loss: 0.17706578065242087\u001B[0m\n",
      "\u001B[34mEpoch: 282, Loss: 0.1714754051395825\u001B[0m\n",
      "\u001B[34mEpoch: 283, Loss: 0.18955926597118378\u001B[0m\n",
      "\u001B[34mEpoch: 284, Loss: 0.19057570451072284\u001B[0m\n",
      "\u001B[34mEpoch: 285, Loss: 0.1786462308040687\u001B[0m\n",
      "\u001B[34mEpoch: 286, Loss: 0.18759729181017196\u001B[0m\n",
      "\u001B[34mEpoch: 287, Loss: 0.19962699658104352\u001B[0m\n",
      "\u001B[34mEpoch: 288, Loss: 0.17778545564838819\u001B[0m\n",
      "\u001B[34mEpoch: 289, Loss: 0.18296483850904874\u001B[0m\n",
      "\u001B[34mEpoch: 290, Loss: 0.1880441451711314\u001B[0m\n",
      "\u001B[34mEpoch: 291, Loss: 0.18237808612840517\u001B[0m\n",
      "\u001B[34mEpoch: 292, Loss: 0.17053909599781036\u001B[0m\n",
      "\u001B[34mEpoch: 293, Loss: 0.18096360564231873\u001B[0m\n",
      "\u001B[34mEpoch: 294, Loss: 0.18141114179577147\u001B[0m\n",
      "\u001B[34mEpoch: 295, Loss: 0.18067822179624013\u001B[0m\n",
      "\u001B[34mEpoch: 296, Loss: 0.19564086464898928\u001B[0m\n",
      "\u001B[34mEpoch: 297, Loss: 0.19845872638481005\u001B[0m\n",
      "\u001B[34mEpoch: 298, Loss: 0.19500303800616944\u001B[0m\n",
      "\u001B[34mEpoch: 299, Loss: 0.20272329289998328\u001B[0m\n",
      "\u001B[34mEpoch: 300, Loss: 0.18731274509004184\u001B[0m\n",
      "\u001B[34mEpoch: 301, Loss: 0.18374862202576228\u001B[0m\n",
      "\u001B[34mEpoch: 302, Loss: 0.18003255128860474\u001B[0m\n",
      "\u001B[34mEpoch: 303, Loss: 0.1708818365420614\u001B[0m\n",
      "\u001B[34mEpoch: 304, Loss: 0.19564631687743322\u001B[0m\n",
      "\u001B[34mEpoch: 305, Loss: 0.1738813663167613\u001B[0m\n",
      "\u001B[34mEpoch: 306, Loss: 0.19163255287068232\u001B[0m\n",
      "\u001B[34mEpoch: 307, Loss: 0.19404776314539568\u001B[0m\n",
      "\u001B[34mEpoch: 308, Loss: 0.1839075998536178\u001B[0m\n",
      "\u001B[34mEpoch: 309, Loss: 0.18395573113645827\u001B[0m\n",
      "\u001B[34mEpoch: 310, Loss: 0.17556009867361613\u001B[0m\n",
      "\u001B[34mEpoch: 311, Loss: 0.20159087596195086\u001B[0m\n",
      "\u001B[34mEpoch: 312, Loss: 0.17179179776992118\u001B[0m\n",
      "\u001B[34mEpoch: 313, Loss: 0.1913071365228721\u001B[0m\n",
      "\u001B[34mEpoch: 314, Loss: 0.17994539918644087\u001B[0m\n",
      "\u001B[34mEpoch: 315, Loss: 0.17447550328714506\u001B[0m\n",
      "\u001B[34mEpoch: 316, Loss: 0.1742155392255102\u001B[0m\n",
      "\u001B[34mEpoch: 317, Loss: 0.17046628732766425\u001B[0m\n",
      "\u001B[34mEpoch: 318, Loss: 0.18541338773710386\u001B[0m\n",
      "\u001B[34mEpoch: 319, Loss: 0.17563083874327795\u001B[0m\n",
      "\u001B[34mEpoch: 320, Loss: 0.1881957980138915\u001B[0m\n",
      "\u001B[34mEpoch: 321, Loss: 0.17502473826919282\u001B[0m\n",
      "\u001B[34mEpoch: 322, Loss: 0.19193392087306296\u001B[0m\n",
      "\u001B[34mEpoch: 323, Loss: 0.18190725946000644\u001B[0m\n",
      "\u001B[34mEpoch: 324, Loss: 0.1747565194964409\u001B[0m\n",
      "\u001B[34mEpoch: 325, Loss: 0.1845086786363806\u001B[0m\n",
      "\u001B[34mEpoch: 326, Loss: 0.1939985789358616\u001B[0m\n",
      "\u001B[34mEpoch: 327, Loss: 0.18832885580403463\u001B[0m\n",
      "\u001B[34mEpoch: 328, Loss: 0.19765323719808034\u001B[0m\n",
      "\u001B[34mEpoch: 329, Loss: 0.17361951246857643\u001B[0m\n",
      "\u001B[34mEpoch: 330, Loss: 0.19680902734398842\u001B[0m\n",
      "\u001B[34mEpoch: 331, Loss: 0.18917777868253843\u001B[0m\n",
      "\u001B[34mEpoch: 332, Loss: 0.18713630789092608\u001B[0m\n",
      "\u001B[34mEpoch: 333, Loss: 0.1945815160870552\u001B[0m\n",
      "\u001B[34mEpoch: 334, Loss: 0.1991308762558869\u001B[0m\n",
      "\u001B[34mEpoch: 335, Loss: 0.18430275736110552\u001B[0m\n",
      "\u001B[34mEpoch: 336, Loss: 0.18541588740689413\u001B[0m\n",
      "\u001B[34mEpoch: 337, Loss: 0.18544234335422516\u001B[0m\n",
      "\u001B[34mEpoch: 338, Loss: 0.18228322746498243\u001B[0m\n",
      "\u001B[34mEpoch: 339, Loss: 0.19714379417044775\u001B[0m\n",
      "\u001B[34mEpoch: 340, Loss: 0.18689102945583208\u001B[0m\n",
      "\u001B[34mEpoch: 341, Loss: 0.1828703678080014\u001B[0m\n",
      "\u001B[34mEpoch: 342, Loss: 0.1745288563626153\u001B[0m\n",
      "\u001B[34mEpoch: 343, Loss: 0.17848719283938408\u001B[0m\n",
      "\u001B[34mEpoch: 344, Loss: 0.19338931941560336\u001B[0m\n",
      "\u001B[34mEpoch: 345, Loss: 0.17416676506400108\u001B[0m\n",
      "\u001B[34mEpoch: 346, Loss: 0.18406930565834045\u001B[0m\n",
      "\u001B[34mEpoch: 347, Loss: 0.19592968374490738\u001B[0m\n",
      "\u001B[34mEpoch: 348, Loss: 0.17658050571169173\u001B[0m\n",
      "\u001B[34mEpoch: 349, Loss: 0.19187675416469574\u001B[0m\n",
      "\u001B[34mEpoch: 350, Loss: 0.18752636866910116\u001B[0m\n",
      "\u001B[34mEpoch: 351, Loss: 0.18111744363393104\u001B[0m\n",
      "\u001B[34mEpoch: 352, Loss: 0.19385348420057977\u001B[0m\n",
      "\u001B[34mEpoch: 353, Loss: 0.18089029618671962\u001B[0m\n",
      "\u001B[34mEpoch: 354, Loss: 0.16486979595252446\u001B[0m\n",
      "\u001B[34mEpoch: 355, Loss: 0.17333197806562697\u001B[0m\n",
      "\u001B[34mEpoch: 356, Loss: 0.18333892710506916\u001B[0m\n",
      "\u001B[34mEpoch: 357, Loss: 0.1812949659568923\u001B[0m\n",
      "\u001B[34mEpoch: 358, Loss: 0.18897914992911474\u001B[0m\n",
      "\u001B[34mEpoch: 359, Loss: 0.18944337059344565\u001B[0m\n",
      "\u001B[34mEpoch: 360, Loss: 0.17511342146566936\u001B[0m\n",
      "\u001B[34mEpoch: 361, Loss: 0.17482515105179378\u001B[0m\n",
      "\u001B[34mEpoch: 362, Loss: 0.18319582992366382\u001B[0m\n",
      "\u001B[34mEpoch: 363, Loss: 0.18076599442533084\u001B[0m\n",
      "\u001B[34mEpoch: 364, Loss: 0.19243664400918142\u001B[0m\n",
      "\u001B[34mEpoch: 365, Loss: 0.16447989536183222\u001B[0m\n",
      "\u001B[34mEpoch: 366, Loss: 0.1894267691033227\u001B[0m\n",
      "\u001B[34mEpoch: 367, Loss: 0.18916262739471026\u001B[0m\n",
      "\u001B[34mEpoch: 368, Loss: 0.17393444212419645\u001B[0m\n",
      "\u001B[34mEpoch: 369, Loss: 0.1871559348489557\u001B[0m\n",
      "\u001B[34mEpoch: 370, Loss: 0.18619094416499138\u001B[0m\n",
      "\u001B[34mEpoch: 371, Loss: 0.20456582733563014\u001B[0m\n",
      "\u001B[34mEpoch: 372, Loss: 0.1798073292842933\u001B[0m\n",
      "\u001B[34mEpoch: 373, Loss: 0.1788648185985429\u001B[0m\n",
      "\u001B[34mEpoch: 374, Loss: 0.1789954182292734\u001B[0m\n",
      "\u001B[34mEpoch: 375, Loss: 0.1917431727051735\u001B[0m\n",
      "\u001B[34mEpoch: 376, Loss: 0.18387049915535109\u001B[0m\n",
      "\u001B[34mEpoch: 377, Loss: 0.18754330277442932\u001B[0m\n",
      "\u001B[34mEpoch: 378, Loss: 0.18800085836223193\u001B[0m\n",
      "\u001B[34mEpoch: 379, Loss: 0.16854007808225496\u001B[0m\n",
      "\u001B[34mEpoch: 380, Loss: 0.1912048671926771\u001B[0m\n",
      "\u001B[34mEpoch: 381, Loss: 0.17161512640970095\u001B[0m\n",
      "\u001B[34mEpoch: 382, Loss: 0.18258787904466903\u001B[0m\n",
      "\u001B[34mEpoch: 383, Loss: 0.18271628128630774\u001B[0m\n",
      "\u001B[34mEpoch: 384, Loss: 0.19068515886153495\u001B[0m\n",
      "\u001B[34mEpoch: 385, Loss: 0.17680865685854638\u001B[0m\n",
      "\u001B[34mEpoch: 386, Loss: 0.19583051013095037\u001B[0m\n",
      "\u001B[34mEpoch: 387, Loss: 0.17069986036845616\u001B[0m\n",
      "\u001B[34mEpoch: 388, Loss: 0.19461800583771297\u001B[0m\n",
      "\u001B[34mEpoch: 389, Loss: 0.16520348670227186\u001B[0m\n",
      "\u001B[34mEpoch: 390, Loss: 0.16814465820789337\u001B[0m\n",
      "\u001B[34mEpoch: 391, Loss: 0.18659627650465285\u001B[0m\n",
      "\u001B[34mEpoch: 392, Loss: 0.16886760188000544\u001B[0m\n",
      "\u001B[34mEpoch: 393, Loss: 0.184446997408356\u001B[0m\n",
      "\u001B[34mEpoch: 394, Loss: 0.17234991863369942\u001B[0m\n",
      "\u001B[34mEpoch: 395, Loss: 0.17080163583159447\u001B[0m\n",
      "\u001B[34mEpoch: 396, Loss: 0.17429144361189433\u001B[0m\n",
      "\u001B[34mEpoch: 397, Loss: 0.17495983519724437\u001B[0m\n",
      "\u001B[34mEpoch: 398, Loss: 0.17565588333777019\u001B[0m\n",
      "\u001B[34mEpoch: 399, Loss: 0.19230822154453822\u001B[0m\n",
      "\u001B[34mEpoch: 400, Loss: 0.18263448987688338\u001B[0m\n",
      "\u001B[34m2022-04-02 12:45:52,421 sagemaker-containers INFO     Reporting training SUCCESS\u001B[0m\n",
      "\n",
      "2022-04-02 12:46:06 Uploading - Uploading generated training model\n",
      "2022-04-02 12:46:06 Completed - Training job completed\n",
      "Training seconds: 93\n",
      "Billable seconds: 93\n",
      "Wall time: 3min 14s\n"
     ]
    }
   ],
   "source": [
    "%%time\n",
    "\n",
    "# Train your estimator on S3 training data\n",
    "estimator.fit({'train': bucket_address})"
   ]
  },
  {
   "cell_type": "markdown",
   "metadata": {
    "pycharm": {
     "name": "#%% md\n"
    }
   },
   "source": [
    "## EXERCISE: Deploy the trained model\n",
    "\n",
    "After training, deploy your model to create a `predictor`. If you're using a PyTorch model, you'll need to create a trained `PyTorchModel` that accepts the trained `<model>.model_data` as an input parameter and points to the provided `source_pytorch/predict.py` file as an entry point. \n",
    "\n",
    "To deploy a trained model, you'll use `<model>.deploy`, which takes in two arguments:\n",
    "* **initial_instance_count**: The number of deployed instances (1).\n",
    "* **instance_type**: The type of SageMaker instance for deployment.\n",
    "\n",
    "Note: If you run into an instance error, it may be because you chose the wrong training or deployment instance_type. It may help to refer to your previous exercise code to see which types of instances we used."
   ]
  },
  {
   "cell_type": "code",
   "execution_count": 24,
   "outputs": [
    {
     "name": "stdout",
     "output_type": "stream",
     "text": [
      "........................................................................................................................................................................................................................................................................................................................................................................................................................................................................................................................................................................................................................................................................................................................................................................................................................!\n"
     ]
    }
   ],
   "source": [
    "#instead of playing around with the hyperparameters I used sagemaker's hyperparameterTuner\n",
    "from sagemaker.tuner import IntegerParameter, ContinuousParameter, HyperparameterTuner\n",
    "import time\n",
    "objective_metric_name = 'train-accuracy'\n",
    "metric_definitions = [{'Name': objective_metric_name,\n",
    "                       'Regex': 'Loss: (.*)'}]\n",
    "hyperparameter_tuner = HyperparameterTuner(estimator = estimator,\n",
    "                                               objective_metric_name = objective_metric_name,\n",
    "                                               metric_definitions=metric_definitions,\n",
    "                                               objective_type = 'Minimize',\n",
    "                                               max_jobs = 20,\n",
    "                                               max_parallel_jobs = 1,\n",
    "                                               hyperparameter_ranges = {\n",
    "                                                    'hidden_dim': IntegerParameter(10, 500),\n",
    "                                                    'lr'      : ContinuousParameter(1e-3, 0.5),\n",
    "                                               })\n",
    "hyperparameter_tuner.fit({'train': bucket_address})"
   ],
   "metadata": {
    "collapsed": false,
    "pycharm": {
     "name": "#%%\n"
    }
   }
  },
  {
   "cell_type": "code",
   "execution_count": 25,
   "outputs": [
    {
     "name": "stdout",
     "output_type": "stream",
     "text": [
      "!\n"
     ]
    }
   ],
   "source": [
    "hyperparameter_tuner.wait()"
   ],
   "metadata": {
    "collapsed": false,
    "pycharm": {
     "name": "#%%\n"
    }
   }
  },
  {
   "cell_type": "code",
   "execution_count": 26,
   "metadata": {
    "collapsed": true,
    "pycharm": {
     "name": "#%%\n"
    }
   },
   "outputs": [
    {
     "name": "stdout",
     "output_type": "stream",
     "text": [
      "\n",
      "2022-04-02 14:01:47 Starting - Preparing the instances for training\n",
      "2022-04-02 14:01:47 Downloading - Downloading input data\n",
      "2022-04-02 14:01:47 Training - Training image download completed. Training in progress.\n",
      "2022-04-02 14:01:47 Uploading - Uploading generated training model\n",
      "2022-04-02 14:01:47 Completed - Training job completed\n",
      "-----!Wall time: 2min 32s\n"
     ]
    }
   ],
   "source": [
    "%%time\n",
    "# uncomment, if needed\n",
    "# from sagemaker.pytorch import PyTorchModel\n",
    "\n",
    "best_estimator = PyTorch.attach(hyperparameter_tuner.best_training_job())\n",
    "\n",
    "from sagemaker.predictor import Predictor\n",
    "from sagemaker.pytorch import PyTorchModel\n",
    "\n",
    "#class StringPredictor(Predictor):\n",
    "#    def __init__(self, endpoint_name, sagemaker_session):\n",
    "#        super(StringPredictor, self).__init__(endpoint_name, sagemaker_session)\n",
    "\n",
    "model = PyTorchModel(model_data = best_estimator.model_data,\n",
    "                     role = role,\n",
    "                     framework_version='1.0',\n",
    "                     py_version = \"py3\",\n",
    "                     entry_point = 'predict.py',\n",
    "                     source_dir = 'source_pytorch')\n",
    "\n",
    "predictor = model.deploy(initial_instance_count = 1, instance_type = 'ml.m4.xlarge')\n",
    "\n",
    "\n",
    "# deploy your model to create a predictor\n",
    "#predictor = estimator.deploy(initial_instance_count=1,\n",
    "#                             instance_type=\"ml.m4.xlarge\")\n"
   ]
  },
  {
   "cell_type": "markdown",
   "metadata": {
    "pycharm": {
     "name": "#%% md\n"
    }
   },
   "source": [
    "---\n",
    "# Evaluating Your Model\n",
    "\n",
    "Once your model is deployed, you can see how it performs when applied to our test data.\n",
    "\n",
    "The provided cell below, reads in the test data, assuming it is stored locally in `data_dir` and named `test.csv`. The labels and features are extracted from the `.csv` file."
   ]
  },
  {
   "cell_type": "code",
   "execution_count": 27,
   "metadata": {
    "collapsed": true,
    "pycharm": {
     "name": "#%%\n"
    }
   },
   "outputs": [],
   "source": [
    "\"\"\"\n",
    "DON'T MODIFY ANYTHING IN THIS CELL THAT IS BELOW THIS LINE\n",
    "\"\"\"\n",
    "import os\n",
    "\n",
    "# read in test data, assuming it is stored locally\n",
    "test_data = pd.read_csv(os.path.join(data_dir, \"test.csv\"), header=None, names=None)\n",
    "\n",
    "# labels are in the first column\n",
    "test_y = test_data.iloc[:,0]\n",
    "test_x = test_data.iloc[:,1:]"
   ]
  },
  {
   "cell_type": "markdown",
   "metadata": {
    "pycharm": {
     "name": "#%% md\n"
    }
   },
   "source": [
    "## EXERCISE: Determine the accuracy of your model\n",
    "\n",
    "Use your deployed `predictor` to generate predicted, class labels for the test data. Compare those to the *true* labels, `test_y`, and calculate the accuracy as a value between 0 and 1.0 that indicates the fraction of test data that your model classified correctly. You may use [sklearn.metrics](https://scikit-learn.org/stable/modules/classes.html#module-sklearn.metrics) for this calculation.\n",
    "\n",
    "**To pass this project, your model should get at least 90% test accuracy.**"
   ]
  },
  {
   "cell_type": "code",
   "execution_count": 28,
   "metadata": {
    "collapsed": true,
    "pycharm": {
     "name": "#%%\n"
    }
   },
   "outputs": [
    {
     "name": "stdout",
     "output_type": "stream",
     "text": [
      "Test passed!\n"
     ]
    }
   ],
   "source": [
    "# First: generate predicted, class labels\n",
    "#test_y_preds = predictor.predict(test_x, initial_args={'ContentType': 'text/plain'})\n",
    "test_y_preds = predictor.predict(test_x)\n",
    "\n",
    "\"\"\"\n",
    "DON'T MODIFY ANYTHING IN THIS CELL THAT IS BELOW THIS LINE\n",
    "\"\"\"\n",
    "# test that your model generates the correct number of labels\n",
    "assert len(test_y_preds)==len(test_y), 'Unexpected number of predictions.'\n",
    "print('Test passed!')"
   ]
  },
  {
   "cell_type": "code",
   "execution_count": 29,
   "metadata": {
    "collapsed": true,
    "pycharm": {
     "name": "#%%\n"
    }
   },
   "outputs": [
    {
     "name": "stdout",
     "output_type": "stream",
     "text": [
      "0.96\n",
      "\n",
      "Predicted class labels: \n",
      "[[1.]\n",
      " [1.]\n",
      " [1.]\n",
      " [1.]\n",
      " [1.]\n",
      " [1.]\n",
      " [0.]\n",
      " [0.]\n",
      " [0.]\n",
      " [0.]\n",
      " [0.]\n",
      " [1.]\n",
      " [1.]\n",
      " [1.]\n",
      " [1.]\n",
      " [1.]\n",
      " [1.]\n",
      " [1.]\n",
      " [0.]\n",
      " [1.]\n",
      " [0.]\n",
      " [1.]\n",
      " [1.]\n",
      " [0.]\n",
      " [0.]]\n",
      "\n",
      "True class labels: \n",
      "[1 1 1 1 1 1 0 0 0 0 0 0 1 1 1 1 1 1 0 1 0 1 1 0 0]\n"
     ]
    }
   ],
   "source": [
    "# Second: calculate the test accuracy\n",
    "\n",
    "from sklearn.metrics import accuracy_score\n",
    "\n",
    "accuracy = accuracy_score(test_y, test_y_preds)\n",
    "print(accuracy)\n",
    "\n",
    "## print out the array of predicted and true labels, if you want\n",
    "print('\\nPredicted class labels: ')\n",
    "print(test_y_preds)\n",
    "print('\\nTrue class labels: ')\n",
    "print(test_y.values)\n"
   ]
  },
  {
   "cell_type": "code",
   "execution_count": 39,
   "outputs": [
    {
     "data": {
      "text/plain": "<Figure size 432x288 with 2 Axes>",
      "image/png": "[encoded data removed]"
     },
     "metadata": {
      "needs_background": "light"
     },
     "output_type": "display_data"
    }
   ],
   "source": [
    "from sklearn.metrics import ConfusionMatrixDisplay\n",
    "\n",
    "#_ = ConfusionMatrixDisplay.from_predictions(test_y, test_y_preds, include_values=True, cmap='viridis',\n",
    "# xticks_rotation='horizontal', values_format=None, ax=None, colorbar=True)\n",
    "_ = ConfusionMatrixDisplay.from_predictions(test_y, test_y_preds, cmap='plasma')\n"
   ],
   "metadata": {
    "collapsed": false,
    "pycharm": {
     "name": "#%%\n"
    }
   }
  },
  {
   "cell_type": "markdown",
   "metadata": {
    "pycharm": {
     "name": "#%% md\n"
    }
   },
   "source": [
    "### Question 1: How many false positives and false negatives did your model produce, if any? And why do you think this is?"
   ]
  },
  {
   "cell_type": "markdown",
   "metadata": {
    "pycharm": {
     "name": "#%% md\n"
    }
   },
   "source": [
    "** Answer**: \n",
    "One false positive and zero false negatives. This is due to the signal in the data being very strong for relatively\n",
    " small dataset."
   ]
  },
  {
   "cell_type": "markdown",
   "metadata": {
    "pycharm": {
     "name": "#%% md\n"
    }
   },
   "source": [
    "### Question 2: How did you decide on the type of model to use? "
   ]
  },
  {
   "cell_type": "code",
   "execution_count": 29,
   "outputs": [],
   "source": [],
   "metadata": {
    "collapsed": false,
    "pycharm": {
     "name": "#%%\n"
    }
   }
  },
  {
   "cell_type": "code",
   "execution_count": 29,
   "outputs": [],
   "source": [],
   "metadata": {
    "collapsed": false,
    "pycharm": {
     "name": "#%%\n"
    }
   }
  },
  {
   "cell_type": "markdown",
   "metadata": {
    "pycharm": {
     "name": "#%% md\n"
    }
   },
   "source": [
    "** Answer**:\n",
    " I chose Pytorch ANN because it offers more options in terms of network architecture and complexity. A simple network\n",
    "  did a good job so a more complex solution was not required."
   ]
  },
  {
   "cell_type": "markdown",
   "metadata": {
    "pycharm": {
     "name": "#%% md\n"
    }
   },
   "source": [
    "----\n",
    "## EXERCISE: Clean up Resources\n",
    "\n",
    "After you're done evaluating your model, **delete your model endpoint**. You can do this with a call to `.delete_endpoint()`. You need to show, in this notebook, that the endpoint was deleted. Any other resources, you may delete from the AWS console, and you will find more instructions on cleaning up all your resources, below."
   ]
  },
  {
   "cell_type": "code",
   "execution_count": 30,
   "metadata": {
    "collapsed": true,
    "pycharm": {
     "name": "#%%\n"
    }
   },
   "outputs": [],
   "source": [
    "# uncomment and fill in the line below!\n",
    "# <name_of_deployed_predictor>.delete_endpoint()\n",
    "predictor.delete_endpoint()\n"
   ]
  },
  {
   "cell_type": "markdown",
   "metadata": {
    "pycharm": {
     "name": "#%% md\n"
    }
   },
   "source": [
    "### Deleting S3 bucket\n",
    "\n",
    "When you are *completely* done with training and testing models, you can also delete your entire S3 bucket. If you do this before you are done training your model, you'll have to recreate your S3 bucket and upload your training data again."
   ]
  },
  {
   "cell_type": "code",
   "execution_count": 31,
   "metadata": {
    "collapsed": true,
    "pycharm": {
     "name": "#%%\n"
    }
   },
   "outputs": [
    {
     "data": {
      "text/plain": "[{'ResponseMetadata': {'RequestId': 'J0BDDM4YCW5ENZ1C',\n   'HostId': 'xOKru4F4Nnl6Yc/8Y8H0HlHH9r+N6/NTyDaHGLklV+/MdCsdyt1txC3hRv3gFAAtW5tkBBKFrCo=',\n   'HTTPStatusCode': 200,\n   'HTTPHeaders': {'x-amz-id-2': 'xOKru4F4Nnl6Yc/8Y8H0HlHH9r+N6/NTyDaHGLklV+/MdCsdyt1txC3hRv3gFAAtW5tkBBKFrCo=',\n    'x-amz-request-id': 'J0BDDM4YCW5ENZ1C',\n    'date': 'Sat, 02 Apr 2022 14:11:02 GMT',\n    'content-type': 'application/xml',\n    'transfer-encoding': 'chunked',\n    'server': 'AmazonS3',\n    'connection': 'close'},\n   'RetryAttempts': 0},\n  'Deleted': [{'Key': 'sagemaker-pytorch-2022-04-02-12-43-07-794/debug-output/training_job_end.ts'},\n   {'Key': 'sagemaker-pytorch-2022-04-02-14-08-27-624/sourcedir.tar.gz'},\n   {'Key': 'sagemaker-pytorch-220402-1401-003-dcb1406c/output/model.tar.gz'},\n   {'Key': 'sagemaker-pytorch-220402-1401-014-f29b663e/output/model.tar.gz'},\n   {'Key': 'sagemaker-pytorch-220402-1401-005-7650c4a0/output/model.tar.gz'},\n   {'Key': 'sagemaker-pytorch-220402-1401-018-b5859ced/output/model.tar.gz'},\n   {'Key': 'sagemaker-pytorch-220402-1401-020-4a268b0b/output/model.tar.gz'},\n   {'Key': 'sagemaker-pytorch-2022-04-02-12-43-07-794/rule-output/ProfilerReport-1648903388/profiler-output/profiler-reports/OverallSystemUsage.json'},\n   {'Key': 'sagemaker-pytorch-220402-1401-001-14c96742/output/model.tar.gz'},\n   {'Key': 'sagemaker-pytorch-2022-04-02-12-43-07-794/profiler-output/system/training_job_end.ts'},\n   {'Key': 'sagemaker-pytorch-220402-1401-004-fb034f03/output/model.tar.gz'},\n   {'Key': 'sagemaker-pytorch-220402-1401-012-0a82b7e3/output/model.tar.gz'},\n   {'Key': 'sagemaker-pytorch-2022-04-02-12-43-07-794/rule-output/ProfilerReport-1648903388/profiler-output/profiler-report.ipynb'},\n   {'Key': 'sagemaker-pytorch-2022-04-02-12-46-22-381/source/sourcedir.tar.gz'},\n   {'Key': 'sagemaker-pytorch-2022-04-02-12-43-07-794/profiler-output/system/incremental/2022040212/1648903440.algo-1.json'},\n   {'Key': 'sagemaker-pytorch-2022-04-02-12-43-07-794/profiler-output/system/incremental/2022040212/1648903500.algo-1.json'},\n   {'Key': 'sagemaker-pytorch-2022-04-02-12-43-07-794/rule-output/ProfilerReport-1648903388/profiler-output/profiler-reports/LowGPUUtilization.json'},\n   {'Key': 'sagemaker-pytorch-2022-04-02-12-43-07-794/source/sourcedir.tar.gz'},\n   {'Key': 'sagemaker-pytorch-220402-1401-016-7e4d3dde/output/model.tar.gz'},\n   {'Key': 'sagemaker-pytorch-220402-1401-008-d22c86dc/output/model.tar.gz'},\n   {'Key': 'sagemaker-pytorch-2022-04-02-12-43-07-794/rule-output/ProfilerReport-1648903388/profiler-output/profiler-reports/BatchSize.json'},\n   {'Key': 'sagemaker-pytorch-2022-04-02-12-43-07-794/rule-output/ProfilerReport-1648903388/profiler-output/profiler-reports/GPUMemoryIncrease.json'},\n   {'Key': 'sagemaker-pytorch-2022-04-02-13-01-30-017/source/sourcedir.tar.gz'},\n   {'Key': 'sagemaker-pytorch-2022-04-02-12-43-07-794/rule-output/ProfilerReport-1648903388/profiler-output/profiler-reports/LoadBalancing.json'},\n   {'Key': 'sagemaker-pytorch-220402-1401-007-900b6789/output/model.tar.gz'},\n   {'Key': 'sagemaker-pytorch-220402-1401-010-4147bf4f/output/model.tar.gz'},\n   {'Key': 'sagemaker-pytorch-2022-04-02-12-43-07-794/rule-output/ProfilerReport-1648903388/profiler-output/profiler-reports/StepOutlier.json'},\n   {'Key': 'sagemaker-pytorch-220402-1401-009-c8bf5922/output/model.tar.gz'},\n   {'Key': 'sagemaker-pytorch-2022-04-02-12-43-07-794/rule-output/ProfilerReport-1648903388/profiler-output/profiler-reports/CPUBottleneck.json'},\n   {'Key': 'sagemaker-pytorch-2022-04-02-12-43-07-794/rule-output/ProfilerReport-1648903388/profiler-output/profiler-reports/MaxInitializationTime.json'},\n   {'Key': 'sagemaker-pytorch-2022-04-02-12-43-07-794/rule-output/ProfilerReport-1648903388/profiler-output/profiler-report.html'},\n   {'Key': 'sagemaker/coin_detection/test.csv'},\n   {'Key': 'sagemaker-pytorch-220402-1401-015-0c7cea3f/output/model.tar.gz'},\n   {'Key': 'sagemaker-pytorch-220402-1401-002-0be7aec6/output/model.tar.gz'},\n   {'Key': 'sagemaker-pytorch-220402-1401-017-072b56eb/output/model.tar.gz'},\n   {'Key': 'sagemaker-pytorch-2022-04-02-12-43-07-794/profiler-output/system/incremental/2022040212/1648903560.algo-1.json'},\n   {'Key': 'sagemaker-pytorch-2022-04-02-12-43-07-794/rule-output/ProfilerReport-1648903388/profiler-output/profiler-reports/IOBottleneck.json'},\n   {'Key': 'sagemaker-pytorch-220402-1401-006-ed275d05/output/model.tar.gz'},\n   {'Key': 'sagemaker/coin_detection/train.csv'},\n   {'Key': 'sagemaker-pytorch-220402-1401-011-9b7c36ef/output/model.tar.gz'},\n   {'Key': 'sagemaker-pytorch-220402-1401-013-1e6ddd6b/output/model.tar.gz'},\n   {'Key': 'sagemaker-pytorch-2022-04-02-12-43-07-794/output/model.tar.gz'},\n   {'Key': 'sagemaker-pytorch-2022-04-02-12-43-07-794/profiler-output/framework/training_job_end.ts'},\n   {'Key': 'sagemaker-pytorch-2022-04-02-12-43-07-794/rule-output/ProfilerReport-1648903388/profiler-output/profiler-reports/Dataloader.json'},\n   {'Key': 'sagemaker-pytorch-220402-1401-019-3987e15c/output/model.tar.gz'},\n   {'Key': 'sagemaker-pytorch-2022-04-02-12-43-07-794/rule-output/ProfilerReport-1648903388/profiler-output/profiler-reports/OverallFrameworkMetrics.json'}]}]"
     },
     "execution_count": 31,
     "metadata": {},
     "output_type": "execute_result"
    }
   ],
   "source": [
    "# deleting bucket, uncomment lines below\n",
    "\n",
    "bucket_to_delete = boto3.resource('s3').Bucket(bucket)\n",
    "bucket_to_delete.objects.all().delete()"
   ]
  },
  {
   "cell_type": "markdown",
   "metadata": {
    "pycharm": {
     "name": "#%% md\n"
    }
   },
   "source": [
    "### Deleting all your models and instances\n",
    "\n",
    "When you are _completely_ done with this project and do **not** ever want to revisit this notebook, you can choose to delete all of your SageMaker notebook instances and models by following [these instructions](https://docs.aws.amazon.com/sagemaker/latest/dg/ex1-cleanup.html). Before you delete this notebook instance, I recommend at least downloading a copy and saving it, locally."
   ]
  },
  {
   "cell_type": "markdown",
   "metadata": {
    "pycharm": {
     "name": "#%% md\n"
    }
   },
   "source": [
    "---\n",
    "## Further Directions\n",
    "\n",
    "There are many ways to improve or add on to this project to expand your learning or make this more of a unique project for you. A few ideas are listed below:\n",
    "* Train a classifier to predict the *category* (1-3) of plagiarism and not just plagiarized (1) or not (0).\n",
    "* Utilize a different and larger dataset to see if this model can be extended to other types of plagiarism.\n",
    "* Use language or character-level analysis to find different (and more) similarity features.\n",
    "* Write a complete pipeline function that accepts a source text and submitted text file, and classifies the submitted text as plagiarized or not.\n",
    "* Use API Gateway and a lambda function to deploy your model to a web application.\n",
    "\n",
    "These are all just options for extending your work. If you've completed all the exercises in this notebook, you've completed a real-world application, and can proceed to submit your project. Great job!"
   ]
  }
 ],
 "metadata": {
  "kernelspec": {
   "name": "python3",
   "language": "python",
   "display_name": "Python 3 (ipykernel)"
  },
  "language_info": {
   "codemirror_mode": {
    "name": "ipython",
    "version": 3
   },
   "file_extension": ".py",
   "mimetype": "text/x-python",
   "name": "python",
   "nbconvert_exporter": "python",
   "pygments_lexer": "ipython3",
   "version": "3.6.5"
  }
 },
 "nbformat": 4,
 "nbformat_minor": 2
}