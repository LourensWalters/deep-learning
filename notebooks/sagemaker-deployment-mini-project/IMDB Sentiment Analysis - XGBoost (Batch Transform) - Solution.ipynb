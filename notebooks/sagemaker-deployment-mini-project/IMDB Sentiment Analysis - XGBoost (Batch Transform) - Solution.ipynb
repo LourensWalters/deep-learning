{
 "cells": [
  {
   "cell_type": "markdown",
   "metadata": {},
   "source": [
    "# Sentiment Analysis\n",
    "\n",
    "## Using XGBoost in SageMaker\n",
    "\n",
    "_Deep Learning Nanodegree Program | Deployment_\n",
    "\n",
    "---\n",
    "\n",
    "As our first example of using Amazon's SageMaker service we will construct a random tree model to predict the sentiment of a movie review. You may have seen a version of this example in a pervious lesson although it would have been done using the sklearn package. Instead, we will be using the XGBoost package as it is provided to us by Amazon.\n",
    "\n",
    "## Instructions\n",
    "\n",
    "Some template code has already been provided for you, and you will need to implement additional functionality to successfully complete this notebook. You will not need to modify the included code beyond what is requested. Sections that begin with '**TODO**' in the header indicate that you need to complete or implement some portion within them. Instructions will be provided for each section and the specifics of the implementation are marked in the code block with a `# TODO: ...` comment. Please be sure to read the instructions carefully!\n",
    "\n",
    "In addition to implementing code, there may be questions for you to answer which relate to the task and your implementation. Each section where you will answer a question is preceded by a '**Question:**' header. Carefully read each question and provide your answer below the '**Answer:**' header by editing the Markdown cell.\n",
    "\n",
    "> **Note**: Code and Markdown cells can be executed using the **Shift+Enter** keyboard shortcut. In addition, a cell can be edited by typically clicking it (double-click for Markdown cells) or by pressing **Enter** while it is highlighted."
   ]
  },
  {
   "cell_type": "markdown",
   "metadata": {},
   "source": [
    "## Step 1: Downloading the data\n",
    "\n",
    "The dataset we are going to use is very popular among researchers in Natural Language Processing, usually referred to as the [IMDb dataset](http://ai.stanford.edu/~amaas/data/sentiment/). It consists of movie reviews from the website [imdb.com](http://www.imdb.com/), each labeled as either '**pos**itive', if the reviewer enjoyed the film, or '**neg**ative' otherwise.\n",
    "\n",
    "> Maas, Andrew L., et al. [Learning Word Vectors for Sentiment Analysis](http://ai.stanford.edu/~amaas/data/sentiment/). In _Proceedings of the 49th Annual Meeting of the Association for Computational Linguistics: Human Language Technologies_. Association for Computational Linguistics, 2011.\n",
    "\n",
    "We begin by using some Jupyter Notebook magic to download and extract the dataset."
   ]
  },
  {
   "cell_type": "code",
   "execution_count": 15,
   "metadata": {},
   "outputs": [],
   "source": [
    "# Make sure that we use SageMaker 1.x\n",
    "#!pip install sagemaker==1.72.0"
   ]
  },
  {
   "cell_type": "code",
   "execution_count": 16,
   "metadata": {},
   "outputs": [],
   "source": [
    "#%mkdir ..\\\\data\n"
   ]
  },
  {
   "cell_type": "code",
   "execution_count": 17,
   "outputs": [],
   "source": [
    "#!python -m wget -o ..\\\\data\\aclImdb_v1.tar.gz http://ai.stanford.edu/~amaas/data/sentiment/aclImdb_v1.tar.gz\n",
    "#!tar -zxf ../data/aclImdb_v1.tar.gz -C ../data"
   ],
   "metadata": {
    "collapsed": false,
    "pycharm": {
     "name": "#%%\n"
    }
   }
  },
  {
   "cell_type": "markdown",
   "metadata": {},
   "source": [
    "## Step 2: Preparing the data\n",
    "\n",
    "The data we have downloaded is split into various files, each of which contains a single review. It will be much easier going forward if we combine these individual files into two large files, one for training and one for testing."
   ]
  },
  {
   "cell_type": "code",
   "execution_count": 18,
   "metadata": {},
   "outputs": [],
   "source": [
    "import os\n",
    "import glob\n",
    "\n",
    "def read_imdb_data(data_dir='../data/aclImdb'):\n",
    "    data = {}\n",
    "    labels = {}\n",
    "    \n",
    "    for data_type in ['train', 'test']:\n",
    "        data[data_type] = {}\n",
    "        labels[data_type] = {}\n",
    "        \n",
    "        for sentiment in ['pos', 'neg']:\n",
    "            data[data_type][sentiment] = []\n",
    "            labels[data_type][sentiment] = []\n",
    "            \n",
    "            path = os.path.join(data_dir, data_type, sentiment, '*.txt')\n",
    "            files = glob.glob(path)\n",
    "            \n",
    "            for f in files:\n",
    "                with open(f, encoding='utf-8') as review:\n",
    "                    data[data_type][sentiment].append(review.read())\n",
    "                    # Here we represent a positive review by '1' and a negative review by '0'\n",
    "                    labels[data_type][sentiment].append(1 if sentiment == 'pos' else 0)\n",
    "                    \n",
    "            assert len(data[data_type][sentiment]) == len(labels[data_type][sentiment]), \\\n",
    "                    \"{}/{} data size does not match labels size\".format(data_type, sentiment)\n",
    "                \n",
    "    return data, labels"
   ]
  },
  {
   "cell_type": "code",
   "execution_count": 19,
   "metadata": {},
   "outputs": [
    {
     "name": "stdout",
     "output_type": "stream",
     "text": [
      "IMDB reviews: train = 12500 pos / 12500 neg, test = 12500 pos / 12500 neg\n"
     ]
    }
   ],
   "source": [
    "data, labels = read_imdb_data()\n",
    "print(\"IMDB reviews: train = {} pos / {} neg, test = {} pos / {} neg\".format(\n",
    "            len(data['train']['pos']), len(data['train']['neg']),\n",
    "            len(data['test']['pos']), len(data['test']['neg'])))"
   ]
  },
  {
   "cell_type": "code",
   "execution_count": 20,
   "metadata": {},
   "outputs": [],
   "source": [
    "from sklearn.utils import shuffle\n",
    "\n",
    "def prepare_imdb_data(data, labels):\n",
    "    \"\"\"Prepare training and test sets from IMDb movie reviews.\"\"\"\n",
    "    \n",
    "    #Combine positive and negative reviews and labels\n",
    "    data_train = data['train']['pos'] + data['train']['neg']\n",
    "    data_test = data['test']['pos'] + data['test']['neg']\n",
    "    labels_train = labels['train']['pos'] + labels['train']['neg']\n",
    "    labels_test = labels['test']['pos'] + labels['test']['neg']\n",
    "    \n",
    "    #Shuffle reviews and corresponding labels within training and test sets\n",
    "    data_train, labels_train = shuffle(data_train, labels_train)\n",
    "    data_test, labels_test = shuffle(data_test, labels_test)\n",
    "    \n",
    "    # Return a unified training data, test data, training labels, test labets\n",
    "    return data_train, data_test, labels_train, labels_test"
   ]
  },
  {
   "cell_type": "code",
   "execution_count": 21,
   "metadata": {},
   "outputs": [
    {
     "name": "stdout",
     "output_type": "stream",
     "text": [
      "IMDb reviews (combined): train = 25000, test = 25000\n"
     ]
    }
   ],
   "source": [
    "train_X, test_X, train_y, test_y = prepare_imdb_data(data, labels)\n",
    "print(\"IMDb reviews (combined): train = {}, test = {}\".format(len(train_X), len(test_X)))"
   ]
  },
  {
   "cell_type": "code",
   "execution_count": 22,
   "metadata": {},
   "outputs": [
    {
     "data": {
      "text/plain": "'Then you must see this film, to understand the reality. Having read the book, Ms. Duke is now an advocate for those afflicted with bipolar disorder; formerly labeled manic-depression.<br /><br />It is hard to believe that in this day and age, people still critique others with emotional problems, or those who seek psychiatric help. Regressive and discriminatory thinking still exists, and this is unfortunate.<br /><br />In this film, the audience sees the pain and suffering Ms. Duke had been through, especially as a child. Many of us may remember her from the teenage \"Patty Duke Show\". She was a household name in America by age 15.<br /><br />You learn of her exploitation by the Ross\\'(well played by Howard Hesseman). As she was growing up in the 1950\\'s, the stigma was in full-force. However, we see as she advances in her career, yet the illness becomes worse. She goes through bouts of substance abuse and promiscuity; even marries someone whom she divorces the next week; and she has several conflicts and tantrums with her children and elderly mother. All these problem occurred before she received adequate therapy, and medication.<br /><br />A recent survey released by NAMI (National Alliance on Mental Illness) recorded that a majority of US adults fail to recognize most of the classic symptoms of bipolar disorder. It also was released that one in five respondents to the poll believed that people could CONTROL their illness without medication if they wanted to. (bp Magazine, Winter 2006) If you watch this film, you will learn the true story of a talented woman who could not \"pull herself up by her bootstraps\" and \"get well\" until she was educated about her disorder, and received proper treatment. Thank you, Ms. Duke, for being an advocate against ignorance and prejudice.'"
     },
     "execution_count": 22,
     "metadata": {},
     "output_type": "execute_result"
    }
   ],
   "source": [
    "train_X[100]"
   ]
  },
  {
   "cell_type": "markdown",
   "metadata": {},
   "source": [
    "## Step 3: Processing the data\n",
    "\n",
    "Now that we have our training and testing datasets merged and ready to use, we need to start processing the raw data into something that will be useable by our machine learning algorithm. To begin with, we remove any html formatting that may appear in the reviews and perform some standard natural language processing in order to homogenize the data."
   ]
  },
  {
   "cell_type": "code",
   "execution_count": 23,
   "metadata": {},
   "outputs": [
    {
     "name": "stderr",
     "output_type": "stream",
     "text": [
      "[nltk_data] Downloading package stopwords to\n",
      "[nltk_data]     C:\\Users\\PC-1\\AppData\\Roaming\\nltk_data...\n",
      "[nltk_data]   Package stopwords is already up-to-date!\n"
     ]
    }
   ],
   "source": [
    "import nltk\n",
    "nltk.download(\"stopwords\")\n",
    "from nltk.corpus import stopwords\n",
    "from nltk.stem.porter import *\n",
    "stemmer = PorterStemmer()"
   ]
  },
  {
   "cell_type": "code",
   "execution_count": 24,
   "metadata": {},
   "outputs": [],
   "source": [
    "import re\n",
    "from bs4 import BeautifulSoup\n",
    "\n",
    "def review_to_words(review):\n",
    "    text = BeautifulSoup(review, \"html.parser\").get_text() # Remove HTML tags\n",
    "    text = re.sub(r\"[^a-zA-Z0-9]\", \" \", text.lower()) # Convert to lower case\n",
    "    words = text.split() # Split string into words\n",
    "    words = [w for w in words if w not in stopwords.words(\"english\")] # Remove stopwords\n",
    "    words = [PorterStemmer().stem(w) for w in words] # stem\n",
    "    \n",
    "    return words"
   ]
  },
  {
   "cell_type": "code",
   "execution_count": 25,
   "metadata": {},
   "outputs": [],
   "source": [
    "import pickle\n",
    "\n",
    "cache_dir = os.path.join(\"../cache\", \"sentiment_analysis\")  # where to store cache files\n",
    "os.makedirs(cache_dir, exist_ok=True)  # ensure cache directory exists\n",
    "\n",
    "def preprocess_data(data_train, data_test, labels_train, labels_test,\n",
    "                    cache_dir=cache_dir, cache_file=\"preprocessed_data.pkl\"):\n",
    "    \"\"\"Convert each review to words; read from cache if available.\"\"\"\n",
    "\n",
    "    # If cache_file is not None, try to read from it first\n",
    "    cache_data = None\n",
    "    if cache_file is not None:\n",
    "        try:\n",
    "            with open(os.path.join(cache_dir, cache_file), \"rb\") as f:\n",
    "                cache_data = pickle.load(f)\n",
    "            print(\"Read preprocessed data from cache file:\", cache_file)\n",
    "        except:\n",
    "            pass  # unable to read from cache, but that's okay\n",
    "    \n",
    "    # If cache is missing, then do the heavy lifting\n",
    "    if cache_data is None:\n",
    "        # Preprocess training and test data to obtain words for each review\n",
    "        #words_train = list(map(review_to_words, data_train))\n",
    "        #words_test = list(map(review_to_words, data_test))\n",
    "        words_train = [review_to_words(review) for review in data_train]\n",
    "        words_test = [review_to_words(review) for review in data_test]\n",
    "        \n",
    "        # Write to cache file for future runs\n",
    "        if cache_file is not None:\n",
    "            cache_data = dict(words_train=words_train, words_test=words_test,\n",
    "                              labels_train=labels_train, labels_test=labels_test)\n",
    "            with open(os.path.join(cache_dir, cache_file), \"wb\") as f:\n",
    "                pickle.dump(cache_data, f)\n",
    "            print(\"Wrote preprocessed data to cache file:\", cache_file)\n",
    "    else:\n",
    "        # Unpack data loaded from cache file\n",
    "        words_train, words_test, labels_train, labels_test = (cache_data['words_train'],\n",
    "                cache_data['words_test'], cache_data['labels_train'], cache_data['labels_test'])\n",
    "    \n",
    "    return words_train, words_test, labels_train, labels_test"
   ]
  },
  {
   "cell_type": "code",
   "execution_count": 26,
   "metadata": {},
   "outputs": [
    {
     "name": "stdout",
     "output_type": "stream",
     "text": [
      "Read preprocessed data from cache file: preprocessed_data.pkl\n"
     ]
    }
   ],
   "source": [
    "# Preprocess data\n",
    "train_X, test_X, train_y, test_y = preprocess_data(train_X, test_X, train_y, test_y)"
   ]
  },
  {
   "cell_type": "markdown",
   "metadata": {},
   "source": [
    "### Extract Bag-of-Words features\n",
    "\n",
    "For the model we will be implementing, rather than using the reviews directly, we are going to transform each review into a Bag-of-Words feature representation. Keep in mind that 'in the wild' we will only have access to the training set so our transformer can only use the training set to construct a representation."
   ]
  },
  {
   "cell_type": "code",
   "execution_count": 27,
   "metadata": {},
   "outputs": [],
   "source": [
    "import numpy as np\n",
    "from sklearn.feature_extraction.text import CountVectorizer\n",
    "#from sklearn.externals import joblib\n",
    "import joblib\n",
    "# joblib is an enhanced version of pickle that is more efficient for storing NumPy arrays\n",
    "\n",
    "def extract_BoW_features(words_train, words_test, vocabulary_size=5000,\n",
    "                         cache_dir=cache_dir, cache_file=\"bow_features.pkl\"):\n",
    "    \"\"\"Extract Bag-of-Words for a given set of documents, already preprocessed into words.\"\"\"\n",
    "    \n",
    "    # If cache_file is not None, try to read from it first\n",
    "    cache_data = None\n",
    "    if cache_file is not None:\n",
    "        try:\n",
    "            with open(os.path.join(cache_dir, cache_file), \"rb\") as f:\n",
    "                cache_data = joblib.load(f)\n",
    "            print(\"Read features from cache file:\", cache_file)\n",
    "        except:\n",
    "            pass  # unable to read from cache, but that's okay\n",
    "    \n",
    "    # If cache is missing, then do the heavy lifting\n",
    "    if cache_data is None:\n",
    "        # Fit a vectorizer to training documents and use it to transform them\n",
    "        # NOTE: Training documents have already been preprocessed and tokenized into words;\n",
    "        #       pass in dummy functions to skip those steps, e.g. preprocessor=lambda x: x\n",
    "        vectorizer = CountVectorizer(max_features=vocabulary_size,\n",
    "                preprocessor=lambda x: x, tokenizer=lambda x: x)  # already preprocessed\n",
    "        features_train = vectorizer.fit_transform(words_train).toarray()\n",
    "\n",
    "        # Apply the same vectorizer to transform the test documents (ignore unknown words)\n",
    "        features_test = vectorizer.transform(words_test).toarray()\n",
    "        \n",
    "        # NOTE: Remember to convert the features using .toarray() for a compact representation\n",
    "        \n",
    "        # Write to cache file for future runs (store vocabulary as well)\n",
    "        if cache_file is not None:\n",
    "            vocabulary = vectorizer.vocabulary_\n",
    "            cache_data = dict(features_train=features_train, features_test=features_test,\n",
    "                             vocabulary=vocabulary)\n",
    "            with open(os.path.join(cache_dir, cache_file), \"wb\") as f:\n",
    "                joblib.dump(cache_data, f)\n",
    "            print(\"Wrote features to cache file:\", cache_file)\n",
    "    else:\n",
    "        # Unpack data loaded from cache file\n",
    "        features_train, features_test, vocabulary = (cache_data['features_train'],\n",
    "                cache_data['features_test'], cache_data['vocabulary'])\n",
    "    \n",
    "    # Return both the extracted features as well as the vocabulary\n",
    "    return features_train, features_test, vocabulary"
   ]
  },
  {
   "cell_type": "code",
   "execution_count": 28,
   "metadata": {},
   "outputs": [
    {
     "name": "stdout",
     "output_type": "stream",
     "text": [
      "Wrote features to cache file: bow_features.pkl\n"
     ]
    }
   ],
   "source": [
    "# Extract Bag of Words features for both training and test datasets\n",
    "train_X, test_X, vocabulary = extract_BoW_features(train_X, test_X)"
   ]
  },
  {
   "cell_type": "markdown",
   "metadata": {},
   "source": [
    "## Step 4: Classification using XGBoost\n",
    "\n",
    "Now that we have created the feature representation of our training (and testing) data, it is time to start setting up and using the XGBoost classifier provided by SageMaker.\n",
    "\n",
    "### (TODO) Writing the dataset\n",
    "\n",
    "The XGBoost classifier that we will be using requires the dataset to be written to a file and stored using Amazon S3. To do this, we will start by splitting the training dataset into two parts, the data we will train the model with and a validation set. Then, we will write those datasets to a file and upload the files to S3. In addition, we will write the test set input to a file and upload the file to S3. This is so that we can use SageMakers Batch Transform functionality to test our model once we've fit it."
   ]
  },
  {
   "cell_type": "code",
   "execution_count": 30,
   "metadata": {},
   "outputs": [],
   "source": [
    "import pandas as pd\n",
    "\n",
    "# TODO: Split the train_X and train_y arrays into the DataFrames val_X, train_X and val_y, train_y. Make sure that\n",
    "#       val_X and val_y contain 10 000 entires while train_X and train_y contain the remaining 15 000 entries.\n",
    "#val_X = pd.DataFrame(None)\n",
    "#train_X = pd.DataFrame(None)\n",
    "\n",
    "#val_y = pd.DataFrame(None)\n",
    "#train_y = pd.DataFrame(None)\n",
    "\n",
    "# Solution:\n",
    "# Earlier we shuffled the training dataset so to make things simple we can just assign\n",
    "# the first 10 000 reviews to the validation set and use the remaining reviews for training.\n",
    "val_X = pd.DataFrame(train_X[:10000])\n",
    "train_X = pd.DataFrame(train_X[10000:])\n",
    "\n",
    "val_y = pd.DataFrame(train_y[:10000])\n",
    "train_y = pd.DataFrame(train_y[10000:])"
   ]
  },
  {
   "cell_type": "markdown",
   "metadata": {},
   "source": [
    "The documentation for the XGBoost algorithm in SageMaker requires that the saved datasets should contain no headers or index and that for the training and validation data, the label should occur first for each sample.\n",
    "\n",
    "For more information about this and other algorithms, the SageMaker developer documentation can be found on __[Amazon's website.](https://docs.aws.amazon.com/sagemaker/latest/dg/)__"
   ]
  },
  {
   "cell_type": "code",
   "execution_count": 31,
   "metadata": {},
   "outputs": [],
   "source": [
    "# First we make sure that the local directory in which we'd like to store the training and validation csv files exists.\n",
    "data_dir = '../data/xgboost'\n",
    "if not os.path.exists(data_dir):\n",
    "    os.makedirs(data_dir)"
   ]
  },
  {
   "cell_type": "code",
   "execution_count": 32,
   "metadata": {},
   "outputs": [],
   "source": [
    "# First, save the test data to test.csv in the data_dir directory. Note that we do not save the associated ground truth\n",
    "# labels, instead we will use them later to compare with our model output.\n",
    "\n",
    "pd.DataFrame(test_X).to_csv(os.path.join(data_dir, 'test.csv'), header=False, index=False)\n",
    "\n",
    "# TODO: Save the training and validation data to train.csv and validation.csv in the data_dir directory.\n",
    "#       Make sure that the files you create are in the correct format.\n",
    "\n",
    "# Solution:\n",
    "pd.concat([val_y, val_X], axis=1).to_csv(os.path.join(data_dir, 'validation.csv'), header=False, index=False)\n",
    "pd.concat([train_y, train_X], axis=1).to_csv(os.path.join(data_dir, 'train.csv'), header=False, index=False)"
   ]
  },
  {
   "cell_type": "code",
   "execution_count": 33,
   "metadata": {},
   "outputs": [],
   "source": [
    "# To save a bit of memory we can set text_X, train_X, val_X, train_y and val_y to None.\n",
    "\n",
    "test_X = train_X = val_X = train_y = val_y = None"
   ]
  },
  {
   "cell_type": "markdown",
   "metadata": {},
   "source": [
    "### (TODO) Uploading Training / Validation files to S3\n",
    "\n",
    "Amazon's S3 service allows us to store files that can be access by both the built-in training models such as the XGBoost model we will be using as well as custom models such as the one we will see a little later.\n",
    "\n",
    "For this, and most other tasks we will be doing using SageMaker, there are two methods we could use. The first is to use the low level functionality of SageMaker which requires knowing each of the objects involved in the SageMaker environment. The second is to use the high level functionality in which certain choices have been made on the user's behalf. The low level approach benefits from allowing the user a great deal of flexibility while the high level approach makes development much quicker. For our purposes we will opt to use the high level approach although using the low-level approach is certainly an option.\n",
    "\n",
    "Recall the method `upload_data()` which is a member of object representing our current SageMaker session. What this method does is upload the data to the default bucket (which is created if it does not exist) into the path described by the key_prefix variable. To see this for yourself, once you have uploaded the data files, go to the S3 console and look to see where the files have been uploaded.\n",
    "\n",
    "For additional resources, see the __[SageMaker API documentation](http://sagemaker.readthedocs.io/en/latest/)__ and in addition the __[SageMaker Developer Guide.](https://docs.aws.amazon.com/sagemaker/latest/dg/)__"
   ]
  },
  {
   "cell_type": "code",
   "execution_count": 34,
   "metadata": {},
   "outputs": [],
   "source": [
    "import sagemaker\n",
    "\n",
    "session = sagemaker.Session() # Store the current SageMaker session\n",
    "\n",
    "# S3 prefix (which folder will we use)\n",
    "prefix = 'sentiment-xgboost'\n",
    "\n",
    "# TODO: Upload the test.csv, train.csv and validation.csv files which are contained in data_dir to S3 using sess.upload_data().\n",
    "test_location = None\n",
    "val_location = None\n",
    "train_location = None\n",
    "\n",
    "# Solution:\n",
    "test_location = session.upload_data(os.path.join(data_dir, 'test.csv'), key_prefix=prefix)\n",
    "val_location = session.upload_data(os.path.join(data_dir, 'validation.csv'), key_prefix=prefix)\n",
    "train_location = session.upload_data(os.path.join(data_dir, 'train.csv'), key_prefix=prefix)"
   ]
  },
  {
   "cell_type": "markdown",
   "metadata": {},
   "source": [
    "### (TODO) Creating the XGBoost model\n",
    "\n",
    "Now that the data has been uploaded it is time to create the XGBoost model. To begin with, we need to do some setup. At this point it is worth discussing what a model is in SageMaker. It is easiest to think of a model of comprising three different objects in the SageMaker ecosystem, which interact with one another.\n",
    "\n",
    "- Model Artifacts\n",
    "- Training Code (Container)\n",
    "- Inference Code (Container)\n",
    "\n",
    "The Model Artifacts are what you might think of as the actual model itself. For example, if you were building a neural network, the model artifacts would be the weights of the various layers. In our case, for an XGBoost model, the artifacts are the actual trees that are created during training.\n",
    "\n",
    "The other two objects, the training code and the inference code are then used the manipulate the training artifacts. More precisely, the training code uses the training data that is provided and creates the model artifacts, while the inference code uses the model artifacts to make predictions on new data.\n",
    "\n",
    "The way that SageMaker runs the training and inference code is by making use of Docker containers. For now, think of a container as being a way of packaging code up so that dependencies aren't an issue."
   ]
  },
  {
   "cell_type": "code",
   "execution_count": 44,
   "metadata": {},
   "outputs": [],
   "source": [
    "from sagemaker import get_execution_role\n",
    "\n",
    "# Our current execution role is require when creating the model as the training\n",
    "# and inference code will need to access the model artifacts.\n",
    "#role = get_execution_role()\n",
    "role = 'arn:aws:iam::520084941985:role/service-role/AmazonSageMaker-ExecutionRole-20211114T202747'"
   ]
  },
  {
   "cell_type": "code",
   "execution_count": 45,
   "metadata": {},
   "outputs": [
    {
     "name": "stderr",
     "output_type": "stream",
     "text": [
      "'get_image_uri' method will be deprecated in favor of 'ImageURIProvider' class in SageMaker Python SDK v2.\n",
      "There is a more up to date SageMaker XGBoost image. To use the newer image, please set 'repo_version'='1.0-1'. For example:\n",
      "\tget_image_uri(region, 'xgboost', '1.0-1').\n"
     ]
    }
   ],
   "source": [
    "# We need to retrieve the location of the container which is provided by Amazon for using XGBoost.\n",
    "# As a matter of convenience, the training and inference code both use the same container.\n",
    "from sagemaker.amazon.amazon_estimator import get_image_uri\n",
    "\n",
    "container = get_image_uri(session.boto_region_name, 'xgboost')"
   ]
  },
  {
   "cell_type": "code",
   "execution_count": 46,
   "metadata": {},
   "outputs": [
    {
     "name": "stderr",
     "output_type": "stream",
     "text": [
      "Parameter image_name will be renamed to image_uri in SageMaker Python SDK v2.\n"
     ]
    }
   ],
   "source": [
    "# TODO: Create a SageMaker estimator using the container location determined in the previous cell.\n",
    "#       It is recommended that you use a single training instance of type ml.m4.xlarge. It is also\n",
    "#       recommended that you use 's3://{}/{}/output'.format(session.default_bucket(), prefix) as the\n",
    "#       output path.\n",
    "\n",
    "xgb = None\n",
    "\n",
    "# Solution:\n",
    "xgb = sagemaker.estimator.Estimator(container, # The location of the container we wish to use\n",
    "                                    role,                                    # What is our current IAM Role\n",
    "                                    train_instance_count=1,                  # How many compute instances\n",
    "                                    train_instance_type='ml.m4.xlarge',      # What kind of compute instances\n",
    "                                    output_path='s3://{}/{}/output'.format(session.default_bucket(), prefix),\n",
    "                                    sagemaker_session=session)\n",
    "\n",
    "# TODO: Set the XGBoost hyperparameters in the xgb object. Don't forget that in this case we have a binary\n",
    "#       label so we should be using the 'binary:logistic' objective.\n",
    "\n",
    "# Solution:\n",
    "xgb.set_hyperparameters(max_depth=5,\n",
    "                        eta=0.2,\n",
    "                        gamma=4,\n",
    "                        min_child_weight=6,\n",
    "                        subsample=0.8,\n",
    "                        silent=0,\n",
    "                        objective='binary:logistic',\n",
    "                        early_stopping_rounds=10,\n",
    "                        num_round=500)"
   ]
  },
  {
   "cell_type": "markdown",
   "metadata": {},
   "source": [
    "### Fit the XGBoost model\n",
    "\n",
    "Now that our model has been set up we simply need to attach the training and validation datasets and then ask SageMaker to set up the computation."
   ]
  },
  {
   "cell_type": "code",
   "execution_count": 47,
   "metadata": {},
   "outputs": [
    {
     "name": "stderr",
     "output_type": "stream",
     "text": [
      "'s3_input' class will be renamed to 'TrainingInput' in SageMaker Python SDK v2.\n",
      "'s3_input' class will be renamed to 'TrainingInput' in SageMaker Python SDK v2.\n"
     ]
    }
   ],
   "source": [
    "s3_input_train = sagemaker.s3_input(s3_data=train_location, content_type='csv')\n",
    "s3_input_validation = sagemaker.s3_input(s3_data=val_location, content_type='csv')"
   ]
  },
  {
   "cell_type": "code",
   "execution_count": 48,
   "metadata": {},
   "outputs": [
    {
     "name": "stdout",
     "output_type": "stream",
     "text": [
      "2021-11-16 11:35:48 Starting - Starting the training job...\n",
      "2021-11-16 11:35:51 Starting - Launching requested ML instances...\n",
      "2021-11-16 11:36:42 Starting - Preparing the instances for training............\n",
      "2021-11-16 11:38:21 Downloading - Downloading input data...\n",
      "2021-11-16 11:39:13 Training - Training image download completed. Training in progress..\u001B[34mArguments: train\u001B[0m\n",
      "\u001B[34m[2021-11-16:11:39:14:INFO] Running standalone xgboost training.\u001B[0m\n",
      "\u001B[34m[2021-11-16:11:39:14:INFO] File size need to be processed in the node: 238.49mb. Available memory size in the node: 8356.57mb\u001B[0m\n",
      "\u001B[34m[2021-11-16:11:39:14:INFO] Determined delimiter of CSV input is ','\u001B[0m\n",
      "\u001B[34m[11:39:14] S3DistributionType set as FullyReplicated\u001B[0m\n",
      "\u001B[34m[11:39:16] 15000x5000 matrix with 75000000 entries loaded from /opt/ml/input/data/train?format=csv&label_column=0&delimiter=,\u001B[0m\n",
      "\u001B[34m[2021-11-16:11:39:16:INFO] Determined delimiter of CSV input is ','\u001B[0m\n",
      "\u001B[34m[11:39:16] S3DistributionType set as FullyReplicated\u001B[0m\n",
      "\u001B[34m[11:39:17] 10000x5000 matrix with 50000000 entries loaded from /opt/ml/input/data/validation?format=csv&label_column=0&delimiter=,\u001B[0m\n",
      "\u001B[34m[11:39:21] src/tree/updater_prune.cc:74: tree pruning end, 1 roots, 42 extra nodes, 2 pruned nodes, max_depth=5\u001B[0m\n",
      "\u001B[34m[0]#011train-error:0.295533#011validation-error:0.3015\u001B[0m\n",
      "\u001B[34mMultiple eval metrics have been passed: 'validation-error' will be used for early stopping.\u001B[0m\n",
      "\u001B[34mWill train until validation-error hasn't improved in 10 rounds.\u001B[0m\n",
      "\u001B[34m[11:39:23] src/tree/updater_prune.cc:74: tree pruning end, 1 roots, 44 extra nodes, 4 pruned nodes, max_depth=5\u001B[0m\n",
      "\u001B[34m[1]#011train-error:0.2804#011validation-error:0.2876\u001B[0m\n",
      "\u001B[34m[11:39:24] src/tree/updater_prune.cc:74: tree pruning end, 1 roots, 42 extra nodes, 8 pruned nodes, max_depth=5\u001B[0m\n",
      "\u001B[34m[2]#011train-error:0.267267#011validation-error:0.2714\u001B[0m\n",
      "\u001B[34m[11:39:26] src/tree/updater_prune.cc:74: tree pruning end, 1 roots, 32 extra nodes, 0 pruned nodes, max_depth=5\u001B[0m\n",
      "\u001B[34m[3]#011train-error:0.2676#011validation-error:0.274\u001B[0m\n",
      "\u001B[34m[11:39:27] src/tree/updater_prune.cc:74: tree pruning end, 1 roots, 42 extra nodes, 2 pruned nodes, max_depth=5\u001B[0m\n",
      "\u001B[34m[4]#011train-error:0.259267#011validation-error:0.2678\u001B[0m\n",
      "\u001B[34m[11:39:28] src/tree/updater_prune.cc:74: tree pruning end, 1 roots, 28 extra nodes, 6 pruned nodes, max_depth=5\u001B[0m\n",
      "\u001B[34m[5]#011train-error:0.255667#011validation-error:0.2638\u001B[0m\n",
      "\u001B[34m[11:39:30] src/tree/updater_prune.cc:74: tree pruning end, 1 roots, 26 extra nodes, 14 pruned nodes, max_depth=5\u001B[0m\n",
      "\u001B[34m[6]#011train-error:0.249333#011validation-error:0.2605\u001B[0m\n",
      "\u001B[34m[11:39:31] src/tree/updater_prune.cc:74: tree pruning end, 1 roots, 36 extra nodes, 10 pruned nodes, max_depth=5\u001B[0m\n",
      "\u001B[34m[7]#011train-error:0.240933#011validation-error:0.2564\u001B[0m\n",
      "\u001B[34m[11:39:32] src/tree/updater_prune.cc:74: tree pruning end, 1 roots, 32 extra nodes, 6 pruned nodes, max_depth=5\u001B[0m\n",
      "\u001B[34m[8]#011train-error:0.233267#011validation-error:0.2484\u001B[0m\n",
      "\u001B[34m[11:39:34] src/tree/updater_prune.cc:74: tree pruning end, 1 roots, 32 extra nodes, 8 pruned nodes, max_depth=5\u001B[0m\n",
      "\u001B[34m[9]#011train-error:0.227867#011validation-error:0.2418\u001B[0m\n",
      "\u001B[34m[11:39:35] src/tree/updater_prune.cc:74: tree pruning end, 1 roots, 38 extra nodes, 4 pruned nodes, max_depth=5\u001B[0m\n",
      "\u001B[34m[10]#011train-error:0.223333#011validation-error:0.2373\u001B[0m\n",
      "\u001B[34m[11:39:37] src/tree/updater_prune.cc:74: tree pruning end, 1 roots, 30 extra nodes, 4 pruned nodes, max_depth=5\u001B[0m\n",
      "\u001B[34m[11]#011train-error:0.218067#011validation-error:0.2306\u001B[0m\n",
      "\u001B[34m[11:39:38] src/tree/updater_prune.cc:74: tree pruning end, 1 roots, 30 extra nodes, 14 pruned nodes, max_depth=5\u001B[0m\n",
      "\u001B[34m[12]#011train-error:0.2128#011validation-error:0.2264\u001B[0m\n",
      "\u001B[34m[11:39:39] src/tree/updater_prune.cc:74: tree pruning end, 1 roots, 32 extra nodes, 2 pruned nodes, max_depth=5\u001B[0m\n",
      "\u001B[34m[13]#011train-error:0.212067#011validation-error:0.2254\u001B[0m\n",
      "\u001B[34m[11:39:41] src/tree/updater_prune.cc:74: tree pruning end, 1 roots, 24 extra nodes, 4 pruned nodes, max_depth=5\u001B[0m\n",
      "\u001B[34m[14]#011train-error:0.204267#011validation-error:0.2229\u001B[0m\n",
      "\u001B[34m[11:39:42] src/tree/updater_prune.cc:74: tree pruning end, 1 roots, 24 extra nodes, 8 pruned nodes, max_depth=5\u001B[0m\n",
      "\u001B[34m[15]#011train-error:0.2036#011validation-error:0.22\u001B[0m\n",
      "\u001B[34m[11:39:43] src/tree/updater_prune.cc:74: tree pruning end, 1 roots, 20 extra nodes, 16 pruned nodes, max_depth=5\u001B[0m\n",
      "\u001B[34m[16]#011train-error:0.2028#011validation-error:0.2157\u001B[0m\n",
      "\u001B[34m[11:39:45] src/tree/updater_prune.cc:74: tree pruning end, 1 roots, 28 extra nodes, 4 pruned nodes, max_depth=5\u001B[0m\n",
      "\u001B[34m[17]#011train-error:0.197067#011validation-error:0.2144\u001B[0m\n",
      "\u001B[34m[11:39:46] src/tree/updater_prune.cc:74: tree pruning end, 1 roots, 28 extra nodes, 8 pruned nodes, max_depth=5\u001B[0m\n",
      "\u001B[34m[18]#011train-error:0.195867#011validation-error:0.2133\u001B[0m\n",
      "\u001B[34m[11:39:48] src/tree/updater_prune.cc:74: tree pruning end, 1 roots, 32 extra nodes, 6 pruned nodes, max_depth=5\u001B[0m\n",
      "\u001B[34m[19]#011train-error:0.1904#011validation-error:0.2093\u001B[0m\n",
      "\u001B[34m[11:39:49] src/tree/updater_prune.cc:74: tree pruning end, 1 roots, 32 extra nodes, 4 pruned nodes, max_depth=5\u001B[0m\n",
      "\u001B[34m[20]#011train-error:0.185933#011validation-error:0.2084\u001B[0m\n",
      "\u001B[34m[11:39:50] src/tree/updater_prune.cc:74: tree pruning end, 1 roots, 26 extra nodes, 4 pruned nodes, max_depth=5\u001B[0m\n",
      "\u001B[34m[21]#011train-error:0.1836#011validation-error:0.2044\u001B[0m\n",
      "\u001B[34m[11:39:52] src/tree/updater_prune.cc:74: tree pruning end, 1 roots, 26 extra nodes, 12 pruned nodes, max_depth=5\u001B[0m\n",
      "\u001B[34m[22]#011train-error:0.181467#011validation-error:0.2046\u001B[0m\n",
      "\u001B[34m[11:39:53] src/tree/updater_prune.cc:74: tree pruning end, 1 roots, 38 extra nodes, 4 pruned nodes, max_depth=5\u001B[0m\n",
      "\u001B[34m[23]#011train-error:0.1784#011validation-error:0.2008\u001B[0m\n",
      "\u001B[34m[11:39:54] src/tree/updater_prune.cc:74: tree pruning end, 1 roots, 22 extra nodes, 10 pruned nodes, max_depth=5\u001B[0m\n",
      "\u001B[34m[24]#011train-error:0.1766#011validation-error:0.1999\u001B[0m\n",
      "\u001B[34m[11:39:56] src/tree/updater_prune.cc:74: tree pruning end, 1 roots, 28 extra nodes, 8 pruned nodes, max_depth=5\u001B[0m\n",
      "\u001B[34m[25]#011train-error:0.175667#011validation-error:0.1967\u001B[0m\n",
      "\u001B[34m[11:39:57] src/tree/updater_prune.cc:74: tree pruning end, 1 roots, 28 extra nodes, 6 pruned nodes, max_depth=5\u001B[0m\n",
      "\u001B[34m[26]#011train-error:0.1736#011validation-error:0.1947\u001B[0m\n",
      "\u001B[34m[11:39:58] src/tree/updater_prune.cc:74: tree pruning end, 1 roots, 34 extra nodes, 4 pruned nodes, max_depth=5\u001B[0m\n",
      "\u001B[34m[27]#011train-error:0.170533#011validation-error:0.1916\u001B[0m\n",
      "\u001B[34m[11:40:00] src/tree/updater_prune.cc:74: tree pruning end, 1 roots, 14 extra nodes, 12 pruned nodes, max_depth=5\u001B[0m\n",
      "\u001B[34m[28]#011train-error:0.168733#011validation-error:0.1905\u001B[0m\n",
      "\u001B[34m[11:40:01] src/tree/updater_prune.cc:74: tree pruning end, 1 roots, 30 extra nodes, 8 pruned nodes, max_depth=5\u001B[0m\n",
      "\u001B[34m[29]#011train-error:0.167067#011validation-error:0.19\u001B[0m\n",
      "\u001B[34m[11:40:03] src/tree/updater_prune.cc:74: tree pruning end, 1 roots, 20 extra nodes, 10 pruned nodes, max_depth=5\u001B[0m\n",
      "\u001B[34m[30]#011train-error:0.165133#011validation-error:0.1884\u001B[0m\n",
      "\u001B[34m[11:40:04] src/tree/updater_prune.cc:74: tree pruning end, 1 roots, 12 extra nodes, 8 pruned nodes, max_depth=5\u001B[0m\n",
      "\u001B[34m[31]#011train-error:0.1646#011validation-error:0.1875\u001B[0m\n",
      "\u001B[34m[11:40:05] src/tree/updater_prune.cc:74: tree pruning end, 1 roots, 28 extra nodes, 8 pruned nodes, max_depth=5\u001B[0m\n",
      "\u001B[34m[32]#011train-error:0.1618#011validation-error:0.1873\u001B[0m\n",
      "\u001B[34m[11:40:07] src/tree/updater_prune.cc:74: tree pruning end, 1 roots, 32 extra nodes, 8 pruned nodes, max_depth=5\u001B[0m\n",
      "\u001B[34m[33]#011train-error:0.158933#011validation-error:0.1876\u001B[0m\n",
      "\u001B[34m[11:40:08] src/tree/updater_prune.cc:74: tree pruning end, 1 roots, 20 extra nodes, 12 pruned nodes, max_depth=5\u001B[0m\n",
      "\u001B[34m[34]#011train-error:0.1574#011validation-error:0.1866\u001B[0m\n",
      "\u001B[34m[11:40:10] src/tree/updater_prune.cc:74: tree pruning end, 1 roots, 18 extra nodes, 12 pruned nodes, max_depth=5\u001B[0m\n",
      "\u001B[34m[35]#011train-error:0.156#011validation-error:0.1852\u001B[0m\n",
      "\u001B[34m[11:40:11] src/tree/updater_prune.cc:74: tree pruning end, 1 roots, 30 extra nodes, 2 pruned nodes, max_depth=5\u001B[0m\n",
      "\u001B[34m[36]#011train-error:0.1554#011validation-error:0.1827\u001B[0m\n",
      "\u001B[34m[11:40:13] src/tree/updater_prune.cc:74: tree pruning end, 1 roots, 30 extra nodes, 6 pruned nodes, max_depth=5\u001B[0m\n",
      "\u001B[34m[37]#011train-error:0.152933#011validation-error:0.182\u001B[0m\n",
      "\u001B[34m[11:40:14] src/tree/updater_prune.cc:74: tree pruning end, 1 roots, 22 extra nodes, 6 pruned nodes, max_depth=5\u001B[0m\n",
      "\u001B[34m[38]#011train-error:0.1518#011validation-error:0.1818\u001B[0m\n",
      "\u001B[34m[11:40:16] src/tree/updater_prune.cc:74: tree pruning end, 1 roots, 28 extra nodes, 10 pruned nodes, max_depth=5\u001B[0m\n",
      "\u001B[34m[39]#011train-error:0.150067#011validation-error:0.1803\u001B[0m\n",
      "\u001B[34m[11:40:17] src/tree/updater_prune.cc:74: tree pruning end, 1 roots, 28 extra nodes, 14 pruned nodes, max_depth=5\u001B[0m\n",
      "\u001B[34m[40]#011train-error:0.149667#011validation-error:0.1784\u001B[0m\n",
      "\u001B[34m[11:40:18] src/tree/updater_prune.cc:74: tree pruning end, 1 roots, 18 extra nodes, 14 pruned nodes, max_depth=5\u001B[0m\n",
      "\u001B[34m[41]#011train-error:0.148733#011validation-error:0.1781\u001B[0m\n",
      "\u001B[34m[11:40:20] src/tree/updater_prune.cc:74: tree pruning end, 1 roots, 28 extra nodes, 2 pruned nodes, max_depth=5\u001B[0m\n",
      "\u001B[34m[42]#011train-error:0.147067#011validation-error:0.1764\u001B[0m\n",
      "\u001B[34m[11:40:21] src/tree/updater_prune.cc:74: tree pruning end, 1 roots, 26 extra nodes, 6 pruned nodes, max_depth=5\u001B[0m\n",
      "\u001B[34m[43]#011train-error:0.146067#011validation-error:0.1758\u001B[0m\n",
      "\u001B[34m[11:40:22] src/tree/updater_prune.cc:74: tree pruning end, 1 roots, 28 extra nodes, 4 pruned nodes, max_depth=5\u001B[0m\n",
      "\u001B[34m[44]#011train-error:0.1446#011validation-error:0.1757\u001B[0m\n",
      "\u001B[34m[11:40:24] src/tree/updater_prune.cc:74: tree pruning end, 1 roots, 14 extra nodes, 10 pruned nodes, max_depth=5\u001B[0m\n",
      "\u001B[34m[45]#011train-error:0.1446#011validation-error:0.1753\u001B[0m\n",
      "\u001B[34m[11:40:25] src/tree/updater_prune.cc:74: tree pruning end, 1 roots, 30 extra nodes, 8 pruned nodes, max_depth=5\u001B[0m\n",
      "\u001B[34m[46]#011train-error:0.1434#011validation-error:0.1745\u001B[0m\n",
      "\u001B[34m[11:40:26] src/tree/updater_prune.cc:74: tree pruning end, 1 roots, 20 extra nodes, 6 pruned nodes, max_depth=5\u001B[0m\n",
      "\u001B[34m[47]#011train-error:0.142133#011validation-error:0.173\u001B[0m\n",
      "\u001B[34m[11:40:28] src/tree/updater_prune.cc:74: tree pruning end, 1 roots, 18 extra nodes, 8 pruned nodes, max_depth=5\u001B[0m\n",
      "\u001B[34m[48]#011train-error:0.140867#011validation-error:0.1719\u001B[0m\n",
      "\u001B[34m[11:40:29] src/tree/updater_prune.cc:74: tree pruning end, 1 roots, 28 extra nodes, 6 pruned nodes, max_depth=5\u001B[0m\n",
      "\u001B[34m[49]#011train-error:0.140133#011validation-error:0.1724\u001B[0m\n",
      "\u001B[34m[11:40:31] src/tree/updater_prune.cc:74: tree pruning end, 1 roots, 16 extra nodes, 10 pruned nodes, max_depth=5\u001B[0m\n",
      "\u001B[34m[50]#011train-error:0.139133#011validation-error:0.1723\u001B[0m\n",
      "\u001B[34m[11:40:32] src/tree/updater_prune.cc:74: tree pruning end, 1 roots, 18 extra nodes, 14 pruned nodes, max_depth=5\u001B[0m\n",
      "\u001B[34m[51]#011train-error:0.1388#011validation-error:0.172\u001B[0m\n",
      "\u001B[34m[11:40:33] src/tree/updater_prune.cc:74: tree pruning end, 1 roots, 22 extra nodes, 8 pruned nodes, max_depth=5\u001B[0m\n",
      "\u001B[34m[52]#011train-error:0.137867#011validation-error:0.1722\u001B[0m\n",
      "\u001B[34m[11:40:35] src/tree/updater_prune.cc:74: tree pruning end, 1 roots, 20 extra nodes, 14 pruned nodes, max_depth=5\u001B[0m\n",
      "\u001B[34m[53]#011train-error:0.136733#011validation-error:0.1713\u001B[0m\n",
      "\u001B[34m[11:40:36] src/tree/updater_prune.cc:74: tree pruning end, 1 roots, 20 extra nodes, 16 pruned nodes, max_depth=5\u001B[0m\n",
      "\u001B[34m[54]#011train-error:0.136533#011validation-error:0.169\u001B[0m\n",
      "\u001B[34m[11:40:37] src/tree/updater_prune.cc:74: tree pruning end, 1 roots, 22 extra nodes, 10 pruned nodes, max_depth=5\u001B[0m\n",
      "\u001B[34m[55]#011train-error:0.135333#011validation-error:0.1679\u001B[0m\n",
      "\u001B[34m[11:40:39] src/tree/updater_prune.cc:74: tree pruning end, 1 roots, 26 extra nodes, 12 pruned nodes, max_depth=5\u001B[0m\n",
      "\u001B[34m[56]#011train-error:0.134067#011validation-error:0.1671\u001B[0m\n",
      "\u001B[34m[11:40:40] src/tree/updater_prune.cc:74: tree pruning end, 1 roots, 36 extra nodes, 2 pruned nodes, max_depth=5\u001B[0m\n",
      "\u001B[34m[57]#011train-error:0.133467#011validation-error:0.1683\u001B[0m\n",
      "\u001B[34m[11:40:41] src/tree/updater_prune.cc:74: tree pruning end, 1 roots, 14 extra nodes, 12 pruned nodes, max_depth=5\u001B[0m\n",
      "\u001B[34m[58]#011train-error:0.1328#011validation-error:0.1675\u001B[0m\n",
      "\u001B[34m[11:40:43] src/tree/updater_prune.cc:74: tree pruning end, 1 roots, 22 extra nodes, 10 pruned nodes, max_depth=5\u001B[0m\n",
      "\u001B[34m[59]#011train-error:0.132333#011validation-error:0.1671\u001B[0m\n",
      "\u001B[34m[11:40:44] src/tree/updater_prune.cc:74: tree pruning end, 1 roots, 16 extra nodes, 14 pruned nodes, max_depth=5\u001B[0m\n",
      "\u001B[34m[60]#011train-error:0.129667#011validation-error:0.1667\u001B[0m\n",
      "\u001B[34m[11:40:46] src/tree/updater_prune.cc:74: tree pruning end, 1 roots, 22 extra nodes, 8 pruned nodes, max_depth=5\u001B[0m\n",
      "\u001B[34m[61]#011train-error:0.129467#011validation-error:0.1658\u001B[0m\n",
      "\u001B[34m[11:40:47] src/tree/updater_prune.cc:74: tree pruning end, 1 roots, 18 extra nodes, 8 pruned nodes, max_depth=5\u001B[0m\n",
      "\u001B[34m[62]#011train-error:0.128733#011validation-error:0.1636\u001B[0m\n",
      "\u001B[34m[11:40:48] src/tree/updater_prune.cc:74: tree pruning end, 1 roots, 22 extra nodes, 2 pruned nodes, max_depth=5\u001B[0m\n",
      "\u001B[34m[63]#011train-error:0.127467#011validation-error:0.1634\u001B[0m\n",
      "\u001B[34m[11:40:50] src/tree/updater_prune.cc:74: tree pruning end, 1 roots, 22 extra nodes, 6 pruned nodes, max_depth=5\u001B[0m\n",
      "\u001B[34m[64]#011train-error:0.1272#011validation-error:0.163\u001B[0m\n",
      "\u001B[34m[11:40:51] src/tree/updater_prune.cc:74: tree pruning end, 1 roots, 16 extra nodes, 12 pruned nodes, max_depth=5\u001B[0m\n",
      "\u001B[34m[65]#011train-error:0.1264#011validation-error:0.1618\u001B[0m\n",
      "\u001B[34m[11:40:52] src/tree/updater_prune.cc:74: tree pruning end, 1 roots, 18 extra nodes, 6 pruned nodes, max_depth=5\u001B[0m\n",
      "\u001B[34m[66]#011train-error:0.1266#011validation-error:0.1617\u001B[0m\n",
      "\u001B[34m[11:40:54] src/tree/updater_prune.cc:74: tree pruning end, 1 roots, 14 extra nodes, 10 pruned nodes, max_depth=5\u001B[0m\n",
      "\u001B[34m[67]#011train-error:0.1262#011validation-error:0.1622\u001B[0m\n",
      "\u001B[34m[11:40:55] src/tree/updater_prune.cc:74: tree pruning end, 1 roots, 26 extra nodes, 18 pruned nodes, max_depth=5\u001B[0m\n",
      "\u001B[34m[68]#011train-error:0.125667#011validation-error:0.1619\u001B[0m\n",
      "\u001B[34m[11:40:56] src/tree/updater_prune.cc:74: tree pruning end, 1 roots, 14 extra nodes, 14 pruned nodes, max_depth=5\u001B[0m\n",
      "\u001B[34m[69]#011train-error:0.125067#011validation-error:0.1619\u001B[0m\n",
      "\u001B[34m[11:40:58] src/tree/updater_prune.cc:74: tree pruning end, 1 roots, 14 extra nodes, 6 pruned nodes, max_depth=5\u001B[0m\n",
      "\u001B[34m[70]#011train-error:0.1242#011validation-error:0.161\u001B[0m\n",
      "\u001B[34m[11:40:59] src/tree/updater_prune.cc:74: tree pruning end, 1 roots, 20 extra nodes, 2 pruned nodes, max_depth=5\u001B[0m\n",
      "\u001B[34m[71]#011train-error:0.1234#011validation-error:0.1607\u001B[0m\n",
      "\u001B[34m[11:41:01] src/tree/updater_prune.cc:74: tree pruning end, 1 roots, 10 extra nodes, 12 pruned nodes, max_depth=5\u001B[0m\n",
      "\u001B[34m[72]#011train-error:0.122467#011validation-error:0.161\u001B[0m\n",
      "\u001B[34m[11:41:02] src/tree/updater_prune.cc:74: tree pruning end, 1 roots, 12 extra nodes, 16 pruned nodes, max_depth=5\u001B[0m\n",
      "\u001B[34m[73]#011train-error:0.1228#011validation-error:0.1606\u001B[0m\n",
      "\u001B[34m[11:41:03] src/tree/updater_prune.cc:74: tree pruning end, 1 roots, 22 extra nodes, 14 pruned nodes, max_depth=5\u001B[0m\n",
      "\u001B[34m[74]#011train-error:0.121267#011validation-error:0.1599\u001B[0m\n",
      "\u001B[34m[11:41:05] src/tree/updater_prune.cc:74: tree pruning end, 1 roots, 18 extra nodes, 18 pruned nodes, max_depth=5\u001B[0m\n",
      "\u001B[34m[75]#011train-error:0.120667#011validation-error:0.1602\u001B[0m\n",
      "\u001B[34m[11:41:07] src/tree/updater_prune.cc:74: tree pruning end, 1 roots, 22 extra nodes, 8 pruned nodes, max_depth=5\u001B[0m\n",
      "\u001B[34m[76]#011train-error:0.119267#011validation-error:0.1603\u001B[0m\n",
      "\u001B[34m[11:41:08] src/tree/updater_prune.cc:74: tree pruning end, 1 roots, 14 extra nodes, 12 pruned nodes, max_depth=5\u001B[0m\n",
      "\u001B[34m[77]#011train-error:0.118667#011validation-error:0.1592\u001B[0m\n",
      "\u001B[34m[11:41:10] src/tree/updater_prune.cc:74: tree pruning end, 1 roots, 22 extra nodes, 12 pruned nodes, max_depth=5\u001B[0m\n",
      "\u001B[34m[78]#011train-error:0.1188#011validation-error:0.159\u001B[0m\n",
      "\u001B[34m[11:41:11] src/tree/updater_prune.cc:74: tree pruning end, 1 roots, 16 extra nodes, 2 pruned nodes, max_depth=5\u001B[0m\n",
      "\u001B[34m[79]#011train-error:0.118533#011validation-error:0.1588\u001B[0m\n",
      "\u001B[34m[11:41:12] src/tree/updater_prune.cc:74: tree pruning end, 1 roots, 14 extra nodes, 12 pruned nodes, max_depth=5\u001B[0m\n",
      "\u001B[34m[80]#011train-error:0.117733#011validation-error:0.1586\u001B[0m\n",
      "\u001B[34m[11:41:14] src/tree/updater_prune.cc:74: tree pruning end, 1 roots, 12 extra nodes, 4 pruned nodes, max_depth=5\u001B[0m\n",
      "\u001B[34m[81]#011train-error:0.117733#011validation-error:0.1586\u001B[0m\n",
      "\u001B[34m[11:41:15] src/tree/updater_prune.cc:74: tree pruning end, 1 roots, 20 extra nodes, 12 pruned nodes, max_depth=5\u001B[0m\n",
      "\u001B[34m[82]#011train-error:0.117467#011validation-error:0.1576\u001B[0m\n",
      "\u001B[34m[11:41:17] src/tree/updater_prune.cc:74: tree pruning end, 1 roots, 16 extra nodes, 12 pruned nodes, max_depth=5\u001B[0m\n",
      "\u001B[34m[83]#011train-error:0.116067#011validation-error:0.1571\u001B[0m\n",
      "\u001B[34m[11:41:18] src/tree/updater_prune.cc:74: tree pruning end, 1 roots, 18 extra nodes, 12 pruned nodes, max_depth=5\u001B[0m\n",
      "\u001B[34m[84]#011train-error:0.1154#011validation-error:0.1561\u001B[0m\n",
      "\u001B[34m[11:41:19] src/tree/updater_prune.cc:74: tree pruning end, 1 roots, 12 extra nodes, 6 pruned nodes, max_depth=5\u001B[0m\n",
      "\u001B[34m[85]#011train-error:0.114867#011validation-error:0.1555\u001B[0m\n",
      "\u001B[34m[11:41:21] src/tree/updater_prune.cc:74: tree pruning end, 1 roots, 10 extra nodes, 6 pruned nodes, max_depth=5\u001B[0m\n",
      "\u001B[34m[86]#011train-error:0.114533#011validation-error:0.1553\u001B[0m\n",
      "\u001B[34m[11:41:22] src/tree/updater_prune.cc:74: tree pruning end, 1 roots, 24 extra nodes, 16 pruned nodes, max_depth=5\u001B[0m\n",
      "\u001B[34m[87]#011train-error:0.113333#011validation-error:0.1547\u001B[0m\n",
      "\u001B[34m[11:41:23] src/tree/updater_prune.cc:74: tree pruning end, 1 roots, 10 extra nodes, 8 pruned nodes, max_depth=5\u001B[0m\n",
      "\u001B[34m[88]#011train-error:0.1128#011validation-error:0.153\u001B[0m\n",
      "\u001B[34m[11:41:25] src/tree/updater_prune.cc:74: tree pruning end, 1 roots, 14 extra nodes, 10 pruned nodes, max_depth=5\u001B[0m\n",
      "\u001B[34m[89]#011train-error:0.1118#011validation-error:0.1536\u001B[0m\n",
      "\u001B[34m[11:41:26] src/tree/updater_prune.cc:74: tree pruning end, 1 roots, 14 extra nodes, 0 pruned nodes, max_depth=5\u001B[0m\n",
      "\u001B[34m[90]#011train-error:0.111867#011validation-error:0.1531\u001B[0m\n",
      "\u001B[34m[11:41:27] src/tree/updater_prune.cc:74: tree pruning end, 1 roots, 20 extra nodes, 4 pruned nodes, max_depth=5\u001B[0m\n",
      "\u001B[34m[91]#011train-error:0.1108#011validation-error:0.1535\u001B[0m\n",
      "\u001B[34m[11:41:29] src/tree/updater_prune.cc:74: tree pruning end, 1 roots, 22 extra nodes, 12 pruned nodes, max_depth=5\u001B[0m\n",
      "\u001B[34m[92]#011train-error:0.111333#011validation-error:0.1519\u001B[0m\n",
      "\u001B[34m[11:41:30] src/tree/updater_prune.cc:74: tree pruning end, 1 roots, 28 extra nodes, 8 pruned nodes, max_depth=5\u001B[0m\n",
      "\u001B[34m[93]#011train-error:0.110067#011validation-error:0.1516\u001B[0m\n",
      "\u001B[34m[11:41:32] src/tree/updater_prune.cc:74: tree pruning end, 1 roots, 22 extra nodes, 0 pruned nodes, max_depth=5\u001B[0m\n",
      "\u001B[34m[94]#011train-error:0.1098#011validation-error:0.1511\u001B[0m\n",
      "\u001B[34m[11:41:33] src/tree/updater_prune.cc:74: tree pruning end, 1 roots, 22 extra nodes, 8 pruned nodes, max_depth=5\u001B[0m\n",
      "\u001B[34m[95]#011train-error:0.108867#011validation-error:0.1504\u001B[0m\n",
      "\u001B[34m[11:41:34] src/tree/updater_prune.cc:74: tree pruning end, 1 roots, 24 extra nodes, 6 pruned nodes, max_depth=5\u001B[0m\n",
      "\u001B[34m[96]#011train-error:0.107733#011validation-error:0.1509\u001B[0m\n",
      "\u001B[34m[11:41:36] src/tree/updater_prune.cc:74: tree pruning end, 1 roots, 12 extra nodes, 8 pruned nodes, max_depth=5\u001B[0m\n",
      "\u001B[34m[97]#011train-error:0.107#011validation-error:0.1507\u001B[0m\n",
      "\u001B[34m[11:41:37] src/tree/updater_prune.cc:74: tree pruning end, 1 roots, 10 extra nodes, 4 pruned nodes, max_depth=5\u001B[0m\n",
      "\u001B[34m[98]#011train-error:0.106667#011validation-error:0.1505\u001B[0m\n",
      "\u001B[34m[11:41:38] src/tree/updater_prune.cc:74: tree pruning end, 1 roots, 22 extra nodes, 8 pruned nodes, max_depth=5\u001B[0m\n",
      "\u001B[34m[99]#011train-error:0.106533#011validation-error:0.1502\u001B[0m\n",
      "\u001B[34m[11:41:40] src/tree/updater_prune.cc:74: tree pruning end, 1 roots, 18 extra nodes, 18 pruned nodes, max_depth=5\u001B[0m\n",
      "\u001B[34m[100]#011train-error:0.1054#011validation-error:0.1503\u001B[0m\n",
      "\u001B[34m[11:41:41] src/tree/updater_prune.cc:74: tree pruning end, 1 roots, 24 extra nodes, 10 pruned nodes, max_depth=5\u001B[0m\n",
      "\u001B[34m[101]#011train-error:0.103733#011validation-error:0.1502\u001B[0m\n",
      "\u001B[34m[11:41:42] src/tree/updater_prune.cc:74: tree pruning end, 1 roots, 18 extra nodes, 10 pruned nodes, max_depth=5\u001B[0m\n",
      "\u001B[34m[102]#011train-error:0.103667#011validation-error:0.1498\u001B[0m\n",
      "\u001B[34m[11:41:44] src/tree/updater_prune.cc:74: tree pruning end, 1 roots, 14 extra nodes, 4 pruned nodes, max_depth=5\u001B[0m\n",
      "\u001B[34m[103]#011train-error:0.1038#011validation-error:0.1495\u001B[0m\n",
      "\u001B[34m[11:41:45] src/tree/updater_prune.cc:74: tree pruning end, 1 roots, 16 extra nodes, 12 pruned nodes, max_depth=5\u001B[0m\n",
      "\u001B[34m[104]#011train-error:0.1034#011validation-error:0.1487\u001B[0m\n",
      "\u001B[34m[11:41:47] src/tree/updater_prune.cc:74: tree pruning end, 1 roots, 18 extra nodes, 12 pruned nodes, max_depth=5\u001B[0m\n",
      "\u001B[34m[105]#011train-error:0.103267#011validation-error:0.1482\u001B[0m\n",
      "\u001B[34m[11:41:48] src/tree/updater_prune.cc:74: tree pruning end, 1 roots, 20 extra nodes, 8 pruned nodes, max_depth=5\u001B[0m\n",
      "\u001B[34m[106]#011train-error:0.103#011validation-error:0.148\u001B[0m\n",
      "\u001B[34m[11:41:49] src/tree/updater_prune.cc:74: tree pruning end, 1 roots, 14 extra nodes, 12 pruned nodes, max_depth=5\u001B[0m\n",
      "\u001B[34m[107]#011train-error:0.102#011validation-error:0.1478\u001B[0m\n",
      "\u001B[34m[11:41:51] src/tree/updater_prune.cc:74: tree pruning end, 1 roots, 14 extra nodes, 6 pruned nodes, max_depth=5\u001B[0m\n",
      "\u001B[34m[108]#011train-error:0.102067#011validation-error:0.1481\u001B[0m\n",
      "\u001B[34m[11:41:52] src/tree/updater_prune.cc:74: tree pruning end, 1 roots, 18 extra nodes, 12 pruned nodes, max_depth=5\u001B[0m\n",
      "\u001B[34m[109]#011train-error:0.101933#011validation-error:0.1479\u001B[0m\n",
      "\u001B[34m[11:41:53] src/tree/updater_prune.cc:74: tree pruning end, 1 roots, 16 extra nodes, 6 pruned nodes, max_depth=5\u001B[0m\n",
      "\u001B[34m[110]#011train-error:0.101733#011validation-error:0.1472\u001B[0m\n",
      "\u001B[34m[11:41:55] src/tree/updater_prune.cc:74: tree pruning end, 1 roots, 26 extra nodes, 12 pruned nodes, max_depth=5\u001B[0m\n",
      "\u001B[34m[111]#011train-error:0.101267#011validation-error:0.146\u001B[0m\n",
      "\u001B[34m[11:41:56] src/tree/updater_prune.cc:74: tree pruning end, 1 roots, 12 extra nodes, 6 pruned nodes, max_depth=5\u001B[0m\n",
      "\u001B[34m[112]#011train-error:0.1004#011validation-error:0.1463\u001B[0m\n",
      "\u001B[34m[11:41:57] src/tree/updater_prune.cc:74: tree pruning end, 1 roots, 16 extra nodes, 6 pruned nodes, max_depth=5\u001B[0m\n",
      "\u001B[34m[113]#011train-error:0.1004#011validation-error:0.1458\u001B[0m\n",
      "\u001B[34m[11:41:59] src/tree/updater_prune.cc:74: tree pruning end, 1 roots, 12 extra nodes, 8 pruned nodes, max_depth=5\u001B[0m\n",
      "\u001B[34m[114]#011train-error:0.1004#011validation-error:0.1462\u001B[0m\n",
      "\u001B[34m[11:42:00] src/tree/updater_prune.cc:74: tree pruning end, 1 roots, 10 extra nodes, 8 pruned nodes, max_depth=5\u001B[0m\n",
      "\u001B[34m[115]#011train-error:0.100067#011validation-error:0.1461\u001B[0m\n",
      "\u001B[34m[11:42:02] src/tree/updater_prune.cc:74: tree pruning end, 1 roots, 16 extra nodes, 4 pruned nodes, max_depth=5\u001B[0m\n",
      "\u001B[34m[116]#011train-error:0.099933#011validation-error:0.1464\u001B[0m\n",
      "\u001B[34m[11:42:04] src/tree/updater_prune.cc:74: tree pruning end, 1 roots, 14 extra nodes, 4 pruned nodes, max_depth=5\u001B[0m\n",
      "\u001B[34m[117]#011train-error:0.098533#011validation-error:0.1464\u001B[0m\n",
      "\u001B[34m[11:42:05] src/tree/updater_prune.cc:74: tree pruning end, 1 roots, 10 extra nodes, 8 pruned nodes, max_depth=5\u001B[0m\n",
      "\u001B[34m[118]#011train-error:0.098133#011validation-error:0.1462\u001B[0m\n",
      "\u001B[34m[11:42:06] src/tree/updater_prune.cc:74: tree pruning end, 1 roots, 18 extra nodes, 6 pruned nodes, max_depth=5\u001B[0m\n",
      "\u001B[34m[119]#011train-error:0.0986#011validation-error:0.1459\u001B[0m\n",
      "\u001B[34m[11:42:08] src/tree/updater_prune.cc:74: tree pruning end, 1 roots, 20 extra nodes, 6 pruned nodes, max_depth=5\u001B[0m\n",
      "\u001B[34m[120]#011train-error:0.0974#011validation-error:0.1455\u001B[0m\n",
      "\u001B[34m[11:42:09] src/tree/updater_prune.cc:74: tree pruning end, 1 roots, 16 extra nodes, 12 pruned nodes, max_depth=5\u001B[0m\n",
      "\u001B[34m[121]#011train-error:0.096667#011validation-error:0.1462\u001B[0m\n",
      "\u001B[34m[11:42:11] src/tree/updater_prune.cc:74: tree pruning end, 1 roots, 12 extra nodes, 10 pruned nodes, max_depth=5\u001B[0m\n",
      "\u001B[34m[122]#011train-error:0.096333#011validation-error:0.1462\u001B[0m\n",
      "\u001B[34m[11:42:12] src/tree/updater_prune.cc:74: tree pruning end, 1 roots, 12 extra nodes, 16 pruned nodes, max_depth=5\u001B[0m\n",
      "\u001B[34m[123]#011train-error:0.095933#011validation-error:0.1451\u001B[0m\n",
      "\u001B[34m[11:42:13] src/tree/updater_prune.cc:74: tree pruning end, 1 roots, 12 extra nodes, 8 pruned nodes, max_depth=5\u001B[0m\n",
      "\u001B[34m[124]#011train-error:0.0958#011validation-error:0.1458\u001B[0m\n",
      "\u001B[34m[11:42:15] src/tree/updater_prune.cc:74: tree pruning end, 1 roots, 14 extra nodes, 14 pruned nodes, max_depth=5\u001B[0m\n",
      "\u001B[34m[125]#011train-error:0.096067#011validation-error:0.1454\u001B[0m\n",
      "\u001B[34m[11:42:16] src/tree/updater_prune.cc:74: tree pruning end, 1 roots, 18 extra nodes, 10 pruned nodes, max_depth=5\u001B[0m\n",
      "\u001B[34m[126]#011train-error:0.096#011validation-error:0.1457\u001B[0m\n",
      "\u001B[34m[11:42:17] src/tree/updater_prune.cc:74: tree pruning end, 1 roots, 16 extra nodes, 12 pruned nodes, max_depth=5\u001B[0m\n",
      "\u001B[34m[127]#011train-error:0.095467#011validation-error:0.145\u001B[0m\n",
      "\u001B[34m[11:42:19] src/tree/updater_prune.cc:74: tree pruning end, 1 roots, 12 extra nodes, 10 pruned nodes, max_depth=5\u001B[0m\n",
      "\u001B[34m[128]#011train-error:0.095133#011validation-error:0.1453\u001B[0m\n",
      "\u001B[34m[11:42:20] src/tree/updater_prune.cc:74: tree pruning end, 1 roots, 10 extra nodes, 6 pruned nodes, max_depth=5\u001B[0m\n",
      "\u001B[34m[129]#011train-error:0.0946#011validation-error:0.1448\u001B[0m\n",
      "\u001B[34m[11:42:21] src/tree/updater_prune.cc:74: tree pruning end, 1 roots, 10 extra nodes, 4 pruned nodes, max_depth=5\u001B[0m\n",
      "\u001B[34m[130]#011train-error:0.0948#011validation-error:0.1441\u001B[0m\n",
      "\u001B[34m[11:42:23] src/tree/updater_prune.cc:74: tree pruning end, 1 roots, 10 extra nodes, 6 pruned nodes, max_depth=5\u001B[0m\n",
      "\u001B[34m[131]#011train-error:0.094267#011validation-error:0.1438\u001B[0m\n",
      "\u001B[34m[11:42:24] src/tree/updater_prune.cc:74: tree pruning end, 1 roots, 18 extra nodes, 12 pruned nodes, max_depth=5\u001B[0m\n",
      "\u001B[34m[132]#011train-error:0.094467#011validation-error:0.1441\u001B[0m\n",
      "\u001B[34m[11:42:26] src/tree/updater_prune.cc:74: tree pruning end, 1 roots, 18 extra nodes, 8 pruned nodes, max_depth=5\u001B[0m\n",
      "\u001B[34m[133]#011train-error:0.093667#011validation-error:0.144\u001B[0m\n",
      "\u001B[34m[11:42:27] src/tree/updater_prune.cc:74: tree pruning end, 1 roots, 20 extra nodes, 6 pruned nodes, max_depth=5\u001B[0m\n",
      "\u001B[34m[134]#011train-error:0.092733#011validation-error:0.144\u001B[0m\n",
      "\u001B[34m[11:42:28] src/tree/updater_prune.cc:74: tree pruning end, 1 roots, 14 extra nodes, 4 pruned nodes, max_depth=5\u001B[0m\n",
      "\u001B[34m[135]#011train-error:0.092733#011validation-error:0.1428\u001B[0m\n",
      "\u001B[34m[11:42:30] src/tree/updater_prune.cc:74: tree pruning end, 1 roots, 10 extra nodes, 6 pruned nodes, max_depth=5\u001B[0m\n",
      "\u001B[34m[136]#011train-error:0.092267#011validation-error:0.1428\u001B[0m\n",
      "\u001B[34m[11:42:31] src/tree/updater_prune.cc:74: tree pruning end, 1 roots, 12 extra nodes, 2 pruned nodes, max_depth=5\u001B[0m\n",
      "\u001B[34m[137]#011train-error:0.0918#011validation-error:0.1425\u001B[0m\n",
      "\u001B[34m[11:42:32] src/tree/updater_prune.cc:74: tree pruning end, 1 roots, 14 extra nodes, 2 pruned nodes, max_depth=5\u001B[0m\n",
      "\u001B[34m[138]#011train-error:0.091467#011validation-error:0.1419\u001B[0m\n",
      "\u001B[34m[11:42:34] src/tree/updater_prune.cc:74: tree pruning end, 1 roots, 22 extra nodes, 4 pruned nodes, max_depth=5\u001B[0m\n",
      "\u001B[34m[139]#011train-error:0.091267#011validation-error:0.1426\u001B[0m\n",
      "\u001B[34m[11:42:35] src/tree/updater_prune.cc:74: tree pruning end, 1 roots, 16 extra nodes, 10 pruned nodes, max_depth=5\u001B[0m\n",
      "\u001B[34m[140]#011train-error:0.0914#011validation-error:0.1428\u001B[0m\n",
      "\u001B[34m[11:42:36] src/tree/updater_prune.cc:74: tree pruning end, 1 roots, 12 extra nodes, 8 pruned nodes, max_depth=5\u001B[0m\n",
      "\u001B[34m[141]#011train-error:0.090733#011validation-error:0.1422\u001B[0m\n",
      "\u001B[34m[11:42:38] src/tree/updater_prune.cc:74: tree pruning end, 1 roots, 16 extra nodes, 10 pruned nodes, max_depth=5\u001B[0m\n",
      "\u001B[34m[142]#011train-error:0.090933#011validation-error:0.1422\u001B[0m\n",
      "\u001B[34m[11:42:39] src/tree/updater_prune.cc:74: tree pruning end, 1 roots, 18 extra nodes, 18 pruned nodes, max_depth=5\u001B[0m\n",
      "\u001B[34m[143]#011train-error:0.090467#011validation-error:0.142\u001B[0m\n",
      "\u001B[34m[11:42:40] src/tree/updater_prune.cc:74: tree pruning end, 1 roots, 16 extra nodes, 10 pruned nodes, max_depth=5\u001B[0m\n",
      "\u001B[34m[144]#011train-error:0.090333#011validation-error:0.1414\u001B[0m\n",
      "\u001B[34m[11:42:42] src/tree/updater_prune.cc:74: tree pruning end, 1 roots, 22 extra nodes, 12 pruned nodes, max_depth=5\u001B[0m\n",
      "\u001B[34m[145]#011train-error:0.0888#011validation-error:0.1418\u001B[0m\n",
      "\u001B[34m[11:42:43] src/tree/updater_prune.cc:74: tree pruning end, 1 roots, 10 extra nodes, 6 pruned nodes, max_depth=5\u001B[0m\n",
      "\u001B[34m[146]#011train-error:0.088533#011validation-error:0.1416\u001B[0m\n",
      "\u001B[34m[11:42:44] src/tree/updater_prune.cc:74: tree pruning end, 1 roots, 12 extra nodes, 12 pruned nodes, max_depth=5\u001B[0m\n",
      "\u001B[34m[147]#011train-error:0.088267#011validation-error:0.1415\u001B[0m\n",
      "\u001B[34m[11:42:46] src/tree/updater_prune.cc:74: tree pruning end, 1 roots, 12 extra nodes, 2 pruned nodes, max_depth=5\u001B[0m\n",
      "\u001B[34m[148]#011train-error:0.088467#011validation-error:0.1411\u001B[0m\n",
      "\u001B[34m[11:42:47] src/tree/updater_prune.cc:74: tree pruning end, 1 roots, 20 extra nodes, 6 pruned nodes, max_depth=5\u001B[0m\n",
      "\u001B[34m[149]#011train-error:0.087733#011validation-error:0.1406\u001B[0m\n",
      "\u001B[34m[11:42:49] src/tree/updater_prune.cc:74: tree pruning end, 1 roots, 10 extra nodes, 2 pruned nodes, max_depth=5\u001B[0m\n",
      "\u001B[34m[150]#011train-error:0.087733#011validation-error:0.1401\u001B[0m\n",
      "\u001B[34m[11:42:50] src/tree/updater_prune.cc:74: tree pruning end, 1 roots, 10 extra nodes, 6 pruned nodes, max_depth=5\u001B[0m\n",
      "\u001B[34m[151]#011train-error:0.087267#011validation-error:0.1399\u001B[0m\n",
      "\u001B[34m[11:42:51] src/tree/updater_prune.cc:74: tree pruning end, 1 roots, 12 extra nodes, 8 pruned nodes, max_depth=5\u001B[0m\n",
      "\u001B[34m[152]#011train-error:0.087333#011validation-error:0.1403\u001B[0m\n",
      "\u001B[34m[11:42:53] src/tree/updater_prune.cc:74: tree pruning end, 1 roots, 26 extra nodes, 6 pruned nodes, max_depth=5\u001B[0m\n",
      "\u001B[34m[153]#011train-error:0.0874#011validation-error:0.1404\u001B[0m\n",
      "\u001B[34m[11:42:54] src/tree/updater_prune.cc:74: tree pruning end, 1 roots, 14 extra nodes, 10 pruned nodes, max_depth=5\u001B[0m\n",
      "\u001B[34m[154]#011train-error:0.087933#011validation-error:0.14\u001B[0m\n",
      "\u001B[34m[11:42:55] src/tree/updater_prune.cc:74: tree pruning end, 1 roots, 10 extra nodes, 2 pruned nodes, max_depth=5\u001B[0m\n",
      "\u001B[34m[155]#011train-error:0.087467#011validation-error:0.1402\u001B[0m\n",
      "\u001B[34m[11:42:57] src/tree/updater_prune.cc:74: tree pruning end, 1 roots, 12 extra nodes, 6 pruned nodes, max_depth=5\u001B[0m\n",
      "\u001B[34m[156]#011train-error:0.087733#011validation-error:0.1397\u001B[0m\n",
      "\u001B[34m[11:42:58] src/tree/updater_prune.cc:74: tree pruning end, 1 roots, 16 extra nodes, 6 pruned nodes, max_depth=5\u001B[0m\n",
      "\u001B[34m[157]#011train-error:0.087267#011validation-error:0.1396\u001B[0m\n",
      "\u001B[34m[11:42:59] src/tree/updater_prune.cc:74: tree pruning end, 1 roots, 12 extra nodes, 12 pruned nodes, max_depth=5\u001B[0m\n",
      "\u001B[34m[158]#011train-error:0.0872#011validation-error:0.1396\u001B[0m\n",
      "\u001B[34m[11:43:01] src/tree/updater_prune.cc:74: tree pruning end, 1 roots, 18 extra nodes, 8 pruned nodes, max_depth=5\u001B[0m\n",
      "\u001B[34m[159]#011train-error:0.0862#011validation-error:0.14\u001B[0m\n",
      "\u001B[34m[11:43:02] src/tree/updater_prune.cc:74: tree pruning end, 1 roots, 18 extra nodes, 14 pruned nodes, max_depth=5\u001B[0m\n",
      "\u001B[34m[160]#011train-error:0.086067#011validation-error:0.1392\u001B[0m\n",
      "\u001B[34m[11:43:04] src/tree/updater_prune.cc:74: tree pruning end, 1 roots, 18 extra nodes, 4 pruned nodes, max_depth=5\u001B[0m\n",
      "\u001B[34m[161]#011train-error:0.086067#011validation-error:0.1389\u001B[0m\n",
      "\u001B[34m[11:43:05] src/tree/updater_prune.cc:74: tree pruning end, 1 roots, 20 extra nodes, 6 pruned nodes, max_depth=5\u001B[0m\n",
      "\u001B[34m[162]#011train-error:0.0858#011validation-error:0.1391\u001B[0m\n",
      "\u001B[34m[11:43:06] src/tree/updater_prune.cc:74: tree pruning end, 1 roots, 22 extra nodes, 16 pruned nodes, max_depth=5\u001B[0m\n",
      "\u001B[34m[163]#011train-error:0.0862#011validation-error:0.1383\u001B[0m\n",
      "\u001B[34m[11:43:08] src/tree/updater_prune.cc:74: tree pruning end, 1 roots, 10 extra nodes, 8 pruned nodes, max_depth=5\u001B[0m\n",
      "\u001B[34m[164]#011train-error:0.0862#011validation-error:0.1378\u001B[0m\n",
      "\u001B[34m[11:43:09] src/tree/updater_prune.cc:74: tree pruning end, 1 roots, 22 extra nodes, 6 pruned nodes, max_depth=5\u001B[0m\n",
      "\u001B[34m[165]#011train-error:0.085667#011validation-error:0.1374\u001B[0m\n",
      "\u001B[34m[11:43:11] src/tree/updater_prune.cc:74: tree pruning end, 1 roots, 16 extra nodes, 8 pruned nodes, max_depth=5\u001B[0m\n",
      "\u001B[34m[166]#011train-error:0.085267#011validation-error:0.1381\u001B[0m\n",
      "\u001B[34m[11:43:12] src/tree/updater_prune.cc:74: tree pruning end, 1 roots, 20 extra nodes, 10 pruned nodes, max_depth=5\u001B[0m\n",
      "\u001B[34m[167]#011train-error:0.084867#011validation-error:0.1384\u001B[0m\n",
      "\u001B[34m[11:43:14] src/tree/updater_prune.cc:74: tree pruning end, 1 roots, 10 extra nodes, 2 pruned nodes, max_depth=5\u001B[0m\n",
      "\u001B[34m[168]#011train-error:0.083933#011validation-error:0.138\u001B[0m\n",
      "\u001B[34m[11:43:15] src/tree/updater_prune.cc:74: tree pruning end, 1 roots, 24 extra nodes, 4 pruned nodes, max_depth=5\u001B[0m\n",
      "\u001B[34m[169]#011train-error:0.083267#011validation-error:0.1384\u001B[0m\n",
      "\u001B[34m[11:43:16] src/tree/updater_prune.cc:74: tree pruning end, 1 roots, 12 extra nodes, 16 pruned nodes, max_depth=5\u001B[0m\n",
      "\u001B[34m[170]#011train-error:0.083133#011validation-error:0.1381\u001B[0m\n",
      "\u001B[34m[11:43:18] src/tree/updater_prune.cc:74: tree pruning end, 1 roots, 18 extra nodes, 6 pruned nodes, max_depth=5\u001B[0m\n",
      "\u001B[34m[171]#011train-error:0.0828#011validation-error:0.1378\u001B[0m\n",
      "\u001B[34m[11:43:19] src/tree/updater_prune.cc:74: tree pruning end, 1 roots, 22 extra nodes, 8 pruned nodes, max_depth=5\u001B[0m\n",
      "\u001B[34m[172]#011train-error:0.083067#011validation-error:0.1391\u001B[0m\n",
      "\u001B[34m[11:43:20] src/tree/updater_prune.cc:74: tree pruning end, 1 roots, 18 extra nodes, 8 pruned nodes, max_depth=5\u001B[0m\n",
      "\u001B[34m[173]#011train-error:0.083067#011validation-error:0.1385\u001B[0m\n",
      "\u001B[34m[11:43:22] src/tree/updater_prune.cc:74: tree pruning end, 1 roots, 12 extra nodes, 6 pruned nodes, max_depth=5\u001B[0m\n",
      "\u001B[34m[174]#011train-error:0.0832#011validation-error:0.1381\u001B[0m\n",
      "\u001B[34m[11:43:23] src/tree/updater_prune.cc:74: tree pruning end, 1 roots, 20 extra nodes, 12 pruned nodes, max_depth=5\u001B[0m\n",
      "\u001B[34m[175]#011train-error:0.082067#011validation-error:0.1375\u001B[0m\n",
      "\u001B[34mStopping. Best iteration:\u001B[0m\n",
      "\u001B[34m[165]#011train-error:0.085667#011validation-error:0.1374\u001B[0m\n",
      "\n",
      "2021-11-16 11:44:22 Uploading - Uploading generated training model\n",
      "2021-11-16 11:44:22 Completed - Training job completed\n",
      "Training seconds: 361\n",
      "Billable seconds: 361\n"
     ]
    }
   ],
   "source": [
    "xgb.fit({'train': s3_input_train, 'validation': s3_input_validation})"
   ]
  },
  {
   "cell_type": "markdown",
   "metadata": {},
   "source": [
    "### (TODO) Testing the model\n",
    "\n",
    "Now that we've fit our XGBoost model, it's time to see how well it performs. To do this we will use SageMakers Batch Transform functionality. Batch Transform is a convenient way to perform inference on a large dataset in a way that is not realtime. That is, we don't necessarily need to use our model's results immediately and instead we can peform inference on a large number of samples. An example of this in industry might be peforming an end of month report. This method of inference can also be useful to us as it means to can perform inference on our entire test set. \n",
    "\n",
    "To perform a Batch Transformation we need to first create a transformer objects from our trained estimator object."
   ]
  },
  {
   "cell_type": "code",
   "execution_count": 49,
   "metadata": {},
   "outputs": [
    {
     "name": "stderr",
     "output_type": "stream",
     "text": [
      "Parameter image will be renamed to image_uri in SageMaker Python SDK v2.\n"
     ]
    }
   ],
   "source": [
    "# TODO: Create a transformer object from the trained model. Using an instance count of 1 and an instance type of ml.m4.xlarge\n",
    "#       should be more than enough.\n",
    "xgb_transformer = xgb.transformer(instance_count = 1, instance_type = 'ml.m4.xlarge')"
   ]
  },
  {
   "cell_type": "markdown",
   "metadata": {},
   "source": [
    "Next we actually perform the transform job. When doing so we need to make sure to specify the type of data we are sending so that it is serialized correctly in the background. In our case we are providing our model with csv data so we specify `text/csv`. Also, if the test data that we have provided is too large to process all at once then we need to specify how the data file should be split up. Since each line is a single entry in our data set we tell SageMaker that it can split the input on each line."
   ]
  },
  {
   "cell_type": "code",
   "execution_count": 50,
   "metadata": {},
   "outputs": [],
   "source": [
    "# TODO: Start the transform job. Make sure to specify the content type and the split type of the test data.\n",
    "xgb_transformer.transform(test_location, content_type='text/csv', split_type='Line')"
   ]
  },
  {
   "cell_type": "markdown",
   "metadata": {},
   "source": [
    "Currently the transform job is running but it is doing so in the background. Since we wish to wait until the transform job is done and we would like a bit of feedback we can run the `wait()` method."
   ]
  },
  {
   "cell_type": "code",
   "execution_count": 51,
   "metadata": {},
   "outputs": [
    {
     "name": "stdout",
     "output_type": "stream",
     "text": [
      "..............................\u001B[34mArguments: serve\u001B[0m\n",
      "\u001B[34m[2021-11-16 11:49:34 +0000] [1] [INFO] Starting gunicorn 19.9.0\u001B[0m\n",
      "\u001B[34m[2021-11-16 11:49:34 +0000] [1] [INFO] Listening at: http://0.0.0.0:8080 (1)\u001B[0m\n",
      "\u001B[34m[2021-11-16 11:49:34 +0000] [1] [INFO] Using worker: gevent\u001B[0m\n",
      "\u001B[34m[2021-11-16 11:49:34 +0000] [21] [INFO] Booting worker with pid: 21\u001B[0m\n",
      "\u001B[34m/opt/amazon/lib/python3.7/site-packages/gunicorn/workers/ggevent.py:65: MonkeyPatchWarning: Monkey-patching ssl after ssl has already been imported may lead to errors, including RecursionError on Python 3.6. It may also silently lead to incorrect behaviour on Python 3.7. Please monkey-patch earlier. See https://github.com/gevent/gevent/issues/1016. Modules that had direct imports (NOT patched): ['urllib3.util.ssl_ (/opt/amazon/lib/python3.7/site-packages/urllib3/util/ssl_.py)', 'urllib3.util (/opt/amazon/lib/python3.7/site-packages/urllib3/util/__init__.py)']. \n",
      "  monkey.patch_all(subprocess=True)\u001B[0m\n",
      "\u001B[34m[2021-11-16 11:49:34 +0000] [22] [INFO] Booting worker with pid: 22\u001B[0m\n",
      "\u001B[34m[2021-11-16:11:49:34:INFO] Model loaded successfully for worker : 21\u001B[0m\n",
      "\u001B[34m/opt/amazon/lib/python3.7/site-packages/gunicorn/workers/ggevent.py:65: MonkeyPatchWarning: Monkey-patching ssl after ssl has already been imported may lead to errors, including RecursionError on Python 3.6. It may also silently lead to incorrect behaviour on Python 3.7. Please monkey-patch earlier. See https://github.com/gevent/gevent/issues/1016. Modules that had direct imports (NOT patched): ['urllib3.util.ssl_ (/opt/amazon/lib/python3.7/site-packages/urllib3/util/ssl_.py)', 'urllib3.util (/opt/amazon/lib/python3.7/site-packages/urllib3/util/__init__.py)']. \n",
      "  monkey.patch_all(subprocess=True)\u001B[0m\n",
      "\u001B[34m[2021-11-16:11:49:34:INFO] Model loaded successfully for worker : 22\u001B[0m\n",
      "\u001B[34m[2021-11-16 11:49:34 +0000] [23] [INFO] Booting worker with pid: 23\u001B[0m\n",
      "\u001B[34m[2021-11-16 11:49:34 +0000] [24] [INFO] Booting worker with pid: 24\u001B[0m\n",
      "\u001B[34m/opt/amazon/lib/python3.7/site-packages/gunicorn/workers/ggevent.py:65: MonkeyPatchWarning: Monkey-patching ssl after ssl has already been imported may lead to errors, including RecursionError on Python 3.6. It may also silently lead to incorrect behaviour on Python 3.7. Please monkey-patch earlier. See https://github.com/gevent/gevent/issues/1016. Modules that had direct imports (NOT patched): ['urllib3.util.ssl_ (/opt/amazon/lib/python3.7/site-packages/urllib3/util/ssl_.py)', 'urllib3.util (/opt/amazon/lib/python3.7/site-packages/urllib3/util/__init__.py)']. \n",
      "  monkey.patch_all(subprocess=True)\u001B[0m\n",
      "\u001B[34m[2021-11-16:11:49:34:INFO] Model loaded successfully for worker : 23\u001B[0m\n",
      "\u001B[34m/opt/amazon/lib/python3.7/site-packages/gunicorn/workers/ggevent.py:65: MonkeyPatchWarning: Monkey-patching ssl after ssl has already been imported may lead to errors, including RecursionError on Python 3.6. It may also silently lead to incorrect behaviour on Python 3.7. Please monkey-patch earlier. See https://github.com/gevent/gevent/issues/1016. Modules that had direct imports (NOT patched): ['urllib3.util.ssl_ (/opt/amazon/lib/python3.7/site-packages/urllib3/util/ssl_.py)', 'urllib3.util (/opt/amazon/lib/python3.7/site-packages/urllib3/util/__init__.py)']. \n",
      "  monkey.patch_all(subprocess=True)\u001B[0m\n",
      "\u001B[34m[2021-11-16:11:49:34:INFO] Model loaded successfully for worker : 24\u001B[0m\n",
      "\u001B[32m2021-11-16T11:49:38.344:[sagemaker logs]: MaxConcurrentTransforms=4, MaxPayloadInMB=6, BatchStrategy=MULTI_RECORD\u001B[0m\n",
      "\u001B[34m[2021-11-16:11:49:41:INFO] Sniff delimiter as ','\u001B[0m\n",
      "\u001B[34m[2021-11-16:11:49:41:INFO] Determined delimiter of CSV input is ','\u001B[0m\n",
      "\u001B[35m[2021-11-16:11:49:41:INFO] Sniff delimiter as ','\u001B[0m\n",
      "\u001B[35m[2021-11-16:11:49:41:INFO] Determined delimiter of CSV input is ','\u001B[0m\n",
      "\u001B[34m[2021-11-16:11:49:41:INFO] Sniff delimiter as ','\u001B[0m\n",
      "\u001B[34m[2021-11-16:11:49:41:INFO] Determined delimiter of CSV input is ','\u001B[0m\n",
      "\u001B[35m[2021-11-16:11:49:41:INFO] Sniff delimiter as ','\u001B[0m\n",
      "\u001B[35m[2021-11-16:11:49:41:INFO] Determined delimiter of CSV input is ','\u001B[0m\n",
      "\u001B[34m[2021-11-16:11:49:41:INFO] Sniff delimiter as ','\u001B[0m\n",
      "\u001B[34m[2021-11-16:11:49:41:INFO] Determined delimiter of CSV input is ','\u001B[0m\n",
      "\u001B[35m[2021-11-16:11:49:41:INFO] Sniff delimiter as ','\u001B[0m\n",
      "\u001B[35m[2021-11-16:11:49:41:INFO] Determined delimiter of CSV input is ','\u001B[0m\n",
      "\u001B[34m[2021-11-16:11:49:43:INFO] Sniff delimiter as ','\u001B[0m\n",
      "\u001B[34m[2021-11-16:11:49:43:INFO] Determined delimiter of CSV input is ','\u001B[0m\n",
      "\u001B[35m[2021-11-16:11:49:43:INFO] Sniff delimiter as ','\u001B[0m\n",
      "\u001B[35m[2021-11-16:11:49:43:INFO] Determined delimiter of CSV input is ','\u001B[0m\n",
      "\u001B[34m[2021-11-16:11:49:44:INFO] Sniff delimiter as ','\u001B[0m\n",
      "\u001B[34m[2021-11-16:11:49:44:INFO] Determined delimiter of CSV input is ','\u001B[0m\n",
      "\u001B[34m[2021-11-16:11:49:44:INFO] Sniff delimiter as ','\u001B[0m\n",
      "\u001B[34m[2021-11-16:11:49:44:INFO] Determined delimiter of CSV input is ','\u001B[0m\n",
      "\u001B[35m[2021-11-16:11:49:44:INFO] Sniff delimiter as ','\u001B[0m\n",
      "\u001B[35m[2021-11-16:11:49:44:INFO] Determined delimiter of CSV input is ','\u001B[0m\n",
      "\u001B[35m[2021-11-16:11:49:44:INFO] Sniff delimiter as ','\u001B[0m\n",
      "\u001B[35m[2021-11-16:11:49:44:INFO] Determined delimiter of CSV input is ','\u001B[0m\n",
      "\u001B[34m[2021-11-16:11:49:46:INFO] Sniff delimiter as ','\u001B[0m\n",
      "\u001B[34m[2021-11-16:11:49:46:INFO] Determined delimiter of CSV input is ','\u001B[0m\n",
      "\u001B[34m[2021-11-16:11:49:46:INFO] Sniff delimiter as ','\u001B[0m\n",
      "\u001B[34m[2021-11-16:11:49:46:INFO] Determined delimiter of CSV input is ','\u001B[0m\n",
      "\u001B[35m[2021-11-16:11:49:46:INFO] Sniff delimiter as ','\u001B[0m\n",
      "\u001B[35m[2021-11-16:11:49:46:INFO] Determined delimiter of CSV input is ','\u001B[0m\n",
      "\u001B[35m[2021-11-16:11:49:46:INFO] Sniff delimiter as ','\u001B[0m\n",
      "\u001B[35m[2021-11-16:11:49:46:INFO] Determined delimiter of CSV input is ','\u001B[0m\n",
      "\u001B[34m[2021-11-16:11:49:47:INFO] Sniff delimiter as ','\u001B[0m\n",
      "\u001B[35m[2021-11-16:11:49:47:INFO] Sniff delimiter as ','\u001B[0m\n",
      "\u001B[34m[2021-11-16:11:49:47:INFO] Determined delimiter of CSV input is ','\u001B[0m\n",
      "\u001B[35m[2021-11-16:11:49:47:INFO] Determined delimiter of CSV input is ','\u001B[0m\n",
      "\u001B[34m[2021-11-16:11:49:48:INFO] Sniff delimiter as ','\u001B[0m\n",
      "\u001B[34m[2021-11-16:11:49:48:INFO] Determined delimiter of CSV input is ','\u001B[0m\n",
      "\u001B[35m[2021-11-16:11:49:48:INFO] Sniff delimiter as ','\u001B[0m\n",
      "\u001B[35m[2021-11-16:11:49:48:INFO] Determined delimiter of CSV input is ','\u001B[0m\n",
      "\u001B[34m[2021-11-16:11:49:50:INFO] Sniff delimiter as ','\u001B[0m\n",
      "\u001B[34m[2021-11-16:11:49:50:INFO] Determined delimiter of CSV input is ','\u001B[0m\n",
      "\u001B[34m[2021-11-16:11:49:50:INFO] Sniff delimiter as ','\u001B[0m\n",
      "\u001B[34m[2021-11-16:11:49:50:INFO] Determined delimiter of CSV input is ','\u001B[0m\n",
      "\u001B[35m[2021-11-16:11:49:50:INFO] Sniff delimiter as ','\u001B[0m\n",
      "\u001B[35m[2021-11-16:11:49:50:INFO] Determined delimiter of CSV input is ','\u001B[0m\n",
      "\u001B[35m[2021-11-16:11:49:50:INFO] Sniff delimiter as ','\u001B[0m\n",
      "\u001B[35m[2021-11-16:11:49:50:INFO] Determined delimiter of CSV input is ','\u001B[0m\n",
      "\u001B[34m[2021-11-16:11:49:54:INFO] Sniff delimiter as ','\u001B[0m\n",
      "\u001B[34m[2021-11-16:11:49:54:INFO] Determined delimiter of CSV input is ','\u001B[0m\n",
      "\u001B[35m[2021-11-16:11:49:54:INFO] Sniff delimiter as ','\u001B[0m\n",
      "\u001B[35m[2021-11-16:11:49:54:INFO] Determined delimiter of CSV input is ','\u001B[0m\n",
      "\u001B[34m[2021-11-16:11:49:56:INFO] Sniff delimiter as ','\u001B[0m\n",
      "\u001B[34m[2021-11-16:11:49:56:INFO] Determined delimiter of CSV input is ','\u001B[0m\n",
      "\u001B[35m[2021-11-16:11:49:56:INFO] Sniff delimiter as ','\u001B[0m\n",
      "\u001B[35m[2021-11-16:11:49:56:INFO] Determined delimiter of CSV input is ','\u001B[0m\n",
      "\u001B[34m[2021-11-16:11:49:56:INFO] Sniff delimiter as ','\u001B[0m\n",
      "\u001B[34m[2021-11-16:11:49:56:INFO] Determined delimiter of CSV input is ','\u001B[0m\n",
      "\u001B[34m[2021-11-16:11:49:56:INFO] Sniff delimiter as ','\u001B[0m\n",
      "\u001B[34m[2021-11-16:11:49:56:INFO] Determined delimiter of CSV input is ','\u001B[0m\n",
      "\u001B[35m[2021-11-16:11:49:56:INFO] Sniff delimiter as ','\u001B[0m\n",
      "\u001B[35m[2021-11-16:11:49:56:INFO] Determined delimiter of CSV input is ','\u001B[0m\n",
      "\u001B[35m[2021-11-16:11:49:56:INFO] Sniff delimiter as ','\u001B[0m\n",
      "\u001B[35m[2021-11-16:11:49:56:INFO] Determined delimiter of CSV input is ','\u001B[0m\n",
      "\u001B[34m[2021-11-16:11:49:58:INFO] Sniff delimiter as ','\u001B[0m\n",
      "\u001B[34m[2021-11-16:11:49:58:INFO] Determined delimiter of CSV input is ','\u001B[0m\n",
      "\u001B[35m[2021-11-16:11:49:58:INFO] Sniff delimiter as ','\u001B[0m\n",
      "\u001B[35m[2021-11-16:11:49:58:INFO] Determined delimiter of CSV input is ','\u001B[0m\n",
      "\u001B[34m[2021-11-16:11:49:59:INFO] Sniff delimiter as ','\u001B[0m\n",
      "\u001B[34m[2021-11-16:11:49:59:INFO] Determined delimiter of CSV input is ','\u001B[0m\n",
      "\u001B[34m[2021-11-16:11:50:00:INFO] Sniff delimiter as ','\u001B[0m\n",
      "\u001B[34m[2021-11-16:11:50:00:INFO] Determined delimiter of CSV input is ','\u001B[0m\n",
      "\u001B[35m[2021-11-16:11:49:59:INFO] Sniff delimiter as ','\u001B[0m\n",
      "\u001B[35m[2021-11-16:11:49:59:INFO] Determined delimiter of CSV input is ','\u001B[0m\n",
      "\u001B[35m[2021-11-16:11:50:00:INFO] Sniff delimiter as ','\u001B[0m\n",
      "\u001B[35m[2021-11-16:11:50:00:INFO] Determined delimiter of CSV input is ','\u001B[0m\n",
      "\u001B[34m[2021-11-16:11:50:02:INFO] Sniff delimiter as ','\u001B[0m\n",
      "\u001B[34m[2021-11-16:11:50:02:INFO] Determined delimiter of CSV input is ','\u001B[0m\n",
      "\u001B[35m[2021-11-16:11:50:02:INFO] Sniff delimiter as ','\u001B[0m\n",
      "\u001B[35m[2021-11-16:11:50:02:INFO] Determined delimiter of CSV input is ','\u001B[0m\n",
      "\u001B[34m[2021-11-16:11:50:03:INFO] Sniff delimiter as ','\u001B[0m\n",
      "\u001B[34m[2021-11-16:11:50:03:INFO] Determined delimiter of CSV input is ','\u001B[0m\n",
      "\u001B[35m[2021-11-16:11:50:03:INFO] Sniff delimiter as ','\u001B[0m\n",
      "\u001B[35m[2021-11-16:11:50:03:INFO] Determined delimiter of CSV input is ','\u001B[0m\n",
      "\u001B[34m[2021-11-16:11:50:05:INFO] Sniff delimiter as ','\u001B[0m\n",
      "\u001B[34m[2021-11-16:11:50:05:INFO] Determined delimiter of CSV input is ','\u001B[0m\n",
      "\u001B[34m[2021-11-16:11:50:05:INFO] Sniff delimiter as ','\u001B[0m\n",
      "\u001B[34m[2021-11-16:11:50:05:INFO] Determined delimiter of CSV input is ','\u001B[0m\n",
      "\u001B[35m[2021-11-16:11:50:05:INFO] Sniff delimiter as ','\u001B[0m\n",
      "\u001B[35m[2021-11-16:11:50:05:INFO] Determined delimiter of CSV input is ','\u001B[0m\n",
      "\u001B[35m[2021-11-16:11:50:05:INFO] Sniff delimiter as ','\u001B[0m\n",
      "\u001B[35m[2021-11-16:11:50:05:INFO] Determined delimiter of CSV input is ','\u001B[0m\n",
      "\u001B[34m[2021-11-16:11:50:07:INFO] Sniff delimiter as ','\u001B[0m\n",
      "\u001B[34m[2021-11-16:11:50:07:INFO] Determined delimiter of CSV input is ','\u001B[0m\n",
      "\u001B[34m[2021-11-16:11:50:07:INFO] Sniff delimiter as ','\u001B[0m\n",
      "\u001B[34m[2021-11-16:11:50:07:INFO] Determined delimiter of CSV input is ','\u001B[0m\n",
      "\u001B[34m[2021-11-16:11:50:07:INFO] Sniff delimiter as ','\u001B[0m\n",
      "\u001B[34m[2021-11-16:11:50:07:INFO] Determined delimiter of CSV input is ','\u001B[0m\n",
      "\u001B[34m[2021-11-16:11:50:08:INFO] Sniff delimiter as ','\u001B[0m\n",
      "\u001B[34m[2021-11-16:11:50:08:INFO] Determined delimiter of CSV input is ','\u001B[0m\n",
      "\u001B[35m[2021-11-16:11:50:07:INFO] Sniff delimiter as ','\u001B[0m\n",
      "\u001B[35m[2021-11-16:11:50:07:INFO] Determined delimiter of CSV input is ','\u001B[0m\n",
      "\u001B[35m[2021-11-16:11:50:07:INFO] Sniff delimiter as ','\u001B[0m\n",
      "\u001B[35m[2021-11-16:11:50:07:INFO] Determined delimiter of CSV input is ','\u001B[0m\n",
      "\u001B[35m[2021-11-16:11:50:07:INFO] Sniff delimiter as ','\u001B[0m\n",
      "\u001B[35m[2021-11-16:11:50:07:INFO] Determined delimiter of CSV input is ','\u001B[0m\n",
      "\u001B[35m[2021-11-16:11:50:08:INFO] Sniff delimiter as ','\u001B[0m\n",
      "\u001B[35m[2021-11-16:11:50:08:INFO] Determined delimiter of CSV input is ','\u001B[0m\n",
      "\u001B[34m[2021-11-16:11:50:11:INFO] Sniff delimiter as ','\u001B[0m\n",
      "\u001B[34m[2021-11-16:11:50:11:INFO] Determined delimiter of CSV input is ','\u001B[0m\n",
      "\u001B[34m[2021-11-16:11:50:11:INFO] Sniff delimiter as ','\u001B[0m\n",
      "\u001B[34m[2021-11-16:11:50:11:INFO] Determined delimiter of CSV input is ','\u001B[0m\n",
      "\u001B[34m[2021-11-16:11:50:11:INFO] Sniff delimiter as ','\u001B[0m\n",
      "\u001B[34m[2021-11-16:11:50:11:INFO] Determined delimiter of CSV input is ','\u001B[0m\n",
      "\u001B[34m[2021-11-16:11:50:12:INFO] Sniff delimiter as ','\u001B[0m\n",
      "\u001B[34m[2021-11-16:11:50:12:INFO] Determined delimiter of CSV input is ','\u001B[0m\n",
      "\u001B[35m[2021-11-16:11:50:11:INFO] Sniff delimiter as ','\u001B[0m\n",
      "\u001B[35m[2021-11-16:11:50:11:INFO] Determined delimiter of CSV input is ','\u001B[0m\n",
      "\u001B[35m[2021-11-16:11:50:11:INFO] Sniff delimiter as ','\u001B[0m\n",
      "\u001B[35m[2021-11-16:11:50:11:INFO] Determined delimiter of CSV input is ','\u001B[0m\n",
      "\u001B[35m[2021-11-16:11:50:11:INFO] Sniff delimiter as ','\u001B[0m\n",
      "\u001B[35m[2021-11-16:11:50:11:INFO] Determined delimiter of CSV input is ','\u001B[0m\n",
      "\u001B[35m[2021-11-16:11:50:12:INFO] Sniff delimiter as ','\u001B[0m\n",
      "\u001B[35m[2021-11-16:11:50:12:INFO] Determined delimiter of CSV input is ','\u001B[0m\n",
      "\u001B[34m[2021-11-16:11:50:19:INFO] Sniff delimiter as ','\u001B[0m\n",
      "\u001B[34m[2021-11-16:11:50:19:INFO] Determined delimiter of CSV input is ','\u001B[0m\n",
      "\u001B[35m[2021-11-16:11:50:19:INFO] Sniff delimiter as ','\u001B[0m\n",
      "\u001B[35m[2021-11-16:11:50:19:INFO] Determined delimiter of CSV input is ','\u001B[0m\n",
      "\n"
     ]
    }
   ],
   "source": [
    "xgb_transformer.wait()"
   ]
  },
  {
   "cell_type": "markdown",
   "metadata": {},
   "source": [
    "Now the transform job has executed and the result, the estimated sentiment of each review, has been saved on S3. Since we would rather work on this file locally we can perform a bit of notebook magic to copy the file to the `data_dir`."
   ]
  },
  {
   "cell_type": "code",
   "execution_count": 52,
   "metadata": {},
   "outputs": [
    {
     "name": "stdout",
     "output_type": "stream",
     "text": [
      "Completed 256.0 KiB/473.9 KiB (1.5 MiB/s) with 1 file(s) remaining\n",
      "Completed 473.9 KiB/473.9 KiB (2.5 MiB/s) with 1 file(s) remaining\n",
      "download: s3://sagemaker-eu-west-2-520084941985/xgboost-2021-11-16-11-44-38-440/test.csv.out to ..\\data\\xgboost\\test.csv.out\n"
     ]
    }
   ],
   "source": [
    "!aws s3 cp --recursive $xgb_transformer.output_path $data_dir"
   ]
  },
  {
   "cell_type": "markdown",
   "metadata": {},
   "source": [
    "The last step is now to read in the output from our model, convert the output to something a little more usable, in this case we want the sentiment to be either `1` (positive) or `0` (negative), and then compare to the ground truth labels."
   ]
  },
  {
   "cell_type": "code",
   "execution_count": 53,
   "metadata": {},
   "outputs": [],
   "source": [
    "predictions = pd.read_csv(os.path.join(data_dir, 'test.csv.out'), header=None)\n",
    "predictions = [round(num) for num in predictions.squeeze().values]"
   ]
  },
  {
   "cell_type": "code",
   "execution_count": 54,
   "metadata": {},
   "outputs": [
    {
     "data": {
      "text/plain": "0.8632"
     },
     "execution_count": 54,
     "metadata": {},
     "output_type": "execute_result"
    }
   ],
   "source": [
    "from sklearn.metrics import accuracy_score\n",
    "accuracy_score(test_y, predictions)"
   ]
  },
  {
   "cell_type": "markdown",
   "metadata": {},
   "source": [
    "## Optional: Clean up\n",
    "\n",
    "The default notebook instance on SageMaker doesn't have a lot of excess disk space available. As you continue to complete and execute notebooks you will eventually fill up this disk space, leading to errors which can be difficult to diagnose. Once you are completely finished using a notebook it is a good idea to remove the files that you created along the way. Of course, you can do this from the terminal or from the notebook hub if you would like. The cell below contains some commands to clean up the created files from within the notebook."
   ]
  },
  {
   "cell_type": "code",
   "execution_count": 55,
   "metadata": {},
   "outputs": [
    {
     "name": "stderr",
     "output_type": "stream",
     "text": [
      "'rm' is not recognized as an internal or external command,\n",
      "operable program or batch file.\n",
      "Invalid switch - \"data\".\n",
      "'rm' is not recognized as an internal or external command,\n",
      "operable program or batch file.\n",
      "Invalid switch - \"cache\\sentiment_analysis\".\n"
     ]
    }
   ],
   "source": [
    "# First we will remove all of the files contained in the data_dir directory\n",
    "!rm $data_dir/*\n",
    "\n",
    "# And then we delete the directory itself\n",
    "!rmdir $data_dir\n",
    "\n",
    "# Similarly we will remove the files in the cache_dir directory and the directory itself\n",
    "!rm $cache_dir/*\n",
    "!rmdir $cache_dir"
   ]
  },
  {
   "cell_type": "code",
   "execution_count": 55,
   "metadata": {},
   "outputs": [],
   "source": []
  }
 ],
 "metadata": {
  "kernelspec": {
   "name": "pycharm-6040c3f7",
   "language": "python",
   "display_name": "PyCharm (sagemaker-deployment)"
  },
  "language_info": {
   "codemirror_mode": {
    "name": "ipython",
    "version": 3
   },
   "file_extension": ".py",
   "mimetype": "text/x-python",
   "name": "python",
   "nbconvert_exporter": "python",
   "pygments_lexer": "ipython3",
   "version": "3.6.5"
  }
 },
 "nbformat": 4,
 "nbformat_minor": 2
}