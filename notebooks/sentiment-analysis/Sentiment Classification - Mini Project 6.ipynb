{
 "cells": [
  {
   "cell_type": "markdown",
   "metadata": {},
   "source": [
    "# Sentiment Classification & How To \"Frame Problems\" for a Neural Network\n",
    "\n",
    "by Andrew Trask\n",
    "\n",
    "- **Twitter**: @iamtrask\n",
    "- **Blog**: http://iamtrask.github.io"
   ]
  },
  {
   "cell_type": "markdown",
   "metadata": {},
   "source": [
    "### What You Should Already Know\n",
    "\n",
    "- neural networks, forward and back-propagation\n",
    "- stochastic gradient descent\n",
    "- mean squared error\n",
    "- and train/test splits\n",
    "\n",
    "### Where to Get Help if You Need it\n",
    "- Re-watch previous Udacity Lectures\n",
    "- Leverage the recommended Course Reading Material - [Grokking Deep Learning](https://www.manning.com/books/grokking-deep-learning) (40% Off: **traskud17**)\n",
    "- Shoot me a tweet @iamtrask\n",
    "\n",
    "\n",
    "### Tutorial Outline:\n",
    "\n",
    "- Intro: The Importance of \"Framing a Problem\"\n",
    "\n",
    "\n",
    "- Curate a Dataset\n",
    "- Developing a \"Predictive Theory\"\n",
    "- **PROJECT 1**: Quick Theory Validation\n",
    "\n",
    "\n",
    "- Transforming Text to Numbers\n",
    "- **PROJECT 2**: Creating the Input/Output Data\n",
    "\n",
    "\n",
    "- Putting it all together in a Neural Network\n",
    "- **PROJECT 3**: Building our Neural Network\n",
    "\n",
    "\n",
    "- Understanding Neural Noise\n",
    "- **PROJECT 4**: Making Learning Faster by Reducing Noise\n",
    "\n",
    "\n",
    "- Analyzing Inefficiencies in our Network\n",
    "- **PROJECT 5**: Making our Network Train and Run Faster\n",
    "\n",
    "\n",
    "- Further Noise Reduction\n",
    "- **PROJECT 6**: Reducing Noise by Strategically Reducing the Vocabulary\n",
    "\n",
    "\n",
    "- Analysis: What's going on in the weights?"
   ]
  },
  {
   "cell_type": "markdown",
   "metadata": {
    "nbpresent": {
     "id": "56bb3cba-260c-4ebe-9ed6-b995b4c72aa3"
    }
   },
   "source": [
    "# Lesson: Curate a Dataset"
   ]
  },
  {
   "cell_type": "code",
   "execution_count": 2,
   "metadata": {
    "collapsed": false,
    "nbpresent": {
     "id": "eba2b193-0419-431e-8db9-60f34dd3fe83"
    }
   },
   "outputs": [],
   "source": [
    "def pretty_print_review_and_label(i):\n",
    "    print(labels[i] + \"\\t:\\t\" + reviews[i][:80] + \"...\")\n",
    "\n",
    "g = open('../../data/sentiment-analysis/reviews.txt','r') # What we know!\n",
    "reviews = list(map(lambda x:x[:-1],g.readlines()))\n",
    "g.close()\n",
    "\n",
    "g = open('../../data/sentiment-analysis/labels.txt','r') # What we WANT to know!\n",
    "labels = list(map(lambda x:x[:-1].upper(),g.readlines()))\n",
    "g.close()"
   ]
  },
  {
   "cell_type": "code",
   "execution_count": 3,
   "metadata": {
    "collapsed": false
   },
   "outputs": [
    {
     "data": {
      "text/plain": "25000"
     },
     "execution_count": 3,
     "metadata": {},
     "output_type": "execute_result"
    }
   ],
   "source": [
    "len(reviews)"
   ]
  },
  {
   "cell_type": "code",
   "execution_count": 4,
   "metadata": {
    "collapsed": false,
    "nbpresent": {
     "id": "bb95574b-21a0-4213-ae50-34363cf4f87f"
    }
   },
   "outputs": [
    {
     "data": {
      "text/plain": "'bromwell high is a cartoon comedy . it ran at the same time as some other programs about school life  such as  teachers  . my   years in the teaching profession lead me to believe that bromwell high  s satire is much closer to reality than is  teachers  . the scramble to survive financially  the insightful students who can see right through their pathetic teachers  pomp  the pettiness of the whole situation  all remind me of the schools i knew and their students . when i saw the episode in which a student repeatedly tried to burn down the school  i immediately recalled . . . . . . . . . at . . . . . . . . . . high . a classic line inspector i  m here to sack one of your teachers . student welcome to bromwell high . i expect that many adults of my age think that bromwell high is far fetched . what a pity that it isn  t   '"
     },
     "execution_count": 4,
     "metadata": {},
     "output_type": "execute_result"
    }
   ],
   "source": [
    "reviews[0]"
   ]
  },
  {
   "cell_type": "code",
   "execution_count": 5,
   "metadata": {
    "collapsed": false,
    "nbpresent": {
     "id": "e0408810-c424-4ed4-afb9-1735e9ddbd0a"
    }
   },
   "outputs": [
    {
     "data": {
      "text/plain": "'POSITIVE'"
     },
     "execution_count": 5,
     "metadata": {},
     "output_type": "execute_result"
    }
   ],
   "source": [
    "labels[0]"
   ]
  },
  {
   "cell_type": "markdown",
   "metadata": {},
   "source": [
    "# Lesson: Develop a Predictive Theory"
   ]
  },
  {
   "cell_type": "code",
   "execution_count": 6,
   "metadata": {
    "collapsed": false,
    "nbpresent": {
     "id": "e67a709f-234f-4493-bae6-4fb192141ee0"
    }
   },
   "outputs": [
    {
     "name": "stdout",
     "output_type": "stream",
     "text": [
      "labels.txt \t : \t reviews.txt\n",
      "\n",
      "NEGATIVE\t:\tthis movie is terrible but it has some good effects .  ...\n",
      "POSITIVE\t:\tadrian pasdar is excellent is this film . he makes a fascinating woman .  ...\n",
      "NEGATIVE\t:\tcomment this movie is impossible . is terrible  very improbable  bad interpretat...\n",
      "POSITIVE\t:\texcellent episode movie ala pulp fiction .  days   suicides . it doesnt get more...\n",
      "NEGATIVE\t:\tif you haven  t seen this  it  s terrible . it is pure trash . i saw this about ...\n",
      "POSITIVE\t:\tthis schiffer guy is a real genius  the movie is of excellent quality and both e...\n"
     ]
    }
   ],
   "source": [
    "print(\"labels.txt \\t : \\t reviews.txt\\n\")\n",
    "pretty_print_review_and_label(2137)\n",
    "pretty_print_review_and_label(12816)\n",
    "pretty_print_review_and_label(6267)\n",
    "pretty_print_review_and_label(21934)\n",
    "pretty_print_review_and_label(5297)\n",
    "pretty_print_review_and_label(4998)"
   ]
  },
  {
   "cell_type": "markdown",
   "metadata": {},
   "source": [
    "# Project 1: Quick Theory Validation"
   ]
  },
  {
   "cell_type": "code",
   "execution_count": 7,
   "metadata": {
    "collapsed": false
   },
   "outputs": [],
   "source": [
    "from collections import Counter\n",
    "import numpy as np"
   ]
  },
  {
   "cell_type": "code",
   "execution_count": 8,
   "metadata": {
    "collapsed": true
   },
   "outputs": [],
   "source": [
    "positive_counts = Counter()\n",
    "negative_counts = Counter()\n",
    "total_counts = Counter()"
   ]
  },
  {
   "cell_type": "code",
   "execution_count": 9,
   "metadata": {
    "collapsed": true
   },
   "outputs": [],
   "source": [
    "for i in range(len(reviews)):\n",
    "    if(labels[i] == 'POSITIVE'):\n",
    "        for word in reviews[i].split(\" \"):\n",
    "            positive_counts[word] += 1\n",
    "            total_counts[word] += 1\n",
    "    else:\n",
    "        for word in reviews[i].split(\" \"):\n",
    "            negative_counts[word] += 1\n",
    "            total_counts[word] += 1"
   ]
  },
  {
   "cell_type": "code",
   "execution_count": 10,
   "metadata": {
    "collapsed": false
   },
   "outputs": [
    {
     "data": {
      "text/plain": "[('', 550468),\n ('the', 173324),\n ('.', 159654),\n ('and', 89722),\n ('a', 83688),\n ('of', 76855),\n ('to', 66746),\n ('is', 57245),\n ('in', 50215),\n ('br', 49235),\n ('it', 48025),\n ('i', 40743),\n ('that', 35630),\n ('this', 35080),\n ('s', 33815),\n ('as', 26308),\n ('with', 23247),\n ('for', 22416),\n ('was', 21917),\n ('film', 20937),\n ('but', 20822),\n ('movie', 19074),\n ('his', 17227),\n ('on', 17008),\n ('you', 16681),\n ('he', 16282),\n ('are', 14807),\n ('not', 14272),\n ('t', 13720),\n ('one', 13655),\n ('have', 12587),\n ('be', 12416),\n ('by', 11997),\n ('all', 11942),\n ('who', 11464),\n ('an', 11294),\n ('at', 11234),\n ('from', 10767),\n ('her', 10474),\n ('they', 9895),\n ('has', 9186),\n ('so', 9154),\n ('like', 9038),\n ('about', 8313),\n ('very', 8305),\n ('out', 8134),\n ('there', 8057),\n ('she', 7779),\n ('what', 7737),\n ('or', 7732),\n ('good', 7720),\n ('more', 7521),\n ('when', 7456),\n ('some', 7441),\n ('if', 7285),\n ('just', 7152),\n ('can', 7001),\n ('story', 6780),\n ('time', 6515),\n ('my', 6488),\n ('great', 6419),\n ('well', 6405),\n ('up', 6321),\n ('which', 6267),\n ('their', 6107),\n ('see', 6026),\n ('also', 5550),\n ('we', 5531),\n ('really', 5476),\n ('would', 5400),\n ('will', 5218),\n ('me', 5167),\n ('had', 5148),\n ('only', 5137),\n ('him', 5018),\n ('even', 4964),\n ('most', 4864),\n ('other', 4858),\n ('were', 4782),\n ('first', 4755),\n ('than', 4736),\n ('much', 4685),\n ('its', 4622),\n ('no', 4574),\n ('into', 4544),\n ('people', 4479),\n ('best', 4319),\n ('love', 4301),\n ('get', 4272),\n ('how', 4213),\n ('life', 4199),\n ('been', 4189),\n ('because', 4079),\n ('way', 4036),\n ('do', 3941),\n ('made', 3823),\n ('films', 3813),\n ('them', 3805),\n ('after', 3800),\n ('many', 3766),\n ('two', 3733),\n ('too', 3659),\n ('think', 3655),\n ('movies', 3586),\n ('characters', 3560),\n ('character', 3514),\n ('don', 3468),\n ('man', 3460),\n ('show', 3432),\n ('watch', 3424),\n ('seen', 3414),\n ('then', 3358),\n ('little', 3341),\n ('still', 3340),\n ('make', 3303),\n ('could', 3237),\n ('never', 3226),\n ('being', 3217),\n ('where', 3173),\n ('does', 3069),\n ('over', 3017),\n ('any', 3002),\n ('while', 2899),\n ('know', 2833),\n ('did', 2790),\n ('years', 2758),\n ('here', 2740),\n ('ever', 2734),\n ('end', 2696),\n ('these', 2694),\n ('such', 2590),\n ('real', 2568),\n ('scene', 2567),\n ('back', 2547),\n ('those', 2485),\n ('though', 2475),\n ('off', 2463),\n ('new', 2458),\n ('your', 2453),\n ('go', 2440),\n ('acting', 2437),\n ('plot', 2432),\n ('world', 2429),\n ('scenes', 2427),\n ('say', 2414),\n ('through', 2409),\n ('makes', 2390),\n ('better', 2381),\n ('now', 2368),\n ('work', 2346),\n ('young', 2343),\n ('old', 2311),\n ('ve', 2307),\n ('find', 2272),\n ('both', 2248),\n ('before', 2177),\n ('us', 2162),\n ('again', 2158),\n ('series', 2153),\n ('quite', 2143),\n ('something', 2135),\n ('cast', 2133),\n ('should', 2121),\n ('part', 2098),\n ('always', 2088),\n ('lot', 2087),\n ('another', 2075),\n ('actors', 2047),\n ('director', 2040),\n ('family', 2032),\n ('between', 2016),\n ('own', 2016),\n ('m', 1998),\n ('may', 1997),\n ('same', 1972),\n ('role', 1967),\n ('watching', 1966),\n ('every', 1954),\n ('funny', 1953),\n ('doesn', 1935),\n ('performance', 1928),\n ('few', 1918),\n ('bad', 1907),\n ('look', 1900),\n ('re', 1884),\n ('why', 1855),\n ('things', 1849),\n ('times', 1832),\n ('big', 1815),\n ('however', 1795),\n ('actually', 1790),\n ('action', 1789),\n ('going', 1783),\n ('bit', 1757),\n ('comedy', 1742),\n ('down', 1740),\n ('music', 1738),\n ('must', 1728),\n ('take', 1709),\n ('saw', 1692),\n ('long', 1690),\n ('right', 1688),\n ('fun', 1686),\n ('fact', 1684),\n ('excellent', 1683),\n ('around', 1674),\n ('didn', 1672),\n ('without', 1671),\n ('thing', 1662),\n ('thought', 1639),\n ('got', 1635),\n ('each', 1630),\n ('day', 1614),\n ('feel', 1597),\n ('seems', 1596),\n ('come', 1594),\n ('done', 1586),\n ('beautiful', 1580),\n ('especially', 1572),\n ('played', 1571),\n ('almost', 1566),\n ('want', 1562),\n ('yet', 1556),\n ('give', 1553),\n ('pretty', 1549),\n ('last', 1543),\n ('since', 1519),\n ('different', 1504),\n ('although', 1501),\n ('gets', 1490),\n ('true', 1487),\n ('interesting', 1481),\n ('job', 1470),\n ('enough', 1455),\n ('our', 1454),\n ('shows', 1447),\n ('horror', 1441),\n ('woman', 1439),\n ('tv', 1400),\n ('probably', 1398),\n ('father', 1395),\n ('original', 1393),\n ('girl', 1390),\n ('point', 1379),\n ('plays', 1378),\n ('wonderful', 1372),\n ('far', 1358),\n ('course', 1358),\n ('john', 1350),\n ('rather', 1340),\n ('isn', 1328),\n ('ll', 1326),\n ('later', 1324),\n ('dvd', 1324),\n ('whole', 1310),\n ('war', 1310),\n ('d', 1307),\n ('found', 1306),\n ('away', 1306),\n ('screen', 1305),\n ('nothing', 1300),\n ('year', 1297),\n ('once', 1296),\n ('hard', 1294),\n ('together', 1280),\n ('set', 1277),\n ('am', 1277),\n ('having', 1266),\n ('making', 1265),\n ('place', 1263),\n ('might', 1260),\n ('comes', 1260),\n ('sure', 1253),\n ('american', 1248),\n ('play', 1245),\n ('kind', 1244),\n ('perfect', 1242),\n ('takes', 1242),\n ('performances', 1237),\n ('himself', 1230),\n ('worth', 1221),\n ('everyone', 1221),\n ('anyone', 1214),\n ('actor', 1203),\n ('three', 1201),\n ('wife', 1196),\n ('classic', 1192),\n ('goes', 1186),\n ('ending', 1178),\n ('version', 1168),\n ('star', 1149),\n ('enjoy', 1146),\n ('book', 1142),\n ('nice', 1132),\n ('everything', 1128),\n ('during', 1124),\n ('put', 1118),\n ('seeing', 1111),\n ('least', 1102),\n ('house', 1100),\n ('high', 1095),\n ('watched', 1094),\n ('loved', 1087),\n ('men', 1087),\n ('night', 1082),\n ('anything', 1075),\n ('believe', 1071),\n ('guy', 1071),\n ('top', 1063),\n ('amazing', 1058),\n ('hollywood', 1056),\n ('looking', 1053),\n ('main', 1044),\n ('definitely', 1043),\n ('gives', 1031),\n ('home', 1029),\n ('seem', 1028),\n ('episode', 1023),\n ('audience', 1020),\n ('sense', 1020),\n ('truly', 1017),\n ('special', 1011),\n ('second', 1009),\n ('short', 1009),\n ('fan', 1009),\n ('mind', 1005),\n ('human', 1001),\n ('recommend', 999),\n ('full', 996),\n ('black', 995),\n ('help', 991),\n ('along', 989),\n ('trying', 987),\n ('small', 986),\n ('death', 985),\n ('friends', 981),\n ('remember', 974),\n ('often', 970),\n ('said', 966),\n ('favorite', 962),\n ('heart', 959),\n ('early', 957),\n ('left', 956),\n ('until', 955),\n ('script', 954),\n ('let', 954),\n ('maybe', 937),\n ('today', 936),\n ('live', 934),\n ('less', 934),\n ('moments', 933),\n ('others', 929),\n ('brilliant', 926),\n ('shot', 925),\n ('liked', 923),\n ('become', 916),\n ('won', 915),\n ('used', 910),\n ('style', 907),\n ('mother', 895),\n ('lives', 894),\n ('came', 893),\n ('stars', 890),\n ('cinema', 889),\n ('looks', 885),\n ('perhaps', 884),\n ('read', 882),\n ('enjoyed', 879),\n ('boy', 875),\n ('drama', 873),\n ('highly', 871),\n ('given', 870),\n ('playing', 867),\n ('use', 864),\n ('next', 859),\n ('women', 858),\n ('fine', 857),\n ('effects', 856),\n ('kids', 854),\n ('entertaining', 853),\n ('need', 852),\n ('line', 850),\n ('works', 848),\n ('someone', 847),\n ('mr', 836),\n ('simply', 835),\n ('picture', 833),\n ('children', 833),\n ('face', 831),\n ('keep', 831),\n ('friend', 831),\n ('dark', 830),\n ('overall', 828),\n ('certainly', 828),\n ('minutes', 827),\n ('wasn', 824),\n ('history', 822),\n ('finally', 820),\n ('couple', 816),\n ('against', 815),\n ('son', 809),\n ('understand', 808),\n ('lost', 807),\n ('michael', 805),\n ('else', 801),\n ('throughout', 798),\n ('fans', 797),\n ('city', 792),\n ('reason', 789),\n ('written', 787),\n ('production', 787),\n ('several', 784),\n ('school', 783),\n ('based', 781),\n ('rest', 781),\n ('try', 780),\n ('dead', 776),\n ('hope', 775),\n ('strong', 768),\n ('white', 765),\n ('tell', 759),\n ('itself', 758),\n ('half', 753),\n ('person', 749),\n ('sometimes', 746),\n ('past', 744),\n ('start', 744),\n ('genre', 743),\n ('beginning', 739),\n ('final', 739),\n ('town', 738),\n ('art', 734),\n ('humor', 732),\n ('game', 732),\n ('yes', 731),\n ('idea', 731),\n ('late', 730),\n ('becomes', 729),\n ('despite', 729),\n ('able', 726),\n ('case', 726),\n ('money', 723),\n ('child', 721),\n ('completely', 721),\n ('side', 719),\n ('camera', 716),\n ('getting', 714),\n ('instead', 712),\n ('soon', 702),\n ('under', 700),\n ('viewer', 699),\n ('age', 697),\n ('days', 696),\n ('stories', 696),\n ('felt', 694),\n ('simple', 694),\n ('roles', 693),\n ('video', 688),\n ('name', 683),\n ('either', 683),\n ('doing', 677),\n ('turns', 674),\n ('wants', 671),\n ('close', 671),\n ('title', 669),\n ('wrong', 668),\n ('went', 666),\n ('james', 665),\n ('evil', 659),\n ('budget', 657),\n ('episodes', 657),\n ('relationship', 655),\n ('fantastic', 653),\n ('piece', 653),\n ('david', 651),\n ('turn', 648),\n ('murder', 646),\n ('parts', 645),\n ('brother', 644),\n ('absolutely', 643),\n ('head', 643),\n ('experience', 642),\n ('eyes', 641),\n ('sex', 638),\n ('direction', 637),\n ('called', 637),\n ('directed', 636),\n ('lines', 634),\n ('behind', 633),\n ('sort', 632),\n ('actress', 631),\n ('lead', 630),\n ('oscar', 628),\n ('including', 627),\n ('example', 627),\n ('known', 625),\n ('musical', 625),\n ('chance', 621),\n ('score', 620),\n ('already', 619),\n ('feeling', 619),\n ('hit', 619),\n ('voice', 615),\n ('moment', 612),\n ('living', 612),\n ('low', 610),\n ('supporting', 610),\n ('ago', 609),\n ('themselves', 608),\n ('reality', 605),\n ('hilarious', 605),\n ('jack', 604),\n ('told', 603),\n ('hand', 601),\n ('quality', 600),\n ('moving', 600),\n ('dialogue', 600),\n ('song', 599),\n ('happy', 599),\n ('matter', 598),\n ('paul', 598),\n ('light', 594),\n ('future', 593),\n ('entire', 592),\n ('finds', 591),\n ('gave', 589),\n ('laugh', 587),\n ('released', 586),\n ('expect', 584),\n ('fight', 581),\n ('particularly', 580),\n ('cinematography', 579),\n ('police', 579),\n ('whose', 578),\n ('type', 578),\n ('sound', 578),\n ('view', 573),\n ('enjoyable', 573),\n ('number', 572),\n ('romantic', 572),\n ('husband', 572),\n ('daughter', 572),\n ('documentary', 571),\n ('self', 570),\n ('superb', 569),\n ('modern', 569),\n ('took', 569),\n ('robert', 569),\n ('mean', 566),\n ('shown', 563),\n ('coming', 561),\n ('important', 560),\n ('king', 559),\n ('leave', 559),\n ('change', 558),\n ('somewhat', 555),\n ('wanted', 555),\n ('tells', 554),\n ('events', 552),\n ('run', 552),\n ('career', 552),\n ('country', 552),\n ('heard', 550),\n ('season', 550),\n ('greatest', 549),\n ('girls', 549),\n ('etc', 547),\n ('care', 546),\n ('starts', 545),\n ('english', 542),\n ('killer', 541),\n ('tale', 540),\n ('guys', 540),\n ('totally', 540),\n ('animation', 540),\n ('usual', 539),\n ('miss', 535),\n ('opinion', 535),\n ('easy', 531),\n ('violence', 531),\n ('songs', 530),\n ('british', 528),\n ('says', 526),\n ('realistic', 525),\n ('writing', 524),\n ('writer', 522),\n ('act', 522),\n ('comic', 521),\n ('thriller', 519),\n ('television', 517),\n ('power', 516),\n ('ones', 515),\n ('kid', 514),\n ('york', 513),\n ('novel', 513),\n ('alone', 512),\n ('problem', 512),\n ('attention', 509),\n ('involved', 508),\n ('kill', 507),\n ('extremely', 507),\n ('seemed', 506),\n ('hero', 505),\n ('french', 505),\n ('rock', 504),\n ('stuff', 501),\n ('wish', 499),\n ('begins', 498),\n ('taken', 497),\n ('sad', 497),\n ('ways', 496),\n ('richard', 495),\n ('knows', 494),\n ('atmosphere', 493),\n ('similar', 491),\n ('surprised', 491),\n ('taking', 491),\n ('car', 491),\n ('george', 490),\n ('perfectly', 490),\n ('across', 489),\n ('team', 489),\n ('eye', 489),\n ('sequence', 489),\n ('room', 488),\n ('due', 488),\n ('among', 488),\n ('serious', 488),\n ('powerful', 488),\n ('strange', 487),\n ('order', 487),\n ('cannot', 487),\n ('b', 487),\n ('beauty', 486),\n ('famous', 485),\n ('happened', 484),\n ('tries', 484),\n ('herself', 484),\n ('myself', 484),\n ('class', 483),\n ('four', 482),\n ('cool', 481),\n ('release', 479),\n ('anyway', 479),\n ('theme', 479),\n ('opening', 478),\n ('entertainment', 477),\n ('slow', 475),\n ('ends', 475),\n ('unique', 475),\n ('exactly', 475),\n ('easily', 474),\n ('level', 474),\n ('o', 474),\n ('red', 474),\n ('interest', 472),\n ('happen', 471),\n ('crime', 470),\n ('viewing', 468),\n ('sets', 467),\n ('memorable', 467),\n ('stop', 466),\n ('group', 466),\n ('problems', 463),\n ('dance', 463),\n ('working', 463),\n ('sister', 463),\n ('message', 463),\n ('knew', 462),\n ('mystery', 461),\n ('nature', 461),\n ('bring', 460),\n ('believable', 459),\n ('thinking', 459),\n ('brought', 459),\n ('mostly', 458),\n ('disney', 457),\n ('couldn', 457),\n ('society', 456),\n ('lady', 455),\n ('within', 455),\n ('blood', 454),\n ('parents', 453),\n ('upon', 453),\n ('viewers', 453),\n ('meets', 452),\n ('form', 452),\n ('peter', 452),\n ('tom', 452),\n ('usually', 452),\n ('soundtrack', 452),\n ('local', 450),\n ('certain', 448),\n ('follow', 448),\n ('whether', 447),\n ('possible', 446),\n ('emotional', 445),\n ('killed', 444),\n ('above', 444),\n ('de', 444),\n ('god', 443),\n ('middle', 443),\n ('needs', 442),\n ('happens', 442),\n ('flick', 442),\n ('masterpiece', 441),\n ('period', 440),\n ('major', 440),\n ('named', 439),\n ('haven', 439),\n ('particular', 438),\n ('th', 438),\n ('earth', 437),\n ('feature', 437),\n ('stand', 436),\n ('words', 435),\n ('typical', 435),\n ('elements', 433),\n ('obviously', 433),\n ('romance', 431),\n ('jane', 430),\n ('yourself', 427),\n ('showing', 427),\n ('brings', 426),\n ('fantasy', 426),\n ('guess', 423),\n ('america', 423),\n ('unfortunately', 422),\n ('huge', 422),\n ('indeed', 421),\n ('running', 421),\n ('talent', 420),\n ('stage', 419),\n ('started', 418),\n ('leads', 417),\n ('sweet', 417),\n ('japanese', 417),\n ('poor', 416),\n ('deal', 416),\n ('incredible', 413),\n ('personal', 413),\n ('fast', 412),\n ('became', 410),\n ('deep', 410),\n ('hours', 409),\n ('giving', 408),\n ('nearly', 408),\n ('dream', 408),\n ('clearly', 407),\n ('turned', 407),\n ('obvious', 406),\n ('near', 406),\n ('cut', 405),\n ('surprise', 405),\n ('era', 404),\n ('body', 404),\n ('hour', 403),\n ('female', 403),\n ('five', 403),\n ('note', 399),\n ('learn', 398),\n ('truth', 398),\n ('except', 397),\n ('feels', 397),\n ('match', 397),\n ('tony', 397),\n ('filmed', 394),\n ('clear', 394),\n ('complete', 394),\n ('street', 393),\n ('eventually', 393),\n ('keeps', 393),\n ('older', 393),\n ('lots', 393),\n ('buy', 392),\n ('william', 391),\n ('stewart', 391),\n ('fall', 390),\n ('joe', 390),\n ('meet', 390),\n ('unlike', 389),\n ('talking', 389),\n ('shots', 389),\n ('rating', 389),\n ('difficult', 389),\n ('dramatic', 388),\n ('means', 388),\n ('situation', 386),\n ('wonder', 386),\n ('present', 386),\n ('appears', 386),\n ('subject', 386),\n ('comments', 385),\n ('general', 383),\n ('sequences', 383),\n ('lee', 383),\n ('points', 382),\n ('earlier', 382),\n ('gone', 379),\n ('check', 379),\n ('suspense', 378),\n ('recommended', 378),\n ('ten', 378),\n ('third', 377),\n ('business', 377),\n ('talk', 375),\n ('leaves', 375),\n ('beyond', 375),\n ('portrayal', 374),\n ('beautifully', 373),\n ('single', 372),\n ('bill', 372),\n ('plenty', 371),\n ('word', 371),\n ('whom', 370),\n ('falls', 370),\n ('scary', 369),\n ('non', 369),\n ('figure', 369),\n ('battle', 369),\n ('using', 368),\n ('return', 368),\n ('doubt', 367),\n ('add', 367),\n ('hear', 366),\n ('solid', 366),\n ('success', 366),\n ('jokes', 365),\n ('oh', 365),\n ('touching', 365),\n ('political', 365),\n ('hell', 364),\n ('awesome', 364),\n ('boys', 364),\n ('sexual', 362),\n ('recently', 362),\n ('dog', 362),\n ('please', 361),\n ('wouldn', 361),\n ('straight', 361),\n ('features', 361),\n ('forget', 360),\n ('setting', 360),\n ('lack', 360),\n ('married', 359),\n ('mark', 359),\n ('social', 357),\n ('interested', 356),\n ('adventure', 356),\n ('actual', 355),\n ('terrific', 355),\n ('sees', 355),\n ('brothers', 355),\n ('move', 354),\n ('call', 354),\n ('various', 353),\n ('theater', 353),\n ('dr', 353),\n ('animated', 352),\n ('western', 351),\n ('baby', 350),\n ('space', 350),\n ('leading', 348),\n ('disappointed', 348),\n ('portrayed', 346),\n ('aren', 346),\n ('screenplay', 345),\n ('smith', 345),\n ('towards', 344),\n ('hate', 344),\n ('noir', 343),\n ('outstanding', 342),\n ('decent', 342),\n ('kelly', 342),\n ('directors', 341),\n ('journey', 341),\n ('none', 340),\n ('looked', 340),\n ('effective', 340),\n ('storyline', 339),\n ('caught', 339),\n ('sci', 339),\n ('fi', 339),\n ('cold', 339),\n ('mary', 339),\n ('rich', 338),\n ('charming', 338),\n ('popular', 337),\n ('rare', 337),\n ('manages', 337),\n ('harry', 337),\n ('spirit', 336),\n ('appreciate', 335),\n ('open', 335),\n ('moves', 334),\n ('basically', 334),\n ('acted', 334),\n ('inside', 333),\n ('boring', 333),\n ('century', 333),\n ('mention', 333),\n ('deserves', 333),\n ('subtle', 333),\n ('pace', 333),\n ('familiar', 332),\n ('background', 332),\n ('ben', 331),\n ('creepy', 330),\n ('supposed', 330),\n ('secret', 329),\n ('die', 328),\n ('jim', 328),\n ('question', 327),\n ('effect', 327),\n ('natural', 327),\n ('impressive', 326),\n ('rate', 326),\n ('language', 326),\n ('saying', 325),\n ('intelligent', 325),\n ('telling', 324),\n ('realize', 324),\n ('material', 324),\n ('scott', 324),\n ('singing', 323),\n ('dancing', 322),\n ('visual', 321),\n ('adult', 321),\n ('imagine', 321),\n ('kept', 320),\n ('office', 320),\n ('uses', 319),\n ('pure', 318),\n ('wait', 318),\n ('stunning', 318),\n ('review', 317),\n ('previous', 317),\n ('copy', 317),\n ('seriously', 317),\n ('reading', 316),\n ('create', 316),\n ('hot', 316),\n ('created', 316),\n ('magic', 316),\n ('somehow', 316),\n ('stay', 315),\n ('attempt', 315),\n ('escape', 315),\n ('crazy', 315),\n ('air', 315),\n ('frank', 315),\n ('hands', 314),\n ('filled', 313),\n ('expected', 312),\n ('average', 312),\n ('surprisingly', 312),\n ('complex', 311),\n ('quickly', 310),\n ('successful', 310),\n ('studio', 310),\n ('plus', 309),\n ('male', 309),\n ('co', 307),\n ('images', 306),\n ('casting', 306),\n ('following', 306),\n ('minute', 306),\n ('exciting', 306),\n ('members', 305),\n ('follows', 305),\n ('themes', 305),\n ('german', 305),\n ('reasons', 305),\n ('e', 305),\n ('touch', 304),\n ('edge', 304),\n ('free', 304),\n ('cute', 304),\n ('genius', 304),\n ('outside', 303),\n ('reviews', 302),\n ('admit', 302),\n ('ok', 302),\n ('younger', 302),\n ('fighting', 301),\n ('odd', 301),\n ('master', 301),\n ('recent', 300),\n ('thanks', 300),\n ('break', 300),\n ('comment', 300),\n ('apart', 299),\n ('emotions', 298),\n ('lovely', 298),\n ('begin', 298),\n ('doctor', 297),\n ('party', 297),\n ('italian', 297),\n ('la', 296),\n ('missed', 296),\n ...]"
     },
     "execution_count": 10,
     "metadata": {},
     "output_type": "execute_result"
    }
   ],
   "source": [
    "positive_counts.most_common()"
   ]
  },
  {
   "cell_type": "code",
   "execution_count": 11,
   "metadata": {
    "collapsed": true
   },
   "outputs": [],
   "source": [
    "pos_neg_ratios = Counter()\n",
    "\n",
    "for term,cnt in list(total_counts.most_common()):\n",
    "    if(cnt > 100):\n",
    "        pos_neg_ratio = positive_counts[term] / float(negative_counts[term]+1)\n",
    "        pos_neg_ratios[term] = pos_neg_ratio\n",
    "\n",
    "for word,ratio in pos_neg_ratios.most_common():\n",
    "    if(ratio > 1):\n",
    "        pos_neg_ratios[word] = np.log(ratio)\n",
    "    else:\n",
    "        pos_neg_ratios[word] = -np.log((1 / (ratio+0.01)))"
   ]
  },
  {
   "cell_type": "code",
   "execution_count": 12,
   "metadata": {
    "collapsed": false
   },
   "outputs": [
    {
     "data": {
      "text/plain": "[('edie', 4.6913478822291435),\n ('paulie', 4.07753744390572),\n ('felix', 3.152736022363656),\n ('polanski', 2.8233610476132043),\n ('matthau', 2.80672172860924),\n ('victoria', 2.681021528714291),\n ('mildred', 2.6026896854443837),\n ('gandhi', 2.538973871058276),\n ('flawless', 2.451005098112319),\n ('superbly', 2.26002547857525),\n ('perfection', 2.159484249353372),\n ('astaire', 2.1400661634962708),\n ('captures', 2.038619547159581),\n ('voight', 2.030170492673053),\n ('wonderfully', 2.0218960560332353),\n ('powell', 1.978345424808467),\n ('brosnan', 1.9547990964725592),\n ('lily', 1.9203768470501485),\n ('bakshi', 1.9029851043382795),\n ('lincoln', 1.9014583864844796),\n ('refreshing', 1.8551812956655511),\n ('breathtaking', 1.8481124057791867),\n ('bourne', 1.8478489358790986),\n ('lemmon', 1.8458266904983307),\n ('delightful', 1.8002701588959635),\n ('flynn', 1.7996646487351682),\n ('andrews', 1.7764919970972666),\n ('homer', 1.7692866133759964),\n ('beautifully', 1.7626953362841438),\n ('soccer', 1.7578579175523736),\n ('elvira', 1.739703107272002),\n ('underrated', 1.7197859696029656),\n ('gripping', 1.7165360479904674),\n ('superb', 1.7091514458966952),\n ('delight', 1.6714733033535532),\n ('welles', 1.667706820558076),\n ('sadness', 1.663505133704376),\n ('sinatra', 1.6389967146756448),\n ('touching', 1.637217476541176),\n ('timeless', 1.62924053973028),\n ('macy', 1.6211339521972916),\n ('unforgettable', 1.6177367152487956),\n ('favorites', 1.6158688027643908),\n ('stewart', 1.611998733295774),\n ('sullivan', 1.6094379124341003),\n ('extraordinary', 1.6094379124341003),\n ('hartley', 1.6094379124341003),\n ('brilliantly', 1.5950491749820008),\n ('friendship', 1.5677652160335325),\n ('wonderful', 1.5645425925262093),\n ('palma', 1.5553706911638245),\n ('magnificent', 1.54663701119507),\n ('finest', 1.546259010812569),\n ('jackie', 1.5439233053234738),\n ('ritter', 1.540445040947149),\n ('tremendous', 1.5184661342283736),\n ('freedom', 1.5091151908062312),\n ('fantastic', 1.5048433868558566),\n ('terrific', 1.5026699370083942),\n ('noir', 1.493925025312256),\n ('sidney', 1.493925025312256),\n ('outstanding', 1.4910053152089213),\n ('pleasantly', 1.4894785973551214),\n ('mann', 1.4894785973551214),\n ('nancy', 1.488077055429833),\n ('marie', 1.4825711915553104),\n ('marvelous', 1.4739999415389962),\n ('excellent', 1.4647538505723599),\n ('ruth', 1.4596256342054401),\n ('stanwyck', 1.4412101187160054),\n ('widmark', 1.4350845252893227),\n ('splendid', 1.4271163556401458),\n ('chan', 1.423108334242607),\n ('exceptional', 1.4201959127955721),\n ('tender', 1.410986973710262),\n ('gentle', 1.4078005663408544),\n ('poignant', 1.4022947024663317),\n ('gem', 1.3932148039644643),\n ('amazing', 1.3919815802404802),\n ('chilling', 1.3862943611198906),\n ('fisher', 1.3862943611198906),\n ('davies', 1.3862943611198906),\n ('captivating', 1.3862943611198906),\n ('darker', 1.3652409519220583),\n ('april', 1.349926716949016),\n ('kelly', 1.3461743673304654),\n ('blake', 1.3418425985490567),\n ('overlooked', 1.329135947279942),\n ('ralph', 1.32818673031261),\n ('bette', 1.3156767939059373),\n ('hoffman', 1.315066851831523),\n ('cole', 1.3121863889661687),\n ('shines', 1.3049487216659381),\n ('powerful', 1.2999662776313934),\n ('notch', 1.2950456896547455),\n ('remarkable', 1.2883688239495823),\n ('pitt', 1.286210902562908),\n ('winters', 1.2833463918674481),\n ('vivid', 1.2762934659055623),\n ('gritty', 1.2757524867200667),\n ('giallo', 1.274502955131774),\n ('portrait', 1.270462545594769),\n ('innocence', 1.2694300209805796),\n ('psychiatrist', 1.2685113254635072),\n ('favorite', 1.2668956297860055),\n ('ensemble', 1.2656663733312759),\n ('stunning', 1.2622417124499117),\n ('burns', 1.259880436264232),\n ('garbo', 1.258954938743289),\n ('barbara', 1.2580400255962119),\n ('philip', 1.252762968495368),\n ('panic', 1.252762968495368),\n ('holly', 1.252762968495368),\n ('carol', 1.2481440226390734),\n ('perfect', 1.246742480713785),\n ('appreciated', 1.2462482874741743),\n ('favourite', 1.2411123512753928),\n ('journey', 1.236762627148927),\n ('rural', 1.235471471385307),\n ('bond', 1.2321436812926323),\n ('builds', 1.2305398317106577),\n ('brilliant', 1.2287554137664785),\n ('brooklyn', 1.2286654169163074),\n ('von', 1.225175011976539),\n ('recommended', 1.2163953243244932),\n ('unfolds', 1.2163953243244932),\n ('daniel', 1.20215296760895),\n ('perfectly', 1.1971931173405572),\n ('crafted', 1.1962507582320256),\n ('prince', 1.1939224684724346),\n ('troubled', 1.192138346678933),\n ('consequences', 1.1865810616140668),\n ('haunting', 1.1814999484738773),\n ('cinderella', 1.180052620608284),\n ('alexander', 1.17599895228353),\n ('emotions', 1.1753049094563641),\n ('boxing', 1.1735135968412274),\n ('subtle', 1.173413501750808),\n ('curtis', 1.1649873576129823),\n ('rare', 1.1566438362402944),\n ('loved', 1.1563661500586044),\n ('daughters', 1.1526795099383853),\n ('courage', 1.1438688802562305),\n ('dentist', 1.1426722784621401),\n ('highly', 1.1420208631618658),\n ('nominated', 1.1409146683587992),\n ('tony', 1.139749194228599),\n ('draws', 1.132513840343791),\n ('everyday', 1.1306150197542835),\n ('contrast', 1.128465251817791),\n ('cried', 1.121340539745666),\n ('fabulous', 1.1210851445201684),\n ('ned', 1.120591195386885),\n ('fay', 1.120591195386885),\n ('emma', 1.1184149159642893),\n ('sensitive', 1.113318436057805),\n ('smooth', 1.1089750757036563),\n ('dramas', 1.1080910326226534),\n ('today', 1.1050431789984),\n ('helps', 1.1023091505494358),\n ('inspiring', 1.0986122886681098),\n ('jimmy', 1.0937696641923216),\n ('awesome', 1.0931328229034842),\n ('unique', 1.0881409888008142),\n ('tragic', 1.0871835928444868),\n ('intense', 1.0870514662670339),\n ('stellar', 1.0857088838322018),\n ('rival', 1.0822184788924332),\n ('provides', 1.079708134028957),\n ('depression', 1.0782034170369026),\n ('shy', 1.0775588794702773),\n ('carrie', 1.076139432816051),\n ('blend', 1.0753554265038423),\n ('hank', 1.0736109864626924),\n ('diana', 1.072636802264849),\n ('adorable', 1.072636802264849),\n ('unexpected', 1.0722255334949147),\n ('achievement', 1.0668635903535293),\n ('bettie', 1.0663514264498881),\n ('happiness', 1.0632729222228008),\n ('glorious', 1.0608719606852626),\n ('davis', 1.0541605260972757),\n ('terrifying', 1.0525211814678428),\n ('beauty', 1.050410186850232),\n ('ideal', 1.0479685558493548),\n ('fears', 1.0467872208035236),\n ('hong', 1.0438040521731147),\n ('seasons', 1.0433496099930604),\n ('fascinating', 1.0414538748281612),\n ('carries', 1.0345904299031787),\n ('satisfying', 1.0321225473992768),\n ('definite', 1.0319209141694374),\n ('touched', 1.0296194171811581),\n ('greatest', 1.0248947127715422),\n ('creates', 1.0241097613701886),\n ('aunt', 1.023388867430522),\n ('walter', 1.022328983918479),\n ('spectacular', 1.0198314108149955),\n ('portrayal', 1.0189810189761024),\n ('ann', 1.0127808528183286),\n ('enterprise', 1.0116009116784799),\n ('musicals', 1.0096648026516135),\n ('deeply', 1.0094845087721023),\n ('incredible', 1.0061677561461084),\n ('mature', 1.0060195018402847),\n ('triumph', 0.9968295943581673),\n ('margaret', 0.9968295943581673),\n ('navy', 0.9949338591932683),\n ('harry', 0.9917691930500606),\n ('lucas', 0.990398704027877),\n ('sweet', 0.9896611048795548),\n ('joey', 0.9879467207805901),\n ('oscar', 0.9872190511104971),\n ('balance', 0.9864949905474035),\n ('warm', 0.9848534033114517),\n ('ages', 0.9844989819006886),\n ('guilt', 0.9808292530117262),\n ('glover', 0.9808292530117262),\n ('carrey', 0.9808292530117262),\n ('learns', 0.978811088855489),\n ('unusual', 0.9778837427819693),\n ('sons', 0.977775815524836),\n ('complex', 0.977618977381478),\n ('essence', 0.9775343571148737),\n ('brazil', 0.9769153536905899),\n ('widow', 0.9765095918672099),\n ('solid', 0.9753796482441615),\n ('beautiful', 0.9732630126284105),\n ('holmes', 0.9724610033412096),\n ('awe', 0.9718605830289658),\n ('vhs', 0.9711673420999893),\n ('eerie', 0.9711673420999893),\n ('lonely', 0.9687372072466975),\n ('grim', 0.9687372072466975),\n ('sport', 0.9682504708048661),\n ('debut', 0.965080896043587),\n ('destiny', 0.963437510299857),\n ('thrillers', 0.9628107475090479),\n ('tears', 0.9597758438138939),\n ('rose', 0.9566420273977225),\n ('feelings', 0.9555114450274363),\n ('ginger', 0.9555114450274363),\n ('winning', 0.9547181090080405),\n ('stanley', 0.953873443023198),\n ('cox', 0.9534302788236119),\n ('paris', 0.9527847903047266),\n ('heart', 0.9523880692451681),\n ('hooked', 0.951558870711613),\n ('comfortable', 0.9480394301887354),\n ('mgm', 0.9444616088408515),\n ('masterpiece', 0.941550398633393),\n ('themes', 0.9411882834958823),\n ('danny', 0.9396711805182187),\n ('anime', 0.9337838893216722),\n ('perry', 0.9332883082427261),\n ('joy', 0.9330175256794686),\n ('lovable', 0.9308188324370649),\n ('mysteries', 0.9295359586241757),\n ('hal', 0.9295359586241757),\n ('louis', 0.9287132518727123),\n ('charming', 0.9252060955321074),\n ('urban', 0.9236708391717776),\n ('allows', 0.9218309122497704),\n ('impact', 0.9181581460489504),\n ('italy', 0.9162907318741551),\n ('gradually', 0.9162907318741551),\n ('lifestyle', 0.9162907318741551),\n ('spy', 0.9128951428730169),\n ('treat', 0.9119334265051994),\n ('subsequent', 0.9105600571651701),\n ('kennedy', 0.9098182173685376),\n ('loving', 0.9096754927554359),\n ('surprising', 0.9093702890295813),\n ('quiet', 0.9064867317775342),\n ('winter', 0.9062403960206536),\n ('reveals', 0.9049054096490298),\n ('raw', 0.9044562742271522),\n ('funniest', 0.9007865453381899),\n ('pleased', 0.8999415938726256),\n ('norman', 0.8999415938726256),\n ('thief', 0.8987464222232455),\n ('season', 0.8982722263714767),\n ('secrets', 0.8979415932059586),\n ('colorful', 0.8970593699462676),\n ('highest', 0.8967461358011849),\n ('compelling', 0.8946292350929758),\n ('danes', 0.8924800831804366),\n ('castle', 0.889677083356065),\n ('kudos', 0.8888917576860407),\n ('great', 0.8881047090146459),\n ('baseball', 0.8873031950009027),\n ('subtitles', 0.8873031950009027),\n ('bleak', 0.8873031950009027),\n ('winner', 0.8864377687244739),\n ('tragedy', 0.8856369907831526),\n ('todd', 0.8855190732074014),\n ('nicely', 0.879249460193806),\n ('arthur', 0.8754687373538999),\n ('essential', 0.8737311174553593),\n ('gorgeous', 0.8731725250935497),\n ('fonda', 0.8729402910005413),\n ('eastwood', 0.871395411966264),\n ('focuses', 0.8708283577973978),\n ('enjoyed', 0.8707019595162461),\n ('natural', 0.8699792450691284),\n ('intensity', 0.868351269585036),\n ('witty', 0.8682410342324468),\n ('rob', 0.8642954367557748),\n ('worlds', 0.8637726975907087),\n ('health', 0.861138911799075),\n ('magical', 0.8595379152817056),\n ('deeper', 0.8580218237501793),\n ('lucy', 0.8561868078044496),\n ('moving', 0.8556661100577203),\n ('lovely', 0.8529064000468131),\n ('purple', 0.8513711857748395),\n ('memorable', 0.8480118911208606),\n ('sings', 0.8472978603872037),\n ('craig', 0.8434293836092832),\n ('modesty', 0.8434293836092832),\n ('relate', 0.8432655968592652),\n ('episodes', 0.8422371208413729),\n ('strong', 0.8416713577706093),\n ('smith', 0.8395981110859005),\n ('tear', 0.8370413602200144),\n ('apartment', 0.8333311529054953),\n ('princess', 0.8329091229351039),\n ('disagree', 0.8329091229351039),\n ('kung', 0.831733343846092),\n ('adventure', 0.8315056139327839),\n ('columbo', 0.8266785731844679),\n ('jake', 0.8266785731844679),\n ('adds', 0.8248565259145232),\n ('hart', 0.8247235383486646),\n ('strength', 0.8241754429663494),\n ('realizes', 0.8236000689573806),\n ('dave', 0.8232003088081431),\n ('childhood', 0.8220808639358386),\n ('forbidden', 0.8198988861990891),\n ('tight', 0.818835395723442),\n ('surreal', 0.8178506590609026),\n ('manager', 0.8177099032017076),\n ('dancer', 0.8157495026522776),\n ('studios', 0.8109302162163288),\n ('con', 0.8109302162163288),\n ('miike', 0.8082165103447326),\n ('realistic', 0.8080771472339223),\n ('explicit', 0.8079226951523736),\n ('kurt', 0.8060875917405409),\n ('traditional', 0.8053591711668733),\n ('deals', 0.8053591711668733),\n ('holds', 0.8049385865480619),\n ('carl', 0.8043728156701697),\n ('touches', 0.8039615469002355),\n ('gene', 0.8031480757742738),\n ('albert', 0.8027669055771679),\n ('abc', 0.8023464725249373),\n ('cry', 0.8001193001121131),\n ('sides', 0.7995275841185171),\n ('develops', 0.7985076962177716),\n ('eyre', 0.7985076962177716),\n ('dances', 0.7969439742415889),\n ('oscars', 0.7963314167951762),\n ('legendary', 0.7960045659996531),\n ('hearted', 0.7949298748698876),\n ('importance', 0.7949298748698876),\n ('portraying', 0.7935659283069927),\n ('impressed', 0.7925810775481322),\n ('waters', 0.7911275889201491),\n ('empire', 0.7907856501238614),\n ('edge', 0.789774016249017),\n ('jean', 0.7884573603642703),\n ('environment', 0.7884573603642703),\n ('sentimental', 0.7864791203521645),\n ('captured', 0.7862376036259573),\n ('styles', 0.7859289140109116),\n ('daring', 0.7859289140109116),\n ('frank', 0.7827593392496325),\n ('tense', 0.7827593392496325),\n ('backgrounds', 0.7827593392496325),\n ('matches', 0.7827593392496325),\n ('gothic', 0.7820946665764414),\n ('sharp', 0.7814397877056235),\n ('achieved', 0.780158557549575),\n ('court', 0.7794752640484425),\n ('steals', 0.7789140023173704),\n ('rules', 0.7784447610718404),\n ('colors', 0.7768461994365922),\n ('reunion', 0.7731898882334817),\n ('covers', 0.7713993774596934),\n ('tale', 0.7701082216960737),\n ('rain', 0.7683706017975328),\n ('denzel', 0.768048488733063),\n ('stays', 0.7678707267558819),\n ('blob', 0.7672551527136672),\n ('maria', 0.7621400520468967),\n ('conventional', 0.7621400520468967),\n ('fresh', 0.7615843421131738),\n ('midnight', 0.7609697768987064),\n ('landscape', 0.758529939822797),\n ('animated', 0.7576857016975165),\n ('titanic', 0.7566605862822713),\n ('sunday', 0.7566605862822713),\n ('spring', 0.7537718023763802),\n ('cagney', 0.7537718023763802),\n ('enjoyable', 0.7524637577163648),\n ('immensely', 0.7519876805828787),\n ('sir', 0.7507762933965817),\n ('nevertheless', 0.7506710246981319),\n ('driven', 0.7499447789530785),\n ('performances', 0.7488325251606314),\n ('memories', 0.7472144018302211),\n ('nowadays', 0.7472144018302211),\n ('simple', 0.7464142097414326),\n ('golden', 0.7453329337305156),\n ('leslie', 0.7453329337305156),\n ('lovers', 0.7449722484245312),\n ('relationship', 0.7448423234560179),\n ('supporting', 0.7435780341868372),\n ('che', 0.742627237823315),\n ('packed', 0.7410032017375805),\n ('trek', 0.7402146914179311),\n ('provoking', 0.7384037721480662),\n ('strikes', 0.7375989431307791),\n ('depiction', 0.736822244062607),\n ('emotional', 0.7367821164568152),\n ('secretary', 0.7366322924996842),\n ('influenced', 0.7351113796589775),\n ('florida', 0.7351113796589775),\n ('germany', 0.7328875092094594),\n ('brings', 0.7314293671309623),\n ('lewis', 0.7312989465243216),\n ('elderly', 0.7308875085427924),\n ('owner', 0.7274362540385775),\n ('streets', 0.726669872598589),\n ('henry', 0.7264219694448174),\n ('portrays', 0.7259370033829363),\n ('bears', 0.7252354951114458),\n ('china', 0.7248958788745256),\n ('anger', 0.7243997240640498),\n ('society', 0.7243301079966333),\n ('available', 0.7241574173025055),\n ('best', 0.7234703406044631),\n ('bugs', 0.7227059828014898),\n ('magic', 0.718789611173283),\n ('delivers', 0.7184649885442351),\n ('verhoeven', 0.7184649885442351),\n ('jim', 0.7178397931503168),\n ('donald', 0.7166776779701394),\n ('endearing', 0.714653385780909),\n ('relationships', 0.713937950229019),\n ('greatly', 0.7125652664170469),\n ('charlie', 0.7102416139192453),\n ('brad', 0.7102416139192453),\n ('simon', 0.7096764825111558),\n ('effectively', 0.7091475219063864),\n ('march', 0.7077459799810979),\n ('atmosphere', 0.7074477307021416),\n ('influence', 0.7073318155519017),\n ('genius', 0.706392407309966),\n ('emotionally', 0.7055697005585024),\n ('ken', 0.7052685410922901),\n ('identity', 0.7048432203231365),\n ('sophisticated', 0.7047080029610213),\n ('dan', 0.7045758763835681),\n ('andrew', 0.7032995520239632),\n ('india', 0.7014459833746404),\n ('roy', 0.6997045811061043),\n ('surprisingly', 0.6995780708902356),\n ('sky', 0.6978091936657567),\n ('romantic', 0.6966498111111474),\n ('match', 0.6956692499926552),\n ('meets', 0.6931471805599453),\n ('cowboy', 0.6931471805599453),\n ('wave', 0.6931471805599453),\n ('bitter', 0.6931471805599453),\n ('patient', 0.6931471805599453),\n ('stylish', 0.6931471805599453),\n ('britain', 0.6931471805599453),\n ('affected', 0.6931471805599453),\n ('beatty', 0.6931471805599453),\n ('love', 0.6919853354193732),\n ('paul', 0.6898082792944307),\n ('andy', 0.688463331247519),\n ('performance', 0.6879738632797247),\n ('patrick', 0.6864581924091486),\n ('unlike', 0.6854646843879291),\n ('brooks', 0.6843365508777904),\n ('refuses', 0.6834852696482084),\n ('award', 0.6824518914431974),\n ('complaint', 0.6824518914431974),\n ('ride', 0.6822971645358795),\n ('dawson', 0.6817184847363226),\n ('luke', 0.6815863581588694),\n ('wells', 0.680877087968131),\n ('france', 0.6804081547825156),\n ('sports', 0.6800750989925926),\n ('handsome', 0.6800750989925926),\n ('directs', 0.6787584431078457),\n ('rebel', 0.6787584431078457),\n ('greater', 0.6760527472006452),\n ('dreams', 0.6759941013336959),\n ('effective', 0.6756540231124281),\n ('interpretation', 0.6747980418917487),\n ('works', 0.6744550475477928),\n ('brando', 0.6744550475477928),\n ('noble', 0.6737290947028437),\n ('paced', 0.6731465138532757),\n ('le', 0.6706743247078867),\n ('master', 0.6701576623352465),\n ('h', 0.6696166831497512),\n ('rings', 0.6690496289808848),\n ('easy', 0.6689599549459415),\n ('city', 0.6682082322126932),\n ('sunshine', 0.6678293725756554),\n ('succeeds', 0.666478933477784),\n ('relations', 0.664159643686693),\n ('england', 0.663876798259832),\n ('glimpse', 0.6632942174102642),\n ('aired', 0.6626879730752367),\n ('sees', 0.6626316366339948),\n ('both', 0.66248336767383),\n ('definitely', 0.6619978948389881),\n ('imaginative', 0.661398482245365),\n ('appreciate', 0.6608389373272875),\n ('tricks', 0.6607119048067914),\n ('striking', 0.6607119048067914),\n ('carefully', 0.6599949732430448),\n ('complicated', 0.6598107602923535),\n ('perspective', 0.6596244885213017),\n ('trilogy', 0.6587795370557376),\n ('future', 0.6583466514105283),\n ('lion', 0.6574290979578661),\n ('douglas', 0.6554068525770982),\n ('victor', 0.6554068525770982),\n ('inspired', 0.6545985104427103),\n ('marriage', 0.653926467406664),\n ('demands', 0.653926467406664),\n ('father', 0.6517232167219466),\n ('page', 0.6512362849443085),\n ('instant', 0.6505875661411494),\n ('era', 0.6495567444850836),\n ('ruthless', 0.6493445579015524),\n ('saga', 0.6493445579015524),\n ('joan', 0.6489139255831198),\n ('joseph', 0.6484112867185539),\n ('workers', 0.6482966143945935),\n ('fantasy', 0.6472675748092517),\n ('distant', 0.6455191315706907),\n ('accomplished', 0.6455191315706907),\n ('manhattan', 0.6443570163905132),\n ('personal', 0.6435502394205732),\n ('meeting', 0.6431367599852839),\n ('individual', 0.6431367599852839),\n ('pushing', 0.6431367599852839),\n ('pleasant', 0.6425034477411904),\n ('brave', 0.6418538861723947),\n ('william', 0.6408313911957847),\n ('hudson', 0.6407791950426294),\n ('friendly', 0.6394944670676251),\n ('eccentric', 0.6390799592896695),\n ('awards', 0.6387531084941465),\n ('jack', 0.6383830951499704),\n ('seeking', 0.6380874033769178),\n ('divorce', 0.6375773294051346),\n ('colonel', 0.6375773294051346),\n ('jane', 0.6344395797331673),\n ('keeping', 0.6341488397979895),\n ('gives', 0.6338356815949788),\n ('ted', 0.633427945858323),\n ('animation', 0.632086923798699),\n ('progress', 0.6317782341836532),\n ('larger', 0.6312717768418578),\n ('concert', 0.6312717768418578),\n ('nation', 0.6296337748376194),\n ('albeit', 0.6273958029971649),\n ('adapted', 0.6261364702769852),\n ('discovers', 0.6254290065049944),\n ('classic', 0.6250495642805052),\n ('segment', 0.6233514186244034),\n ('morgan', 0.6230376143729187),\n ('mouse', 0.6229429218866968),\n ('impressive', 0.6221114074431935),\n ('artist', 0.6216882165778004),\n ('ultimate', 0.6216882165778004),\n ('griffith', 0.621173680934856),\n ('drew', 0.6208265189803192),\n ('emily', 0.6208265189803192),\n ('moved', 0.6197197120051281),\n ('families', 0.6190392084062235),\n ('profound', 0.6190392084062235),\n ('innocent', 0.6185121991713645),\n ('versions', 0.6173091041684409),\n ('eddie', 0.6169198151720611),\n ('criticism', 0.6165139545390294),\n ('nature', 0.6159451465319409),\n ('recognized', 0.6151856390902335),\n ('sexuality', 0.6146755651184501),\n ('contract', 0.6140098600012215),\n ('brian', 0.6134404379492028),\n ('remembered', 0.6131044728864089),\n ('determined', 0.6123858239154869),\n ('offers', 0.6120793574711635),\n ('pleasure', 0.611957025829932),\n ('washington', 0.6118015411059929),\n ('images', 0.6115973135958376),\n ('games', 0.6106709587357068),\n ('academy', 0.6087298387473621),\n ('fashioned', 0.6079893722196384),\n ('melodrama', 0.6074917359814515),\n ('rough', 0.6061358035703155),\n ('charismatic', 0.6061358035703155),\n ('peoples', 0.6061358035703155),\n ('dealing', 0.6051784076139881),\n ('fine', 0.604969622680133),\n ('tap', 0.6039160468320027),\n ('trio', 0.6015799870344548),\n ('russell', 0.6012096852342597),\n ('figures', 0.6007738604289301),\n ('ward', 0.6000567574939334),\n ('shine', 0.5991182309116689),\n ('brady', 0.5991182309116689),\n ('job', 0.5984556212516866),\n ('satisfied', 0.5965203448708737),\n ('river', 0.5963796286249509),\n ('brown', 0.595773016534769),\n ('believable', 0.595660721333025),\n ('always', 0.5947071077466928),\n ('bound', 0.5947071077466928),\n ('hall', 0.5933967777928858),\n ('cook', 0.5916777203950857),\n ('claire', 0.5913644862500029),\n ('broadway', 0.5903376866937243),\n ('anna', 0.5877866649021191),\n ('peace', 0.5862840350175841),\n ('visually', 0.5853943192634992),\n ('morality', 0.5852582185487603),\n ('falk', 0.5852582185487603),\n ('growing', 0.5846665375658754),\n ('experiences', 0.5831462853456169),\n ('stood', 0.5831462853456169),\n ('touch', 0.58122926435596),\n ('lives', 0.5810976767513224),\n ('kubrick', 0.5806691971332549),\n ('timing', 0.5804740180558324),\n ('expressions', 0.5798184952529422),\n ('struggles', 0.5798184952529422),\n ('authentic', 0.5784842722398056),\n ('helen', 0.5776342934381009),\n ('pre', 0.5770075306472918),\n ('quirky', 0.5753641449035618),\n ('young', 0.5753167234453431),\n ('inner', 0.5745414381520985),\n ('mexico', 0.5744308737205633),\n ('clint', 0.5738004229273791),\n ('sisters', 0.5728610146854434),\n ('realism', 0.5722652889994956),\n ('french', 0.5720692490067093),\n ('personalities', 0.5720692490067093),\n ('surprises', 0.5711322299969818),\n ('adventures', 0.5711322299969818),\n ('overcome', 0.5697681593994407),\n ('timothy', 0.5695332245927687),\n ('tales', 0.5690945318899664),\n ('war', 0.5684331730278168),\n ('civil', 0.5679840376059393),\n ('countries', 0.5673777932709119),\n ('streep', 0.5671064596645803),\n ('tradition', 0.5668534552356532),\n ('oliver', 0.5667332557042867),\n ('australia', 0.5658077581833438),\n ('understanding', 0.5653138090500605),\n ('players', 0.5650952537000482),\n ('knowing', 0.5648928450362665),\n ('rogers', 0.5642134971840521),\n ('suspenseful', 0.5636891133230585),\n ('variety', 0.5636891133230585),\n ('true', 0.5628152518081007),\n ('jr', 0.5622098231124694),\n ('psychological', 0.5610874585468789),\n ('sent', 0.5596157879354227),\n ('grand', 0.5596157879354227),\n ('branagh', 0.5596157879354227),\n ('reminiscent', 0.5596157879354227),\n ('performing', 0.5596157879354227),\n ('wealth', 0.5596157879354227),\n ('overwhelming', 0.5596157879354227),\n ('odds', 0.5596157879354227),\n ('brothers', 0.5589118104336285),\n ('howard', 0.5581108967560025),\n ('david', 0.5569312225647537),\n ('generation', 0.556287997842748),\n ('grow', 0.5561253829956542),\n ('survival', 0.5559460590464603),\n ('mainstream', 0.5557473111575023),\n ('dick', 0.5543107357057295),\n ('charm', 0.5528817557540786),\n ('kirk', 0.5527898228650229),\n ('twists', 0.5524472984568102),\n ('gangster', 0.5520685823000399),\n ('jeff', 0.5517930622542137),\n ('family', 0.5511624451006553),\n ('tend', 0.5505330733611034),\n ('thanks', 0.5504908801584222),\n ('world', 0.5474423472343264),\n ('sutherland', 0.5474353693785516),\n ('life', 0.5469551443495992),\n ('disc', 0.5465437063680699),\n ('bug', 0.5465437063680699),\n ('tribute', 0.5455111817538808),\n ('europe', 0.5452270504833231),\n ('sacrifice', 0.5443015529623801),\n ('color', 0.5440512713943111),\n ('superior', 0.5433349023312852),\n ('york', 0.5431823586653651),\n ('pulls', 0.5426662296216495),\n ('jackson', 0.5423242908253617),\n ('hearts', 0.5423242908253617),\n ('enjoy', 0.5412428513590611),\n ('redemption', 0.5405675929647282),\n ('madness', 0.540384426007535),\n ('stands', 0.5389965007326869),\n ('trial', 0.5389965007326869),\n ('greek', 0.5389965007326869),\n ('hamilton', 0.5389965007326869),\n ('each', 0.5388212312554177),\n ('faithful', 0.5377330766859151),\n ('received', 0.5372768098531604),\n ('documentaries', 0.537142932083364),\n ('jealous', 0.537142932083364),\n ('different', 0.5370986068246082),\n ('describes', 0.5368011101692514),\n ('shorts', 0.5359615970375329),\n ('brilliance', 0.5355182363563621),\n ('mountains', 0.5349231753450512),\n ('share', 0.5340824859302579),\n ('dealt', 0.5340824859302579),\n ('providing', 0.5332984796180493),\n ('explore', 0.5332984796180493),\n ('series', 0.5325809226575603),\n ('fellow', 0.5323318289869543),\n ('loves', 0.5306282510621704),\n ('revolution', 0.5306282510621704),\n ('olivier', 0.5306282510621704),\n ('roman', 0.5306282510621704),\n ('century', 0.5300278307499267),\n ('musical', 0.5296687115674706),\n ('heroic', 0.5292593254548287),\n ('approach', 0.5280674302004967),\n ('ironically', 0.5280674302004967),\n ('temple', 0.5280674302004967),\n ('moves', 0.5279372642387119),\n ('gift', 0.5270203096859714),\n ('julie', 0.5260930958967791),\n ('tells', 0.52415107836314),\n ('radio', 0.5239467117286878),\n ('uncle', 0.5235443961737654),\n ('union', 0.5232481437645479),\n ('deep', 0.523095716357805),\n ('reminds', 0.5215784155422524),\n ('famous', 0.5211884108015372),\n ('jazz', 0.5205344378929515),\n ('dennis', 0.5198754592859086),\n ('epic', 0.5191938734365074),\n ('adult', 0.519167695083386),\n ('shows', 0.519153222203753),\n ('performed', 0.5191244265806858),\n ('demons', 0.5191244265806858),\n ('discovered', 0.5187937934151675),\n ('eric', 0.5187937934151675),\n ('youth', 0.5185626062681431),\n ('human', 0.5185141122498709),\n ('tarzan', 0.5181382706122772),\n ('ourselves', 0.5179430915348546),\n ('wwii', 0.5175824062288704),\n ('passion', 0.5162164724008671),\n ('desire', 0.5160749796521344),\n ('pays', 0.5158131652770298),\n ('dirty', 0.5155762265245886),\n ('fox', 0.5155762265245886),\n ('sympathetic', 0.5154660033224929),\n ('symbolism', 0.5154660033224929),\n ('attitude', 0.5153099362133193),\n ('appearances', 0.5146644000731564),\n ('jeremy', 0.5146644000731564),\n ('fun', 0.5143906899304869),\n ('south', 0.5142097217502312),\n ('arrives', 0.5140989491109599),\n ('present', 0.5134196589430373),\n ('com', 0.5132616785638717),\n ('smile', 0.5126588048476517),\n ('alan', 0.5108256237659907),\n ('ring', 0.5108256237659907),\n ('visit', 0.5108256237659907),\n ('fits', 0.5108256237659907),\n ('provided', 0.5108256237659907),\n ('carter', 0.5108256237659907),\n ('aging', 0.5108256237659907),\n ('countryside', 0.5108256237659907),\n ('begins', 0.5101565036339665),\n ('success', 0.5090057870490047),\n ('japan', 0.5090057870490047),\n ('accurate', 0.5089547158301789),\n ('proud', 0.5080047474243493),\n ('daily', 0.5075946031845443),\n ('karloff', 0.5072478024181067),\n ('atmospheric', 0.5072478024181067),\n ('recently', 0.5071491490366821),\n ('fu', 0.5070449009260847),\n ('horrors', 0.5065612249795332),\n ('finding', 0.5063712734166104),\n ('lust', 0.5059356384717989),\n ('hitchcock', 0.50574947073413),\n ('among', 0.5033400495133273),\n ('viewing', 0.5030213982744091),\n ('investigation', 0.5026288565618122),\n ('shining', 0.5026288565618122),\n ('duo', 0.5020919437972361),\n ('cameron', 0.5020919437972361),\n ('finds', 0.501283031005398),\n ('contemporary', 0.5007752879124892),\n ('genuine', 0.500462836730444),\n ('frightening', 0.49995595152908684),\n ('plays', 0.49975983848890226),\n ('age', 0.49941323171424595),\n ('position', 0.4989911661189878),\n ('continues', 0.4986303506721724),\n ('roles', 0.4983971655075218),\n ('james', 0.498372162694704),\n ('individuals', 0.4982468415591305),\n ('brought', 0.49783842823917956),\n ('hilarious', 0.4971455198619106),\n ('brutal', 0.49681488669639234),\n ('appropriate', 0.49643688631389105),\n ('dance', 0.4958199831481205),\n ('league', 0.49578774640145024),\n ('helping', 0.49578774640145024),\n ('answers', 0.49578774640145024),\n ('stunts', 0.49561620510246196),\n ('traveling', 0.4953214372300254),\n ('thoroughly', 0.49414593456733524),\n ('depicted', 0.4931706885272699),\n ('combination', 0.49247648509779424),\n ('honor', 0.49247648509779424),\n ('differences', 0.49247648509779424),\n ('fully', 0.4921334907538381),\n ('tracy', 0.49159426183810306),\n ('battles', 0.4914075379088891),\n ('possibility', 0.4911205526866582),\n ('romance', 0.4901589869574316),\n ('initially', 0.49002249613622745),\n ('happy', 0.4898997500608791),\n ('crime', 0.48977221456815834),\n ('singing', 0.4893852925281213),\n ('especially', 0.48901267837860624),\n ('shakespeare', 0.4875479388966451),\n ('hugh', 0.4872951263557966),\n ('detail', 0.4860948425082735),\n ('julia', 0.4855078157817008),\n ('san', 0.4855078157817008),\n ('guide', 0.4855078157817008),\n ('desperation', 0.4855078157817008),\n ('companion', 0.4855078157817008),\n ('strongly', 0.48460242866688824),\n ('necessary', 0.48302334245403883),\n ('humanity', 0.48265474679929443),\n ('drama', 0.48221998493060503),\n ('nonetheless', 0.4818380868927384),\n ('intrigue', 0.4818380868927384),\n ('warming', 0.4818380868927384),\n ('cuba', 0.4818380868927384),\n ('planned', 0.4795730802618863),\n ('pictures', 0.4792993701192168),\n ('broadcast', 0.4784902431230542),\n ('nine', 0.47803580094299974),\n ('settings', 0.47743860773325364),\n ('history', 0.4773296693378085),\n ('ordinary', 0.4772588001269074),\n ('trade', 0.47692407209030935),\n ('official', 0.4760826753221178),\n ('primary', 0.4760826753221178),\n ('episode', 0.4752962026115043),\n ('role', 0.47520268270188676),\n ('spirit', 0.4747769079983932),\n ('grey', 0.4740936144972607),\n ('ways', 0.47323464982718205),\n ('cup', 0.472604410945793),\n ('piano', 0.472604410945793),\n ('familiar', 0.4724161756511195),\n ('sinister', 0.4719857904497268),\n ('reveal', 0.47171449364936496),\n ('max', 0.4715085204251558),\n ('dated', 0.4712164856709448),\n ('losing', 0.47000362924573563),\n ('discovery', 0.47000362924573563),\n ('vicious', 0.47000362924573563),\n ('genuinely', 0.46871413841586385),\n ('hatred', 0.46734051182625186),\n ('mistaken', 0.4670230011075978),\n ('dream', 0.46608972992459924),\n ('challenge', 0.46608972992459924),\n ('crisis', 0.46575733836428446),\n ('photographed', 0.4648885285789651),\n ('critics', 0.4643056081310978),\n ('bird', 0.4643056081310978),\n ('machines', 0.4643056081310978),\n ('born', 0.4641138351896721),\n ('detective', 0.4636633473511525),\n ('higher', 0.46328467899699055),\n ('remains', 0.46262352194811296),\n ('inevitable', 0.46262352194811296),\n ('soviet', 0.4618180446592961),\n ('ryan', 0.461345566502621),\n ('african', 0.46112595521371813),\n ('smaller', 0.46081520319132935),\n ('techniques', 0.46052488529119184),\n ('information', 0.4603417183339986),\n ('deserved', 0.45999798712841444),\n ('lynch', 0.45953232937844013),\n ('spielberg', 0.45953232937844013),\n ('cynical', 0.45953232937844013),\n ('tour', 0.45953232937844013),\n ('francisco', 0.45953232937844013),\n ('struggle', 0.45911782160048453),\n ('language', 0.4590212125771265),\n ('visual', 0.4582351440882285),\n ('warner', 0.45724137763188427),\n ('social', 0.45720078250735313),\n ('reality', 0.45719346885019546),\n ('hidden', 0.4567584024957149),\n ('breaking', 0.4560173872709956),\n ('sometimes', 0.45563021171182794),\n ('modern', 0.45500247579345005),\n ('surfing', 0.4542552722775964),\n ('popular', 0.45410691533051023),\n ('surprised', 0.4534409399850382),\n ('follows', 0.4524536175440835),\n ('keeps', 0.45234869400701483),\n ('john', 0.4520909494482197),\n ('mixed', 0.4519851237430572),\n ('defeat', 0.4519851237430572),\n ('justice', 0.4514272436728002),\n ('treasure', 0.45083371313801535),\n ('presents', 0.44973793178615257),\n ('years', 0.4491919703210497),\n ('chief', 0.4489502200479032),\n ('shadows', 0.44802472252696035),\n ('closely', 0.4470141110210369),\n ('segments', 0.4470141110210369),\n ('lose', 0.446583355037637),\n ('caine', 0.44628710262841953),\n ('caught', 0.4461027538399907),\n ('hamlet', 0.44558510189758965),\n ('chinese', 0.4450742462032102),\n ('welcome', 0.4443805243578379),\n ('birth', 0.4436863209283622),\n ('represents', 0.44320543609101143),\n ('puts', 0.4427910657208508),\n ('visuals', 0.44183275227903923),\n ('fame', 0.44183275227903923),\n ('closer', 0.44183275227903923),\n ('web', 0.44183275227903923),\n ('criminal', 0.4412745608048752),\n ('minor', 0.4409224199448939),\n ('jon', 0.44086703515908027),\n ('liked', 0.4407499151402072),\n ('restaurant', 0.44031183943833246),\n ('de', 0.4398327516123722),\n ('flaws', 0.4398327516123722),\n ('searching', 0.4393666597838457),\n ('rap', 0.4389130421757044),\n ('light', 0.4388443301819989),\n ('elizabeth', 0.4387223298646468),\n ('marry', 0.4386173154250649),\n ('learned', 0.4382549309311553),\n ('controversial', 0.4382549309311553),\n ('oz', 0.4382549309311553),\n ('slowly', 0.4378566038993998),\n ('comedic', 0.43721380642274466),\n ('wayne', 0.43721380642274466),\n ('thrilling', 0.43721380642274466),\n ('bridge', 0.43721380642274466),\n ('married', 0.4365850168219689),\n ('nazi', 0.4361020775700542),\n ('murder', 0.4353180712578455),\n ('physical', 0.4353180712578455),\n ('johnny', 0.43483971678806865),\n ('michelle', 0.4344526449814167),\n ('wallace', 0.4340384805522204),\n ('comedies', 0.43395706390247063),\n ('silent', 0.43395706390247063),\n ('played', 0.43387244114515305),\n ('international', 0.43363598507486073),\n ('vision', 0.4328640822962789),\n ('intelligent', 0.431967048853671),\n ('shop', 0.43078291609245434),\n ('also', 0.4303672020976917),\n ('levels', 0.4302451371066513),\n ('miss', 0.4300642671215322),\n ('movement', 0.4295626596872249),\n ...]"
     },
     "execution_count": 12,
     "metadata": {},
     "output_type": "execute_result"
    }
   ],
   "source": [
    "# words most frequently seen in a review with a \"POSITIVE\" label\n",
    "pos_neg_ratios.most_common()"
   ]
  },
  {
   "cell_type": "code",
   "execution_count": 13,
   "metadata": {
    "collapsed": false,
    "scrolled": true
   },
   "outputs": [
    {
     "data": {
      "text/plain": "[('boll', -4.07781526027089),\n ('uwe', -3.921875301871158),\n ('seagal', -3.320250105858192),\n ('unwatchable', -3.0269848170580955),\n ('stinker', -2.9876839403711624),\n ('mst', -2.775383321170797),\n ('incoherent', -2.7641396677532537),\n ('unfunny', -2.5545257844967644),\n ('waste', -2.4907515123361046),\n ('blah', -2.4475792789485005),\n ('horrid', -2.371577964480997),\n ('pointless', -2.345107387713634),\n ('atrocious', -2.3187369339642556),\n ('redeeming', -2.2667790015910296),\n ('prom', -2.2601040980178784),\n ('drivel', -2.247602958576693),\n ('lousy', -2.2118080125207054),\n ('worst', -2.1930856334332267),\n ('laughable', -2.172468615469592),\n ('awful', -2.1385076866397488),\n ('poorly', -2.132613384420701),\n ('wasting', -2.117815554561451),\n ('remotely', -2.111046881095167),\n ('existent', -2.0024805005437076),\n ('boredom', -1.9241486572738005),\n ('miserably', -1.921661093801999),\n ('sucks', -1.9166645809588516),\n ('uninspired', -1.9131499212248517),\n ('lame', -1.9117232884159072),\n ('insult', -1.908532376937626)]"
     },
     "execution_count": 13,
     "metadata": {},
     "output_type": "execute_result"
    }
   ],
   "source": [
    "# words most frequently seen in a review with a \"NEGATIVE\" label\n",
    "list(reversed(pos_neg_ratios.most_common()))[0:30]"
   ]
  },
  {
   "cell_type": "markdown",
   "metadata": {},
   "source": [
    "# Transforming Text into Numbers"
   ]
  },
  {
   "cell_type": "code",
   "execution_count": 14,
   "metadata": {
    "collapsed": false
   },
   "outputs": [
    {
     "data": {
      "image/png": "[encoded data removed]",
      "text/plain": "<IPython.core.display.Image object>"
     },
     "execution_count": 14,
     "metadata": {},
     "output_type": "execute_result"
    }
   ],
   "source": [
    "from IPython.display import Image\n",
    "\n",
    "review = \"This was a horrible, terrible movie.\"\n",
    "\n",
    "Image(filename='sentiment_network.png')"
   ]
  },
  {
   "cell_type": "code",
   "execution_count": 15,
   "metadata": {
    "collapsed": false
   },
   "outputs": [
    {
     "data": {
      "image/png": "[encoded data removed]",
      "text/plain": "<IPython.core.display.Image object>"
     },
     "execution_count": 15,
     "metadata": {},
     "output_type": "execute_result"
    }
   ],
   "source": [
    "review = \"The movie was excellent\"\n",
    "\n",
    "Image(filename='sentiment_network_pos.png')"
   ]
  },
  {
   "cell_type": "markdown",
   "metadata": {
    "collapsed": true
   },
   "source": [
    "# Project 2: Creating the Input/Output Data"
   ]
  },
  {
   "cell_type": "code",
   "execution_count": 16,
   "metadata": {
    "collapsed": false
   },
   "outputs": [
    {
     "name": "stdout",
     "output_type": "stream",
     "text": [
      "74074\n"
     ]
    }
   ],
   "source": [
    "vocab = set(total_counts.keys())\n",
    "vocab_size = len(vocab)\n",
    "print(vocab_size)"
   ]
  },
  {
   "cell_type": "code",
   "execution_count": 17,
   "metadata": {
    "collapsed": false
   },
   "outputs": [
    {
     "data": {
      "text/plain": "['',\n 'gifted',\n 'disgruntle',\n 'eviction',\n 'exo',\n 'chechen',\n 'sainthood',\n 'formations',\n 'ipod',\n 'farraginous',\n 'sullying',\n 'gray',\n 'sled',\n 'ocarina',\n 'meshing',\n 'teorema',\n 'deckard',\n 'fines',\n 'quicky',\n 'taiyou',\n 'jammin',\n 'buy',\n 'versa',\n 'prudhomme',\n 'inquiry',\n 'wayans',\n 'pianful',\n 'burkley',\n 'ermine',\n 'druten',\n 'shied',\n 'mache',\n 'dusting',\n 'programmatical',\n 'eduction',\n 'pa',\n 'banshee',\n 'savalas',\n 'thorsen',\n 'fumigators',\n 'chaplinesque',\n 'millions',\n 'remand',\n 'jogs',\n 'mroavich',\n 'moviedom',\n 'plucky',\n 'strudel',\n 'tandy',\n 'infuriate',\n 'proposals',\n 'ehh',\n 'bigha',\n 'skulks',\n 'perfected',\n 'loomed',\n 'mumbles',\n 'torturro',\n 'repetitiveness',\n 'expanse',\n 'villians',\n 'honkin',\n 'marsupials',\n 'coworkers',\n 'ambiance',\n 'begged',\n 'rc',\n 'weaved',\n 'daria',\n 'trampoline',\n 'uswa',\n 'polyana',\n 'unfunniest',\n 'winch',\n 'prom',\n 'ashore',\n 'exerted',\n 'streamlines',\n 'reemergence',\n 'contemperaneous',\n 'ins',\n 'mamie',\n 'stanford',\n 'showthread',\n 'trough',\n 'roache',\n 'paramore',\n 'ducts',\n 'voicing',\n 'grappling',\n 'podalyds',\n 'linkage',\n 'icewater',\n 'detmer',\n 'digging',\n 'reschedule',\n 'gook',\n 'freeze',\n 'indigineous',\n 'catalunya',\n 'fitzsimmons',\n 'batmantas',\n 'demeanour',\n 'atrociousness',\n 'housedress',\n 'bulimic',\n 'innocent',\n 'testament',\n 'bryan',\n 'wristed',\n 'chacotero',\n 'funky',\n 'spreadeagled',\n 'postponement',\n 'traveller',\n 'bathhouse',\n 'kevorkian',\n 'prowls',\n 'snippers',\n 'limo',\n 'mps',\n 'charac',\n 'horne',\n 'ballykissangel',\n 'rekindles',\n 'tokes',\n 'epcot',\n 'developing',\n 'leprous',\n 'alanrickmaniac',\n 'cordova',\n 'kam',\n 'breezy',\n 'uta',\n 'stothart',\n 'epithets',\n 'satin',\n 'mop',\n 'bromidic',\n 'lowers',\n 'ailton',\n 'denholm',\n 'denueve',\n 'ocassionally',\n 'specified',\n 'matta',\n 'exsists',\n 'sienna',\n 'pubescent',\n 'pugh',\n 'noirometer',\n 'mmm',\n 'ware',\n 'wahala',\n 'alternately',\n 'nickolodean',\n 'shimmeringly',\n 'sunspot',\n 'coerced',\n 'forgive',\n 'barricading',\n 'haney',\n 'dimmsdale',\n 'synopsizing',\n 'visibile',\n 'rita',\n 'abstained',\n 'disoriented',\n 'starving',\n 'neorealist',\n 'samundar',\n 'jazzing',\n 'insert',\n 'obscures',\n 'manhattan',\n 'discounting',\n 'murdoch',\n 'blabbing',\n 'normally',\n 'repented',\n 'towney',\n 'mclaglen',\n 'unnuanced',\n 'nobudget',\n 'witchmaker',\n 'miserably',\n 'cashier',\n 'wai',\n 'fierceness',\n 'egyptology',\n 'swinton',\n 'gaolers',\n 'shined',\n 'sequenes',\n 'knappertsbusch',\n 'outfit',\n 'rounders',\n 'obsolete',\n 'filmschool',\n 'scurrying',\n 'denigrating',\n 'butts',\n 'damien',\n 'visiteurs',\n 'talespeter',\n 'helo',\n 'cheeken',\n 'thrills',\n 'stupider',\n 'harshness',\n 'philbin',\n 'deolali',\n 'dau',\n 'encorew',\n 'omelette',\n 'kaiso',\n 'chatterjee',\n 'woodrell',\n 'altered',\n 'aunts',\n 'masina',\n 'caravaggio',\n 'shemekia',\n 'epithet',\n 'baaaad',\n 'humiliates',\n 'woar',\n 'budjet',\n 'thanklessly',\n 'urmilla',\n 'veneration',\n 'nunchaku',\n 'holds',\n 'grader',\n 'faux',\n 'loose',\n 'posher',\n 'untapped',\n 'dratic',\n 'nervously',\n 'gallaghers',\n 'connecticute',\n 'blackbelts',\n 'fields',\n 'deathscythe',\n 'moodysson',\n 'glossty',\n 'stiffer',\n 'nuit',\n 'cundy',\n 'beatriz',\n 'bastardized',\n 'stinging',\n 'cliffhanging',\n 'maronna',\n 'need',\n 'boschi',\n 'dunebuggies',\n 'paxson',\n 'tomie',\n 'fye',\n 'hoovervilles',\n 'imitations',\n 'kelso',\n 'laureate',\n 'independently',\n 'crossbeams',\n 'drivel',\n 'campy',\n 'scattergun',\n 'bushranger',\n 'ostrich',\n 'illuminating',\n 'ayutthaya',\n 'prominance',\n 'excellence',\n 'lacing',\n 'aborted',\n 'meaney',\n 'lon',\n 'spirals',\n 'kwouk',\n 'bothered',\n 'unmanipulated',\n 'wandered',\n 'authoring',\n 'choosing',\n 'wastepaper',\n 'accelerator',\n 'fact',\n 'steamboat',\n 'quantas',\n 'morrisey',\n 'collera',\n 'otac',\n 'pink',\n 'binoche',\n 'sexuals',\n 'percy',\n 'exchanging',\n 'womanness',\n 'receieved',\n 'condomine',\n 'field',\n 'career',\n 'ul',\n 'fosse',\n 'gao',\n 'drss',\n 'zechs',\n 'longinidis',\n 'renews',\n 'loaded',\n 'slaying',\n 'stifling',\n 'rasps',\n 'crescendo',\n 'archery',\n 'coaxes',\n 'cor',\n 'awfuwwy',\n 'leighton',\n 'legalization',\n 'duds',\n 'kinetic',\n 'wresting',\n 'cautionary',\n 'sartre',\n 'jarrow',\n 'misforgivings',\n 'vangelis',\n 'hopped',\n 'departs',\n 'mostess',\n 'caldern',\n 'gotta',\n 'trouts',\n 'amir',\n 'moeurs',\n 'bauchau',\n 'rostotsky',\n 'anyhows',\n 'mucci',\n 'katchuck',\n 'guantanamera',\n 'francine',\n 'nabooboo',\n 'branaugh',\n 'fuses',\n 'stackhouse',\n 'pity',\n 'sect',\n 'chalked',\n 'raider',\n 'ernst',\n 'blurr',\n 'cashiered',\n 'irregardless',\n 'lafayette',\n 'eligible',\n 'peruvian',\n 'tropes',\n 'bustiers',\n 'gentility',\n 'prosero',\n 'reunions',\n 'theories',\n 'ruginis',\n 'hesteria',\n 'summary',\n 'lab',\n 'activate',\n 'tallinn',\n 'convoy',\n 'russell',\n 'headaches',\n 'homes',\n 'perla',\n 'projectiles',\n 'scrooge',\n 'tepid',\n 'essandoh',\n 'grauer',\n 'gravitas',\n 'presto',\n 'subliminally',\n 'weeeeeell',\n 'lindenmuth',\n 'rascal',\n 'jodie',\n 'mantra',\n 'cheshire',\n 'absorb',\n 'devastation',\n 'spouse',\n 'somers',\n 'revitalizes',\n 'wack',\n 'arends',\n 'resisting',\n 'comigo',\n 'uhs',\n 'repulse',\n 'tuneful',\n 'propitious',\n 'ishiro',\n 'retold',\n 'stagnant',\n 'splendidly',\n 'zira',\n 'excretion',\n 'relives',\n 'fichtner',\n 'actuelly',\n 'ulster',\n 'houseboat',\n 'routing',\n 'weighted',\n 'bickle',\n 'bllsosopher',\n 'appalingly',\n 'vidocq',\n 'naughtier',\n 'skeletor',\n 'unfettered',\n 'isuh',\n 'wilfred',\n 'vantage',\n 'drizzling',\n 'ides',\n 'schizo',\n 'pawnbroker',\n 'pucci',\n 'software',\n 'imogene',\n 'pshycological',\n 'satisfy',\n 'tortured',\n 'encoded',\n 'diplomas',\n 'xtravaganza',\n 'autocue',\n 'mallika',\n 'defilers',\n 'attribute',\n 'posey',\n 'possessingand',\n 'bonzai',\n 'songbook',\n 'remi',\n 'mias',\n 'mclovins',\n 'serpents',\n 'marketability',\n 'substantive',\n 'scolding',\n 'toyoko',\n 'liswood',\n 'otvio',\n 'drle',\n 'proposing',\n 'anarchistic',\n 'butting',\n 'verucci',\n 'aloft',\n 'rukh',\n 'burgade',\n 'admittingly',\n 'lovin',\n 'talliban',\n 'laupta',\n 'principality',\n 'chats',\n 'mellower',\n 'shaded',\n 'casamajor',\n 'shudder',\n 'automotive',\n 'kosti',\n 'buoy',\n 'piffle',\n 'quinns',\n 'lozano',\n 'decapitations',\n 'lameass',\n 'myddleton',\n 'yorkshire',\n 'belatedly',\n 'praskins',\n 'dearest',\n 'heaped',\n 'psychopathia',\n 'spierlberg',\n 'dahlink',\n 'nother',\n 'unaffected',\n 'mehemet',\n 'hugely',\n 'fillmmaker',\n 'silencer',\n 'fathering',\n 'kyles',\n 'coherrent',\n 'delineating',\n 'deflate',\n 'guffawed',\n 'perez',\n 'emulated',\n 'grocer',\n 'tearfully',\n 'unnecessity',\n 'watling',\n 'tweedle',\n 'authoritatively',\n 'critter',\n 'mutates',\n 'absurdly',\n 'yobs',\n 'posttraumatic',\n 'grappler',\n 'nappy',\n 'lapels',\n 'dismantle',\n 'scamper',\n 'delamere',\n 'syafie',\n 'accord',\n 'subscribers',\n 'quirkiest',\n 'milquetoast',\n 'schrieber',\n 'clyde',\n 'vietcong',\n 'discrepancy',\n 'zimmerframe',\n 'realityshowlike',\n 'howlers',\n 'overplays',\n 'tinted',\n 'reeeaally',\n 'sailplane',\n 'leaguers',\n 'soporific',\n 'cheapens',\n 'woooooo',\n 'archipelago',\n 'alexandra',\n 'overheating',\n 'drugged',\n 'preformance',\n 'shostakovich',\n 'stalkings',\n 'lorean',\n 'deprive',\n 'leith',\n 'grasshopper',\n 'abodes',\n 'emerald',\n 'cubitt',\n 'symposium',\n 'biochemistry',\n 'supes',\n 'mdogg',\n 'dimaggio',\n 'sustained',\n 'pheebs',\n 'characterized',\n 'saintly',\n 'unglued',\n 'cetnik',\n 'imprints',\n 'kittredge',\n 'papich',\n 'chestburster',\n 'jcvd',\n 'gordy',\n 'takei',\n 'towne',\n 'sock',\n 'ooooooh',\n 'logician',\n 'tongued',\n 'hoodlums',\n 'voil',\n 'reflected',\n 'femur',\n 'passworthys',\n 'toonami',\n 'gapers',\n 'brother',\n 'hybrids',\n 'sorte',\n 'square',\n 'lucrative',\n 'mommie',\n 'angeletti',\n 'inhumanity',\n 'foreseen',\n 'nastiness',\n 'objection',\n 'awaythere',\n 'businesspeople',\n 'soweto',\n 'shud',\n 'craven',\n 'halperin',\n 'fozzie',\n 'dismiss',\n 'keyword',\n 'discontinuous',\n 'arawak',\n 'adobe',\n 'addy',\n 'kuriyama',\n 'waynes',\n 'misleading',\n 'barking',\n 'chevette',\n 'castlevania',\n 'timberflake',\n 'anomalies',\n 'rope',\n 'chunky',\n 'spats',\n 'breakin',\n 'sanitorium',\n 'undertaste',\n 'geyrhalter',\n 'stratagem',\n 'gesticulates',\n 'gesturing',\n 'litel',\n 'evidenced',\n 'toshiro',\n 'zyuranger',\n 'flatlands',\n 'sediments',\n 'incredulities',\n 'pumps',\n 'imaginary',\n 'voss',\n 'toola',\n 'trades',\n 'proclaiming',\n 'dreimaderlhaus',\n 'feinberg',\n 'tudyk',\n 'minna',\n 'ramundo',\n 'earthbound',\n 'entitles',\n 'restraining',\n 'mastan',\n 'respectfully',\n 'gabe',\n 'forrester',\n 'intrude',\n 'haldeman',\n 'narcotic',\n 'scaring',\n 'goku',\n 'flashdance',\n 'knoks',\n 'arrestingly',\n 'rhino',\n 'ethiopian',\n 'recedes',\n 'lorri',\n 'giornate',\n 'pyare',\n 'rassendyll',\n 'quantrill',\n 'primeival',\n 'denigrates',\n 'schedual',\n 'devine',\n 'ilene',\n 'predicted',\n 'unclassifiable',\n 'hgtv',\n 'clausen',\n 'architect',\n 'tactically',\n 'affaire',\n 'reappropriated',\n 'deferent',\n 'carmella',\n 'roguish',\n 'moliere',\n 'raring',\n 'jean',\n 'savaging',\n 'ahet',\n 'sweary',\n 'fetes',\n 'closely',\n 'fascination',\n 'incompetently',\n 'ungainly',\n 'tuous',\n 'werewold',\n 'restarted',\n 'yielding',\n 'acosta',\n 'payoffs',\n 'manila',\n 'ensured',\n 'eu',\n 'braveness',\n 'californians',\n 'moldering',\n 'agonia',\n 'bim',\n 'popcorncoke',\n 'enquiry',\n 'circulating',\n 'daman',\n 'ranvijay',\n 'argenziano',\n 'richert',\n 'kleban',\n 'hylands',\n 'thwarted',\n 'movie',\n 'mayble',\n 'derringer',\n 'twasn',\n 'salmans',\n 'ashes',\n 'unkwown',\n 'coutard',\n 'wla',\n 'klowns',\n 'trashman',\n 'mccord',\n 'responsive',\n 'unironic',\n 'gorgous',\n 'filmed',\n 'binding',\n 'strategy',\n 'vancleef',\n 'seem',\n 'doer',\n 'palomar',\n 'interprets',\n 'soil',\n 'ethnic',\n 'fleetingly',\n 'paleface',\n 'mowbrays',\n 'hiphop',\n 'wodehousian',\n 'hams',\n 'suspects',\n 'flavors',\n 'rapprochement',\n 'girotti',\n 'robben',\n 'maids',\n 'bakelite',\n 'crasser',\n 'bitterness',\n 'bureaucrats',\n 'videowork',\n 'outstandingly',\n 'visit',\n 'rinsing',\n 'concede',\n 'stevenson',\n 'contacted',\n 'aardman',\n 'saddles',\n 'gorillas',\n 'wertmueller',\n 'exceed',\n 'confessing',\n 'gunner',\n 'undertow',\n 'sparky',\n 'faridany',\n 'bafta',\n 'habousch',\n 'tester',\n 'shippe',\n 'southampton',\n 'forcing',\n 'actioned',\n 'outline',\n 'guyland',\n 'needham',\n 'relapses',\n 'changed',\n 'turaqui',\n 'move',\n 'chime',\n 'glutton',\n 'resoundingly',\n 'digestive',\n 'dosent',\n 'astrotheology',\n 'blas',\n 'nelson',\n 'satisfaction',\n 'imperative',\n 'farmworker',\n 'owens',\n 'unabsorbing',\n 'caratherisic',\n 'arouse',\n 'broom',\n 'mingozzi',\n 'wrenching',\n 'quizzically',\n 'scenarist',\n 'unsubstantial',\n 'travestite',\n 'perms',\n 'merkel',\n 'dreamer',\n 'dirs',\n 'babtise',\n 'ancillary',\n 'toolbox',\n 'unneccesary',\n 'pide',\n 'comparisons',\n 'rockc',\n 'korie',\n 'voodoo',\n 'marquand',\n 'sharkish',\n 'color',\n 'miniguns',\n 'seminar',\n 'parenting',\n 'cornell',\n 'eternity',\n 'diabolism',\n 'blondes',\n 'repertory',\n 'mountaineering',\n 'wareham',\n 'individuated',\n 'towards',\n 'diry',\n 'tommorow',\n 'lumberjack',\n 'buxom',\n 'wes',\n 'mufasa',\n 'undoubtably',\n 'reputed',\n 'suevia',\n 'incomparably',\n 'tak',\n 'prosperity',\n 'porcasi',\n 'bruges',\n 'unisol',\n 'satanised',\n 'uniformly',\n 'rituals',\n 'bohemia',\n 'pennant',\n 'overexposure',\n 'forthegill',\n 'patti',\n 'chihuahuawoman',\n 'accumulator',\n 'showeman',\n 'foulata',\n 'aloy',\n 'trick',\n 'vicki',\n 'barrage',\n 'djinn',\n 'deriving',\n 'calculations',\n 'denison',\n 'reconsiders',\n 'retinas',\n 'ditech',\n 'fenech',\n 'farmzoid',\n 'constrained',\n 'pantoliano',\n 'peeking',\n 'timberlake',\n 'parlor',\n 'frankenscience',\n 'tonka',\n 'reiterates',\n 'miraglia',\n 'monters',\n 'milligans',\n 'swastikas',\n 'forty',\n 'souffle',\n 'strenuous',\n 'bonecrushing',\n 'restarting',\n 'positively',\n 'perpetrating',\n 'worshippers',\n 'onofrio',\n 'tribbles',\n 'refractive',\n 'fidani',\n 'kagemusha',\n 'moog',\n 'calves',\n 'risqu',\n 'captioning',\n 'verveen',\n 'spoofing',\n 'goad',\n 'synths',\n 'recapturing',\n 'scientologists',\n 'shashi',\n 'plumbed',\n 'microbes',\n 'jus',\n 'fleer',\n 'schofield',\n 'tressa',\n 'grammies',\n 'doc',\n 'fondly',\n 'ronnie',\n 'marcus',\n 'enunciation',\n 'descendents',\n 'acquiescence',\n 'fargas',\n 'kind',\n 'salivating',\n 'inflected',\n 'partners',\n 'trish',\n 'mantels',\n 'kiedis',\n 'skullcap',\n 'zatichi',\n 'melting',\n 'sunning',\n 'fatherland',\n 'profound',\n 'pff',\n 'underclothes',\n 'tobacconist',\n 'crimefilm',\n 'erie',\n 'autographs',\n 'galbo',\n 'wallach',\n 'calorie',\n 'rookies',\n 'slavishly',\n 'ipecac',\n 'petit',\n 'pressured',\n 'educator',\n 'scorn',\n 'backus',\n 'doubt',\n 'mutinous',\n 'notably',\n 'gravest',\n 'makeups',\n 'gardner',\n 'zasu',\n 'cameras',\n 'unprotected',\n 'hacen',\n 'bletchly',\n 'standish',\n 'rasuk',\n 'prosaic',\n 'gimme',\n 'impunity',\n 'buckheimer',\n 'kisi',\n 'labeled',\n 'foe',\n 'lobo',\n 'unexperienced',\n 'mathews',\n 'basset',\n 'rallies',\n 'arthurs',\n 'gangland',\n 'ferrell',\n 'worriedly',\n 'correctness',\n 'terminate',\n 'googl',\n 'pray',\n 'prisoner',\n ...]"
     },
     "execution_count": 17,
     "metadata": {},
     "output_type": "execute_result"
    }
   ],
   "source": [
    "list(vocab)"
   ]
  },
  {
   "cell_type": "code",
   "execution_count": 18,
   "metadata": {
    "collapsed": false
   },
   "outputs": [
    {
     "data": {
      "text/plain": "array([[0., 0., 0., ..., 0., 0., 0.]])"
     },
     "execution_count": 18,
     "metadata": {},
     "output_type": "execute_result"
    }
   ],
   "source": [
    "import numpy as np\n",
    "\n",
    "layer_0 = np.zeros((1,vocab_size))\n",
    "layer_0"
   ]
  },
  {
   "cell_type": "code",
   "execution_count": 19,
   "metadata": {
    "collapsed": false
   },
   "outputs": [
    {
     "data": {
      "image/png": "[encoded data removed]",
      "text/plain": "<IPython.core.display.Image object>"
     },
     "execution_count": 19,
     "metadata": {},
     "output_type": "execute_result"
    }
   ],
   "source": [
    "from IPython.display import Image\n",
    "Image(filename='sentiment_network.png')"
   ]
  },
  {
   "cell_type": "code",
   "execution_count": 20,
   "metadata": {
    "collapsed": false
   },
   "outputs": [
    {
     "data": {
      "text/plain": "{'': 0,\n 'gifted': 1,\n 'disgruntle': 2,\n 'eviction': 3,\n 'exo': 4,\n 'chechen': 5,\n 'sainthood': 6,\n 'formations': 7,\n 'ipod': 8,\n 'farraginous': 9,\n 'sullying': 10,\n 'gray': 11,\n 'sled': 12,\n 'ocarina': 13,\n 'meshing': 14,\n 'teorema': 15,\n 'deckard': 16,\n 'fines': 17,\n 'quicky': 18,\n 'taiyou': 19,\n 'jammin': 20,\n 'buy': 21,\n 'versa': 22,\n 'prudhomme': 23,\n 'inquiry': 24,\n 'wayans': 25,\n 'pianful': 26,\n 'burkley': 27,\n 'ermine': 28,\n 'druten': 29,\n 'shied': 30,\n 'mache': 31,\n 'dusting': 32,\n 'programmatical': 33,\n 'eduction': 34,\n 'pa': 35,\n 'banshee': 36,\n 'savalas': 37,\n 'thorsen': 38,\n 'fumigators': 39,\n 'chaplinesque': 40,\n 'millions': 41,\n 'remand': 42,\n 'jogs': 43,\n 'mroavich': 44,\n 'moviedom': 45,\n 'plucky': 46,\n 'strudel': 47,\n 'tandy': 48,\n 'infuriate': 49,\n 'proposals': 50,\n 'ehh': 51,\n 'bigha': 52,\n 'skulks': 53,\n 'perfected': 54,\n 'loomed': 55,\n 'mumbles': 56,\n 'torturro': 57,\n 'repetitiveness': 58,\n 'expanse': 59,\n 'villians': 60,\n 'honkin': 61,\n 'marsupials': 62,\n 'coworkers': 63,\n 'ambiance': 64,\n 'begged': 65,\n 'rc': 66,\n 'weaved': 67,\n 'daria': 68,\n 'trampoline': 69,\n 'uswa': 70,\n 'polyana': 71,\n 'unfunniest': 72,\n 'winch': 73,\n 'prom': 74,\n 'ashore': 75,\n 'exerted': 76,\n 'streamlines': 77,\n 'reemergence': 78,\n 'contemperaneous': 79,\n 'ins': 80,\n 'mamie': 81,\n 'stanford': 82,\n 'showthread': 83,\n 'trough': 84,\n 'roache': 85,\n 'paramore': 86,\n 'ducts': 87,\n 'voicing': 88,\n 'grappling': 89,\n 'podalyds': 90,\n 'linkage': 91,\n 'icewater': 92,\n 'detmer': 93,\n 'digging': 94,\n 'reschedule': 95,\n 'gook': 96,\n 'freeze': 97,\n 'indigineous': 98,\n 'catalunya': 99,\n 'fitzsimmons': 100,\n 'batmantas': 101,\n 'demeanour': 102,\n 'atrociousness': 103,\n 'housedress': 104,\n 'bulimic': 105,\n 'innocent': 106,\n 'testament': 107,\n 'bryan': 108,\n 'wristed': 109,\n 'chacotero': 110,\n 'funky': 111,\n 'spreadeagled': 112,\n 'postponement': 113,\n 'traveller': 114,\n 'bathhouse': 115,\n 'kevorkian': 116,\n 'prowls': 117,\n 'snippers': 118,\n 'limo': 119,\n 'mps': 120,\n 'charac': 121,\n 'horne': 122,\n 'ballykissangel': 123,\n 'rekindles': 124,\n 'tokes': 125,\n 'epcot': 126,\n 'developing': 127,\n 'leprous': 128,\n 'alanrickmaniac': 129,\n 'cordova': 130,\n 'kam': 131,\n 'breezy': 132,\n 'uta': 133,\n 'stothart': 134,\n 'epithets': 135,\n 'satin': 136,\n 'mop': 137,\n 'bromidic': 138,\n 'lowers': 139,\n 'ailton': 140,\n 'denholm': 141,\n 'denueve': 142,\n 'ocassionally': 143,\n 'specified': 144,\n 'matta': 145,\n 'exsists': 146,\n 'sienna': 147,\n 'pubescent': 148,\n 'pugh': 149,\n 'noirometer': 150,\n 'mmm': 151,\n 'ware': 152,\n 'wahala': 153,\n 'alternately': 154,\n 'nickolodean': 155,\n 'shimmeringly': 156,\n 'sunspot': 157,\n 'coerced': 158,\n 'forgive': 159,\n 'barricading': 160,\n 'haney': 161,\n 'dimmsdale': 162,\n 'synopsizing': 163,\n 'visibile': 164,\n 'rita': 165,\n 'abstained': 166,\n 'disoriented': 167,\n 'starving': 168,\n 'neorealist': 169,\n 'samundar': 170,\n 'jazzing': 171,\n 'insert': 172,\n 'obscures': 173,\n 'manhattan': 174,\n 'discounting': 175,\n 'murdoch': 176,\n 'blabbing': 177,\n 'normally': 178,\n 'repented': 179,\n 'towney': 180,\n 'mclaglen': 181,\n 'unnuanced': 182,\n 'nobudget': 183,\n 'witchmaker': 184,\n 'miserably': 185,\n 'cashier': 186,\n 'wai': 187,\n 'fierceness': 188,\n 'egyptology': 189,\n 'swinton': 190,\n 'gaolers': 191,\n 'shined': 192,\n 'sequenes': 193,\n 'knappertsbusch': 194,\n 'outfit': 195,\n 'rounders': 196,\n 'obsolete': 197,\n 'filmschool': 198,\n 'scurrying': 199,\n 'denigrating': 200,\n 'butts': 201,\n 'damien': 202,\n 'visiteurs': 203,\n 'talespeter': 204,\n 'helo': 205,\n 'cheeken': 206,\n 'thrills': 207,\n 'stupider': 208,\n 'harshness': 209,\n 'philbin': 210,\n 'deolali': 211,\n 'dau': 212,\n 'encorew': 213,\n 'omelette': 214,\n 'kaiso': 215,\n 'chatterjee': 216,\n 'woodrell': 217,\n 'altered': 218,\n 'aunts': 219,\n 'masina': 220,\n 'caravaggio': 221,\n 'shemekia': 222,\n 'epithet': 223,\n 'baaaad': 224,\n 'humiliates': 225,\n 'woar': 226,\n 'budjet': 227,\n 'thanklessly': 228,\n 'urmilla': 229,\n 'veneration': 230,\n 'nunchaku': 231,\n 'holds': 232,\n 'grader': 233,\n 'faux': 234,\n 'loose': 235,\n 'posher': 236,\n 'untapped': 237,\n 'dratic': 238,\n 'nervously': 239,\n 'gallaghers': 240,\n 'connecticute': 241,\n 'blackbelts': 242,\n 'fields': 243,\n 'deathscythe': 244,\n 'moodysson': 245,\n 'glossty': 246,\n 'stiffer': 247,\n 'nuit': 248,\n 'cundy': 249,\n 'beatriz': 250,\n 'bastardized': 251,\n 'stinging': 252,\n 'cliffhanging': 253,\n 'maronna': 254,\n 'need': 255,\n 'boschi': 256,\n 'dunebuggies': 257,\n 'paxson': 258,\n 'tomie': 259,\n 'fye': 260,\n 'hoovervilles': 261,\n 'imitations': 262,\n 'kelso': 263,\n 'laureate': 264,\n 'independently': 265,\n 'crossbeams': 266,\n 'drivel': 267,\n 'campy': 268,\n 'scattergun': 269,\n 'bushranger': 270,\n 'ostrich': 271,\n 'illuminating': 272,\n 'ayutthaya': 273,\n 'prominance': 274,\n 'excellence': 275,\n 'lacing': 276,\n 'aborted': 277,\n 'meaney': 278,\n 'lon': 279,\n 'spirals': 280,\n 'kwouk': 281,\n 'bothered': 282,\n 'unmanipulated': 283,\n 'wandered': 284,\n 'authoring': 285,\n 'choosing': 286,\n 'wastepaper': 287,\n 'accelerator': 288,\n 'fact': 289,\n 'steamboat': 290,\n 'quantas': 291,\n 'morrisey': 292,\n 'collera': 293,\n 'otac': 294,\n 'pink': 295,\n 'binoche': 296,\n 'sexuals': 297,\n 'percy': 298,\n 'exchanging': 299,\n 'womanness': 300,\n 'receieved': 301,\n 'condomine': 302,\n 'field': 303,\n 'career': 304,\n 'ul': 305,\n 'fosse': 306,\n 'gao': 307,\n 'drss': 308,\n 'zechs': 309,\n 'longinidis': 310,\n 'renews': 311,\n 'loaded': 312,\n 'slaying': 313,\n 'stifling': 314,\n 'rasps': 315,\n 'crescendo': 316,\n 'archery': 317,\n 'coaxes': 318,\n 'cor': 319,\n 'awfuwwy': 320,\n 'leighton': 321,\n 'legalization': 322,\n 'duds': 323,\n 'kinetic': 324,\n 'wresting': 325,\n 'cautionary': 326,\n 'sartre': 327,\n 'jarrow': 328,\n 'misforgivings': 329,\n 'vangelis': 330,\n 'hopped': 331,\n 'departs': 332,\n 'mostess': 333,\n 'caldern': 334,\n 'gotta': 335,\n 'trouts': 336,\n 'amir': 337,\n 'moeurs': 338,\n 'bauchau': 339,\n 'rostotsky': 340,\n 'anyhows': 341,\n 'mucci': 342,\n 'katchuck': 343,\n 'guantanamera': 344,\n 'francine': 345,\n 'nabooboo': 346,\n 'branaugh': 347,\n 'fuses': 348,\n 'stackhouse': 349,\n 'pity': 350,\n 'sect': 351,\n 'chalked': 352,\n 'raider': 353,\n 'ernst': 354,\n 'blurr': 355,\n 'cashiered': 356,\n 'irregardless': 357,\n 'lafayette': 358,\n 'eligible': 359,\n 'peruvian': 360,\n 'tropes': 361,\n 'bustiers': 362,\n 'gentility': 363,\n 'prosero': 364,\n 'reunions': 365,\n 'theories': 366,\n 'ruginis': 367,\n 'hesteria': 368,\n 'summary': 369,\n 'lab': 370,\n 'activate': 371,\n 'tallinn': 372,\n 'convoy': 373,\n 'russell': 374,\n 'headaches': 375,\n 'homes': 376,\n 'perla': 377,\n 'projectiles': 378,\n 'scrooge': 379,\n 'tepid': 380,\n 'essandoh': 381,\n 'grauer': 382,\n 'gravitas': 383,\n 'presto': 384,\n 'subliminally': 385,\n 'weeeeeell': 386,\n 'lindenmuth': 387,\n 'rascal': 388,\n 'jodie': 389,\n 'mantra': 390,\n 'cheshire': 391,\n 'absorb': 392,\n 'devastation': 393,\n 'spouse': 394,\n 'somers': 395,\n 'revitalizes': 396,\n 'wack': 397,\n 'arends': 398,\n 'resisting': 399,\n 'comigo': 400,\n 'uhs': 401,\n 'repulse': 402,\n 'tuneful': 403,\n 'propitious': 404,\n 'ishiro': 405,\n 'retold': 406,\n 'stagnant': 407,\n 'splendidly': 408,\n 'zira': 409,\n 'excretion': 410,\n 'relives': 411,\n 'fichtner': 412,\n 'actuelly': 413,\n 'ulster': 414,\n 'houseboat': 415,\n 'routing': 416,\n 'weighted': 417,\n 'bickle': 418,\n 'bllsosopher': 419,\n 'appalingly': 420,\n 'vidocq': 421,\n 'naughtier': 422,\n 'skeletor': 423,\n 'unfettered': 424,\n 'isuh': 425,\n 'wilfred': 426,\n 'vantage': 427,\n 'drizzling': 428,\n 'ides': 429,\n 'schizo': 430,\n 'pawnbroker': 431,\n 'pucci': 432,\n 'software': 433,\n 'imogene': 434,\n 'pshycological': 435,\n 'satisfy': 436,\n 'tortured': 437,\n 'encoded': 438,\n 'diplomas': 439,\n 'xtravaganza': 440,\n 'autocue': 441,\n 'mallika': 442,\n 'defilers': 443,\n 'attribute': 444,\n 'posey': 445,\n 'possessingand': 446,\n 'bonzai': 447,\n 'songbook': 448,\n 'remi': 449,\n 'mias': 450,\n 'mclovins': 451,\n 'serpents': 452,\n 'marketability': 453,\n 'substantive': 454,\n 'scolding': 455,\n 'toyoko': 456,\n 'liswood': 457,\n 'otvio': 458,\n 'drle': 459,\n 'proposing': 460,\n 'anarchistic': 461,\n 'butting': 462,\n 'verucci': 463,\n 'aloft': 464,\n 'rukh': 465,\n 'burgade': 466,\n 'admittingly': 467,\n 'lovin': 468,\n 'talliban': 469,\n 'laupta': 470,\n 'principality': 471,\n 'chats': 472,\n 'mellower': 473,\n 'shaded': 474,\n 'casamajor': 475,\n 'shudder': 476,\n 'automotive': 477,\n 'kosti': 478,\n 'buoy': 479,\n 'piffle': 480,\n 'quinns': 481,\n 'lozano': 482,\n 'decapitations': 483,\n 'lameass': 484,\n 'myddleton': 485,\n 'yorkshire': 486,\n 'belatedly': 487,\n 'praskins': 488,\n 'dearest': 489,\n 'heaped': 490,\n 'psychopathia': 491,\n 'spierlberg': 492,\n 'dahlink': 493,\n 'nother': 494,\n 'unaffected': 495,\n 'mehemet': 496,\n 'hugely': 497,\n 'fillmmaker': 498,\n 'silencer': 499,\n 'fathering': 500,\n 'kyles': 501,\n 'coherrent': 502,\n 'delineating': 503,\n 'deflate': 504,\n 'guffawed': 505,\n 'perez': 506,\n 'emulated': 507,\n 'grocer': 508,\n 'tearfully': 509,\n 'unnecessity': 510,\n 'watling': 511,\n 'tweedle': 512,\n 'authoritatively': 513,\n 'critter': 514,\n 'mutates': 515,\n 'absurdly': 516,\n 'yobs': 517,\n 'posttraumatic': 518,\n 'grappler': 519,\n 'nappy': 520,\n 'lapels': 521,\n 'dismantle': 522,\n 'scamper': 523,\n 'delamere': 524,\n 'syafie': 525,\n 'accord': 526,\n 'subscribers': 527,\n 'quirkiest': 528,\n 'milquetoast': 529,\n 'schrieber': 530,\n 'clyde': 531,\n 'vietcong': 532,\n 'discrepancy': 533,\n 'zimmerframe': 534,\n 'realityshowlike': 535,\n 'howlers': 536,\n 'overplays': 537,\n 'tinted': 538,\n 'reeeaally': 539,\n 'sailplane': 540,\n 'leaguers': 541,\n 'soporific': 542,\n 'cheapens': 543,\n 'woooooo': 544,\n 'archipelago': 545,\n 'alexandra': 546,\n 'overheating': 547,\n 'drugged': 548,\n 'preformance': 549,\n 'shostakovich': 550,\n 'stalkings': 551,\n 'lorean': 552,\n 'deprive': 553,\n 'leith': 554,\n 'grasshopper': 555,\n 'abodes': 556,\n 'emerald': 557,\n 'cubitt': 558,\n 'symposium': 559,\n 'biochemistry': 560,\n 'supes': 561,\n 'mdogg': 562,\n 'dimaggio': 563,\n 'sustained': 564,\n 'pheebs': 565,\n 'characterized': 566,\n 'saintly': 567,\n 'unglued': 568,\n 'cetnik': 569,\n 'imprints': 570,\n 'kittredge': 571,\n 'papich': 572,\n 'chestburster': 573,\n 'jcvd': 574,\n 'gordy': 575,\n 'takei': 576,\n 'towne': 577,\n 'sock': 578,\n 'ooooooh': 579,\n 'logician': 580,\n 'tongued': 581,\n 'hoodlums': 582,\n 'voil': 583,\n 'reflected': 584,\n 'femur': 585,\n 'passworthys': 586,\n 'toonami': 587,\n 'gapers': 588,\n 'brother': 589,\n 'hybrids': 590,\n 'sorte': 591,\n 'square': 592,\n 'lucrative': 593,\n 'mommie': 594,\n 'angeletti': 595,\n 'inhumanity': 596,\n 'foreseen': 597,\n 'nastiness': 598,\n 'objection': 599,\n 'awaythere': 600,\n 'businesspeople': 601,\n 'soweto': 602,\n 'shud': 603,\n 'craven': 604,\n 'halperin': 605,\n 'fozzie': 606,\n 'dismiss': 607,\n 'keyword': 608,\n 'discontinuous': 609,\n 'arawak': 610,\n 'adobe': 611,\n 'addy': 612,\n 'kuriyama': 613,\n 'waynes': 614,\n 'misleading': 615,\n 'barking': 616,\n 'chevette': 617,\n 'castlevania': 618,\n 'timberflake': 619,\n 'anomalies': 620,\n 'rope': 621,\n 'chunky': 622,\n 'spats': 623,\n 'breakin': 624,\n 'sanitorium': 625,\n 'undertaste': 626,\n 'geyrhalter': 627,\n 'stratagem': 628,\n 'gesticulates': 629,\n 'gesturing': 630,\n 'litel': 631,\n 'evidenced': 632,\n 'toshiro': 633,\n 'zyuranger': 634,\n 'flatlands': 635,\n 'sediments': 636,\n 'incredulities': 637,\n 'pumps': 638,\n 'imaginary': 639,\n 'voss': 640,\n 'toola': 641,\n 'trades': 642,\n 'proclaiming': 643,\n 'dreimaderlhaus': 644,\n 'feinberg': 645,\n 'tudyk': 646,\n 'minna': 647,\n 'ramundo': 648,\n 'earthbound': 649,\n 'entitles': 650,\n 'restraining': 651,\n 'mastan': 652,\n 'respectfully': 653,\n 'gabe': 654,\n 'forrester': 655,\n 'intrude': 656,\n 'haldeman': 657,\n 'narcotic': 658,\n 'scaring': 659,\n 'goku': 660,\n 'flashdance': 661,\n 'knoks': 662,\n 'arrestingly': 663,\n 'rhino': 664,\n 'ethiopian': 665,\n 'recedes': 666,\n 'lorri': 667,\n 'giornate': 668,\n 'pyare': 669,\n 'rassendyll': 670,\n 'quantrill': 671,\n 'primeival': 672,\n 'denigrates': 673,\n 'schedual': 674,\n 'devine': 675,\n 'ilene': 676,\n 'predicted': 677,\n 'unclassifiable': 678,\n 'hgtv': 679,\n 'clausen': 680,\n 'architect': 681,\n 'tactically': 682,\n 'affaire': 683,\n 'reappropriated': 684,\n 'deferent': 685,\n 'carmella': 686,\n 'roguish': 687,\n 'moliere': 688,\n 'raring': 689,\n 'jean': 690,\n 'savaging': 691,\n 'ahet': 692,\n 'sweary': 693,\n 'fetes': 694,\n 'closely': 695,\n 'fascination': 696,\n 'incompetently': 697,\n 'ungainly': 698,\n 'tuous': 699,\n 'werewold': 700,\n 'restarted': 701,\n 'yielding': 702,\n 'acosta': 703,\n 'payoffs': 704,\n 'manila': 705,\n 'ensured': 706,\n 'eu': 707,\n 'braveness': 708,\n 'californians': 709,\n 'moldering': 710,\n 'agonia': 711,\n 'bim': 712,\n 'popcorncoke': 713,\n 'enquiry': 714,\n 'circulating': 715,\n 'daman': 716,\n 'ranvijay': 717,\n 'argenziano': 718,\n 'richert': 719,\n 'kleban': 720,\n 'hylands': 721,\n 'thwarted': 722,\n 'movie': 723,\n 'mayble': 724,\n 'derringer': 725,\n 'twasn': 726,\n 'salmans': 727,\n 'ashes': 728,\n 'unkwown': 729,\n 'coutard': 730,\n 'wla': 731,\n 'klowns': 732,\n 'trashman': 733,\n 'mccord': 734,\n 'responsive': 735,\n 'unironic': 736,\n 'gorgous': 737,\n 'filmed': 738,\n 'binding': 739,\n 'strategy': 740,\n 'vancleef': 741,\n 'seem': 742,\n 'doer': 743,\n 'palomar': 744,\n 'interprets': 745,\n 'soil': 746,\n 'ethnic': 747,\n 'fleetingly': 748,\n 'paleface': 749,\n 'mowbrays': 750,\n 'hiphop': 751,\n 'wodehousian': 752,\n 'hams': 753,\n 'suspects': 754,\n 'flavors': 755,\n 'rapprochement': 756,\n 'girotti': 757,\n 'robben': 758,\n 'maids': 759,\n 'bakelite': 760,\n 'crasser': 761,\n 'bitterness': 762,\n 'bureaucrats': 763,\n 'videowork': 764,\n 'outstandingly': 765,\n 'visit': 766,\n 'rinsing': 767,\n 'concede': 768,\n 'stevenson': 769,\n 'contacted': 770,\n 'aardman': 771,\n 'saddles': 772,\n 'gorillas': 773,\n 'wertmueller': 774,\n 'exceed': 775,\n 'confessing': 776,\n 'gunner': 777,\n 'undertow': 778,\n 'sparky': 779,\n 'faridany': 780,\n 'bafta': 781,\n 'habousch': 782,\n 'tester': 783,\n 'shippe': 784,\n 'southampton': 785,\n 'forcing': 786,\n 'actioned': 787,\n 'outline': 788,\n 'guyland': 789,\n 'needham': 790,\n 'relapses': 791,\n 'changed': 792,\n 'turaqui': 793,\n 'move': 794,\n 'chime': 795,\n 'glutton': 796,\n 'resoundingly': 797,\n 'digestive': 798,\n 'dosent': 799,\n 'astrotheology': 800,\n 'blas': 801,\n 'nelson': 802,\n 'satisfaction': 803,\n 'imperative': 804,\n 'farmworker': 805,\n 'owens': 806,\n 'unabsorbing': 807,\n 'caratherisic': 808,\n 'arouse': 809,\n 'broom': 810,\n 'mingozzi': 811,\n 'wrenching': 812,\n 'quizzically': 813,\n 'scenarist': 814,\n 'unsubstantial': 815,\n 'travestite': 816,\n 'perms': 817,\n 'merkel': 818,\n 'dreamer': 819,\n 'dirs': 820,\n 'babtise': 821,\n 'ancillary': 822,\n 'toolbox': 823,\n 'unneccesary': 824,\n 'pide': 825,\n 'comparisons': 826,\n 'rockc': 827,\n 'korie': 828,\n 'voodoo': 829,\n 'marquand': 830,\n 'sharkish': 831,\n 'color': 832,\n 'miniguns': 833,\n 'seminar': 834,\n 'parenting': 835,\n 'cornell': 836,\n 'eternity': 837,\n 'diabolism': 838,\n 'blondes': 839,\n 'repertory': 840,\n 'mountaineering': 841,\n 'wareham': 842,\n 'individuated': 843,\n 'towards': 844,\n 'diry': 845,\n 'tommorow': 846,\n 'lumberjack': 847,\n 'buxom': 848,\n 'wes': 849,\n 'mufasa': 850,\n 'undoubtably': 851,\n 'reputed': 852,\n 'suevia': 853,\n 'incomparably': 854,\n 'tak': 855,\n 'prosperity': 856,\n 'porcasi': 857,\n 'bruges': 858,\n 'unisol': 859,\n 'satanised': 860,\n 'uniformly': 861,\n 'rituals': 862,\n 'bohemia': 863,\n 'pennant': 864,\n 'overexposure': 865,\n 'forthegill': 866,\n 'patti': 867,\n 'chihuahuawoman': 868,\n 'accumulator': 869,\n 'showeman': 870,\n 'foulata': 871,\n 'aloy': 872,\n 'trick': 873,\n 'vicki': 874,\n 'barrage': 875,\n 'djinn': 876,\n 'deriving': 877,\n 'calculations': 878,\n 'denison': 879,\n 'reconsiders': 880,\n 'retinas': 881,\n 'ditech': 882,\n 'fenech': 883,\n 'farmzoid': 884,\n 'constrained': 885,\n 'pantoliano': 886,\n 'peeking': 887,\n 'timberlake': 888,\n 'parlor': 889,\n 'frankenscience': 890,\n 'tonka': 891,\n 'reiterates': 892,\n 'miraglia': 893,\n 'monters': 894,\n 'milligans': 895,\n 'swastikas': 896,\n 'forty': 897,\n 'souffle': 898,\n 'strenuous': 899,\n 'bonecrushing': 900,\n 'restarting': 901,\n 'positively': 902,\n 'perpetrating': 903,\n 'worshippers': 904,\n 'onofrio': 905,\n 'tribbles': 906,\n 'refractive': 907,\n 'fidani': 908,\n 'kagemusha': 909,\n 'moog': 910,\n 'calves': 911,\n 'risqu': 912,\n 'captioning': 913,\n 'verveen': 914,\n 'spoofing': 915,\n 'goad': 916,\n 'synths': 917,\n 'recapturing': 918,\n 'scientologists': 919,\n 'shashi': 920,\n 'plumbed': 921,\n 'microbes': 922,\n 'jus': 923,\n 'fleer': 924,\n 'schofield': 925,\n 'tressa': 926,\n 'grammies': 927,\n 'doc': 928,\n 'fondly': 929,\n 'ronnie': 930,\n 'marcus': 931,\n 'enunciation': 932,\n 'descendents': 933,\n 'acquiescence': 934,\n 'fargas': 935,\n 'kind': 936,\n 'salivating': 937,\n 'inflected': 938,\n 'partners': 939,\n 'trish': 940,\n 'mantels': 941,\n 'kiedis': 942,\n 'skullcap': 943,\n 'zatichi': 944,\n 'melting': 945,\n 'sunning': 946,\n 'fatherland': 947,\n 'profound': 948,\n 'pff': 949,\n 'underclothes': 950,\n 'tobacconist': 951,\n 'crimefilm': 952,\n 'erie': 953,\n 'autographs': 954,\n 'galbo': 955,\n 'wallach': 956,\n 'calorie': 957,\n 'rookies': 958,\n 'slavishly': 959,\n 'ipecac': 960,\n 'petit': 961,\n 'pressured': 962,\n 'educator': 963,\n 'scorn': 964,\n 'backus': 965,\n 'doubt': 966,\n 'mutinous': 967,\n 'notably': 968,\n 'gravest': 969,\n 'makeups': 970,\n 'gardner': 971,\n 'zasu': 972,\n 'cameras': 973,\n 'unprotected': 974,\n 'hacen': 975,\n 'bletchly': 976,\n 'standish': 977,\n 'rasuk': 978,\n 'prosaic': 979,\n 'gimme': 980,\n 'impunity': 981,\n 'buckheimer': 982,\n 'kisi': 983,\n 'labeled': 984,\n 'foe': 985,\n 'lobo': 986,\n 'unexperienced': 987,\n 'mathews': 988,\n 'basset': 989,\n 'rallies': 990,\n 'arthurs': 991,\n 'gangland': 992,\n 'ferrell': 993,\n 'worriedly': 994,\n 'correctness': 995,\n 'terminate': 996,\n 'googl': 997,\n 'pray': 998,\n 'prisoner': 999,\n ...}"
     },
     "execution_count": 20,
     "metadata": {},
     "output_type": "execute_result"
    }
   ],
   "source": [
    "word2index = {}\n",
    "\n",
    "for i,word in enumerate(vocab):\n",
    "    word2index[word] = i\n",
    "word2index"
   ]
  },
  {
   "cell_type": "code",
   "execution_count": 21,
   "metadata": {
    "collapsed": true
   },
   "outputs": [],
   "source": [
    "def update_input_layer(review):\n",
    "    \n",
    "    global layer_0\n",
    "    \n",
    "    # clear out previous state, reset the layer to be all 0s\n",
    "    layer_0 *= 0\n",
    "    for word in review.split(\" \"):\n",
    "        layer_0[0][word2index[word]] += 1\n",
    "\n",
    "update_input_layer(reviews[0])"
   ]
  },
  {
   "cell_type": "code",
   "execution_count": 22,
   "metadata": {
    "collapsed": false
   },
   "outputs": [
    {
     "data": {
      "text/plain": "array([[18.,  0.,  0., ...,  0.,  0.,  0.]])"
     },
     "execution_count": 22,
     "metadata": {},
     "output_type": "execute_result"
    }
   ],
   "source": [
    "layer_0"
   ]
  },
  {
   "cell_type": "code",
   "execution_count": 23,
   "metadata": {
    "collapsed": true
   },
   "outputs": [],
   "source": [
    "def get_target_for_label(label):\n",
    "    if(label == 'POSITIVE'):\n",
    "        return 1\n",
    "    else:\n",
    "        return 0"
   ]
  },
  {
   "cell_type": "code",
   "execution_count": 24,
   "metadata": {
    "collapsed": false
   },
   "outputs": [
    {
     "data": {
      "text/plain": "'POSITIVE'"
     },
     "execution_count": 24,
     "metadata": {},
     "output_type": "execute_result"
    }
   ],
   "source": [
    "labels[0]"
   ]
  },
  {
   "cell_type": "code",
   "execution_count": 25,
   "metadata": {
    "collapsed": false
   },
   "outputs": [
    {
     "data": {
      "text/plain": "1"
     },
     "execution_count": 25,
     "metadata": {},
     "output_type": "execute_result"
    }
   ],
   "source": [
    "get_target_for_label(labels[0])"
   ]
  },
  {
   "cell_type": "code",
   "execution_count": 26,
   "metadata": {
    "collapsed": false
   },
   "outputs": [
    {
     "data": {
      "text/plain": "'NEGATIVE'"
     },
     "execution_count": 26,
     "metadata": {},
     "output_type": "execute_result"
    }
   ],
   "source": [
    "labels[1]"
   ]
  },
  {
   "cell_type": "code",
   "execution_count": 27,
   "metadata": {
    "collapsed": false
   },
   "outputs": [
    {
     "data": {
      "text/plain": "0"
     },
     "execution_count": 27,
     "metadata": {},
     "output_type": "execute_result"
    }
   ],
   "source": [
    "get_target_for_label(labels[1])"
   ]
  },
  {
   "cell_type": "markdown",
   "metadata": {},
   "source": [
    "# Project 3: Building a Neural Network"
   ]
  },
  {
   "cell_type": "markdown",
   "metadata": {
    "collapsed": true
   },
   "source": [
    "- Start with your neural network from the last chapter\n",
    "- 3 layer neural network\n",
    "- no non-linearity in hidden layer\n",
    "- use our functions to create the training data\n",
    "- create a \"pre_process_data\" function to create vocabulary for our training data generating functions\n",
    "- modify \"train\" to train over the entire corpus"
   ]
  },
  {
   "cell_type": "markdown",
   "metadata": {},
   "source": [
    "### Where to Get Help if You Need it\n",
    "- Re-watch previous week's Udacity Lectures\n",
    "- Chapters 3-5 - [Grokking Deep Learning](https://www.manning.com/books/grokking-deep-learning) - (40% Off: **traskud17**)"
   ]
  },
  {
   "cell_type": "code",
   "execution_count": 28,
   "metadata": {
    "collapsed": true
   },
   "outputs": [],
   "source": [
    "import time\n",
    "import sys\n",
    "import numpy as np\n",
    "\n",
    "# Let's tweak our network from before to model these phenomena\n",
    "class SentimentNetwork:\n",
    "    def __init__(self, reviews,labels,hidden_nodes = 10, learning_rate = 0.1):\n",
    "       \n",
    "        # set our random number generator \n",
    "        np.random.seed(1)\n",
    "    \n",
    "        self.pre_process_data(reviews, labels)\n",
    "        \n",
    "        self.init_network(len(self.review_vocab),hidden_nodes, 1, learning_rate)\n",
    "        \n",
    "        \n",
    "    def pre_process_data(self, reviews, labels):\n",
    "        \n",
    "        review_vocab = set()\n",
    "        for review in reviews:\n",
    "            for word in review.split(\" \"):\n",
    "                review_vocab.add(word)\n",
    "        self.review_vocab = list(review_vocab)\n",
    "        \n",
    "        label_vocab = set()\n",
    "        for label in labels:\n",
    "            label_vocab.add(label)\n",
    "        \n",
    "        self.label_vocab = list(label_vocab)\n",
    "        \n",
    "        self.review_vocab_size = len(self.review_vocab)\n",
    "        self.label_vocab_size = len(self.label_vocab)\n",
    "        \n",
    "        self.word2index = {}\n",
    "        for i, word in enumerate(self.review_vocab):\n",
    "            self.word2index[word] = i\n",
    "        \n",
    "        self.label2index = {}\n",
    "        for i, label in enumerate(self.label_vocab):\n",
    "            self.label2index[label] = i\n",
    "         \n",
    "        \n",
    "    def init_network(self, input_nodes, hidden_nodes, output_nodes, learning_rate):\n",
    "        # Set number of nodes in input, hidden and output layers.\n",
    "        self.input_nodes = input_nodes\n",
    "        self.hidden_nodes = hidden_nodes\n",
    "        self.output_nodes = output_nodes\n",
    "\n",
    "        # Initialize weights\n",
    "        self.weights_0_1 = np.zeros((self.input_nodes,self.hidden_nodes))\n",
    "    \n",
    "        self.weights_1_2 = np.random.normal(0.0, self.output_nodes**-0.5, \n",
    "                                                (self.hidden_nodes, self.output_nodes))\n",
    "        \n",
    "        self.learning_rate = learning_rate\n",
    "        \n",
    "        self.layer_0 = np.zeros((1,input_nodes))\n",
    "    \n",
    "        \n",
    "    def update_input_layer(self,review):\n",
    "\n",
    "        # clear out previous state, reset the layer to be all 0s\n",
    "        self.layer_0 *= 0\n",
    "        for word in review.split(\" \"):\n",
    "            if(word in self.word2index.keys()):\n",
    "                self.layer_0[0][self.word2index[word]] += 1\n",
    "                \n",
    "    def get_target_for_label(self,label):\n",
    "        if(label == 'POSITIVE'):\n",
    "            return 1\n",
    "        else:\n",
    "            return 0\n",
    "        \n",
    "    def sigmoid(self,x):\n",
    "        return 1 / (1 + np.exp(-x))\n",
    "    \n",
    "    \n",
    "    def sigmoid_output_2_derivative(self,output):\n",
    "        return output * (1 - output)\n",
    "    \n",
    "    def train(self, training_reviews, training_labels):\n",
    "        \n",
    "        assert(len(training_reviews) == len(training_labels))\n",
    "        \n",
    "        correct_so_far = 0\n",
    "        \n",
    "        start = time.time()\n",
    "        \n",
    "        for i in range(len(training_reviews)):\n",
    "            \n",
    "            review = training_reviews[i]\n",
    "            label = training_labels[i]\n",
    "            \n",
    "            #### Implement the forward pass here ####\n",
    "            ### Forward pass ###\n",
    "\n",
    "            # Input Layer\n",
    "            self.update_input_layer(review)\n",
    "\n",
    "            # Hidden layer\n",
    "            layer_1 = self.layer_0.dot(self.weights_0_1)\n",
    "\n",
    "            # Output layer\n",
    "            layer_2 = self.sigmoid(layer_1.dot(self.weights_1_2))\n",
    "\n",
    "            #### Implement the backward pass here ####\n",
    "            ### Backward pass ###\n",
    "\n",
    "            # TODO: Output error\n",
    "            layer_2_error = layer_2 - self.get_target_for_label(label) # Output layer error is the difference between desired target and actual output.\n",
    "            layer_2_delta = layer_2_error * self.sigmoid_output_2_derivative(layer_2)\n",
    "\n",
    "            # TODO: Backpropagated error\n",
    "            layer_1_error = layer_2_delta.dot(self.weights_1_2.T) # errors propagated to the hidden layer\n",
    "            layer_1_delta = layer_1_error # hidden layer gradients - no nonlinearity so it's the same as the error\n",
    "\n",
    "            # TODO: Update the weights\n",
    "            self.weights_1_2 -= layer_1.T.dot(layer_2_delta) * self.learning_rate # update hidden-to-output weights with gradient descent step\n",
    "            self.weights_0_1 -= self.layer_0.T.dot(layer_1_delta) * self.learning_rate # update input-to-hidden weights with gradient descent step\n",
    "\n",
    "            if(np.abs(layer_2_error) < 0.5):\n",
    "                correct_so_far += 1\n",
    "            \n",
    "            reviews_per_second = i / float(time.time() - start)\n",
    "            \n",
    "            sys.stdout.write(\"\\rProgress:\" + str(100 * i/float(len(training_reviews)))[:4] + \"% Speed(reviews/sec):\" + str(reviews_per_second)[0:5] + \" #Correct:\" + str(correct_so_far) + \" #Trained:\" + str(i+1) + \" Training Accuracy:\" + str(correct_so_far * 100 / float(i+1))[:4] + \"%\")\n",
    "            if(i % 2500 == 0):\n",
    "                print(\"\")\n",
    "    \n",
    "    def test(self, testing_reviews, testing_labels):\n",
    "        \n",
    "        correct = 0\n",
    "        \n",
    "        start = time.time()\n",
    "        \n",
    "        for i in range(len(testing_reviews)):\n",
    "            pred = self.run(testing_reviews[i])\n",
    "            if(pred == testing_labels[i]):\n",
    "                correct += 1\n",
    "            \n",
    "            reviews_per_second = i / float(time.time() - start)\n",
    "            \n",
    "            sys.stdout.write(\"\\rProgress:\" + str(100 * i/float(len(testing_reviews)))[:4] \\\n",
    "                             + \"% Speed(reviews/sec):\" + str(reviews_per_second)[0:5] \\\n",
    "                            + \"% #Correct:\" + str(correct) + \" #Tested:\" + str(i+1) + \" Testing Accuracy:\" + str(correct * 100 / float(i+1))[:4] + \"%\")\n",
    "    \n",
    "    def run(self, review):\n",
    "        \n",
    "        # Input Layer\n",
    "        self.update_input_layer(review.lower())\n",
    "\n",
    "        # Hidden layer\n",
    "        layer_1 = self.layer_0.dot(self.weights_0_1)\n",
    "\n",
    "        # Output layer\n",
    "        layer_2 = self.sigmoid(layer_1.dot(self.weights_1_2))\n",
    "        \n",
    "        if(layer_2[0] > 0.5):\n",
    "            return \"POSITIVE\"\n",
    "        else:\n",
    "            return \"NEGATIVE\"\n",
    "        "
   ]
  },
  {
   "cell_type": "code",
   "execution_count": 29,
   "metadata": {
    "collapsed": true
   },
   "outputs": [],
   "source": [
    "mlp = SentimentNetwork(reviews[:-1000],labels[:-1000], learning_rate=0.1)"
   ]
  },
  {
   "cell_type": "code",
   "execution_count": 30,
   "metadata": {
    "collapsed": false
   },
   "outputs": [
    {
     "name": "stdout",
     "output_type": "stream",
     "text": [
      "Progress:99.9% Speed(reviews/sec):1750.% #Correct:500 #Tested:1000 Testing Accuracy:50.0%"
     ]
    }
   ],
   "source": [
    "# evaluate our model before training (just to show how horrible it is)\n",
    "mlp.test(reviews[-1000:],labels[-1000:])"
   ]
  },
  {
   "cell_type": "code",
   "execution_count": 31,
   "metadata": {
    "collapsed": false
   },
   "outputs": [
    {
     "name": "stdout",
     "output_type": "stream",
     "text": [
      "Progress:0.0% Speed(reviews/sec):0.0 #Correct:0 #Trained:1 Training Accuracy:0.0%\n",
      "Progress:10.4% Speed(reviews/sec):226.4 #Correct:1250 #Trained:2501 Training Accuracy:49.9%\n",
      "Progress:20.8% Speed(reviews/sec):224.4 #Correct:2500 #Trained:5001 Training Accuracy:49.9%\n",
      "Progress:31.2% Speed(reviews/sec):224.1 #Correct:3750 #Trained:7501 Training Accuracy:49.9%\n",
      "Progress:41.6% Speed(reviews/sec):224.4 #Correct:5000 #Trained:10001 Training Accuracy:49.9%\n",
      "Progress:52.0% Speed(reviews/sec):222.8 #Correct:6250 #Trained:12501 Training Accuracy:49.9%\n",
      "Progress:62.5% Speed(reviews/sec):212.1 #Correct:7500 #Trained:15001 Training Accuracy:49.9%\n",
      "Progress:67.0% Speed(reviews/sec):207.1 #Correct:8043 #Trained:16087 Training Accuracy:49.9%"
     ]
    },
    {
     "ename": "KeyboardInterrupt",
     "evalue": "",
     "output_type": "error",
     "traceback": [
      "\u001B[1;31m---------------------------------------------------------------------------\u001B[0m",
      "\u001B[1;31mKeyboardInterrupt\u001B[0m                         Traceback (most recent call last)",
      "\u001B[1;32m~\\AppData\\Local\\Temp/ipykernel_2244/2525289002.py\u001B[0m in \u001B[0;36m<module>\u001B[1;34m\u001B[0m\n\u001B[0;32m      1\u001B[0m \u001B[1;31m# train the network\u001B[0m\u001B[1;33m\u001B[0m\u001B[1;33m\u001B[0m\u001B[1;33m\u001B[0m\u001B[0m\n\u001B[1;32m----> 2\u001B[1;33m \u001B[0mmlp\u001B[0m\u001B[1;33m.\u001B[0m\u001B[0mtrain\u001B[0m\u001B[1;33m(\u001B[0m\u001B[0mreviews\u001B[0m\u001B[1;33m[\u001B[0m\u001B[1;33m:\u001B[0m\u001B[1;33m-\u001B[0m\u001B[1;36m1000\u001B[0m\u001B[1;33m]\u001B[0m\u001B[1;33m,\u001B[0m\u001B[0mlabels\u001B[0m\u001B[1;33m[\u001B[0m\u001B[1;33m:\u001B[0m\u001B[1;33m-\u001B[0m\u001B[1;36m1000\u001B[0m\u001B[1;33m]\u001B[0m\u001B[1;33m)\u001B[0m\u001B[1;33m\u001B[0m\u001B[1;33m\u001B[0m\u001B[0m\n\u001B[0m",
      "\u001B[1;32m~\\AppData\\Local\\Temp/ipykernel_2244/2220787701.py\u001B[0m in \u001B[0;36mtrain\u001B[1;34m(self, training_reviews, training_labels)\u001B[0m\n\u001B[0;32m    117\u001B[0m             \u001B[1;31m# TODO: Update the weights\u001B[0m\u001B[1;33m\u001B[0m\u001B[1;33m\u001B[0m\u001B[1;33m\u001B[0m\u001B[0m\n\u001B[0;32m    118\u001B[0m             \u001B[0mself\u001B[0m\u001B[1;33m.\u001B[0m\u001B[0mweights_1_2\u001B[0m \u001B[1;33m-=\u001B[0m \u001B[0mlayer_1\u001B[0m\u001B[1;33m.\u001B[0m\u001B[0mT\u001B[0m\u001B[1;33m.\u001B[0m\u001B[0mdot\u001B[0m\u001B[1;33m(\u001B[0m\u001B[0mlayer_2_delta\u001B[0m\u001B[1;33m)\u001B[0m \u001B[1;33m*\u001B[0m \u001B[0mself\u001B[0m\u001B[1;33m.\u001B[0m\u001B[0mlearning_rate\u001B[0m \u001B[1;31m# update hidden-to-output weights with gradient descent step\u001B[0m\u001B[1;33m\u001B[0m\u001B[1;33m\u001B[0m\u001B[0m\n\u001B[1;32m--> 119\u001B[1;33m             \u001B[0mself\u001B[0m\u001B[1;33m.\u001B[0m\u001B[0mweights_0_1\u001B[0m \u001B[1;33m-=\u001B[0m \u001B[0mself\u001B[0m\u001B[1;33m.\u001B[0m\u001B[0mlayer_0\u001B[0m\u001B[1;33m.\u001B[0m\u001B[0mT\u001B[0m\u001B[1;33m.\u001B[0m\u001B[0mdot\u001B[0m\u001B[1;33m(\u001B[0m\u001B[0mlayer_1_delta\u001B[0m\u001B[1;33m)\u001B[0m \u001B[1;33m*\u001B[0m \u001B[0mself\u001B[0m\u001B[1;33m.\u001B[0m\u001B[0mlearning_rate\u001B[0m \u001B[1;31m# update input-to-hidden weights with gradient descent step\u001B[0m\u001B[1;33m\u001B[0m\u001B[1;33m\u001B[0m\u001B[0m\n\u001B[0m\u001B[0;32m    120\u001B[0m \u001B[1;33m\u001B[0m\u001B[0m\n\u001B[0;32m    121\u001B[0m             \u001B[1;32mif\u001B[0m\u001B[1;33m(\u001B[0m\u001B[0mnp\u001B[0m\u001B[1;33m.\u001B[0m\u001B[0mabs\u001B[0m\u001B[1;33m(\u001B[0m\u001B[0mlayer_2_error\u001B[0m\u001B[1;33m)\u001B[0m \u001B[1;33m<\u001B[0m \u001B[1;36m0.5\u001B[0m\u001B[1;33m)\u001B[0m\u001B[1;33m:\u001B[0m\u001B[1;33m\u001B[0m\u001B[1;33m\u001B[0m\u001B[0m\n",
      "\u001B[1;31mKeyboardInterrupt\u001B[0m: "
     ]
    }
   ],
   "source": [
    "# train the network\n",
    "mlp.train(reviews[:-1000],labels[:-1000])"
   ]
  },
  {
   "cell_type": "code",
   "execution_count": null,
   "metadata": {
    "collapsed": true
   },
   "outputs": [],
   "source": [
    "mlp = SentimentNetwork(reviews[:-1000],labels[:-1000], learning_rate=0.01)"
   ]
  },
  {
   "cell_type": "code",
   "execution_count": null,
   "metadata": {
    "collapsed": false
   },
   "outputs": [],
   "source": [
    "# train the network\n",
    "mlp.train(reviews[:-1000],labels[:-1000])"
   ]
  },
  {
   "cell_type": "code",
   "execution_count": null,
   "metadata": {
    "collapsed": true
   },
   "outputs": [],
   "source": [
    "mlp = SentimentNetwork(reviews[:-1000],labels[:-1000], learning_rate=0.001)"
   ]
  },
  {
   "cell_type": "code",
   "execution_count": null,
   "metadata": {
    "collapsed": false
   },
   "outputs": [],
   "source": [
    "# train the network\n",
    "mlp.train(reviews[:-1000],labels[:-1000])"
   ]
  },
  {
   "cell_type": "markdown",
   "metadata": {},
   "source": [
    "# Understanding Neural Noise"
   ]
  },
  {
   "cell_type": "code",
   "execution_count": null,
   "metadata": {
    "collapsed": false
   },
   "outputs": [],
   "source": [
    "from IPython.display import Image\n",
    "Image(filename='sentiment_network.png')"
   ]
  },
  {
   "cell_type": "code",
   "execution_count": null,
   "metadata": {
    "collapsed": true
   },
   "outputs": [],
   "source": [
    "def update_input_layer(review):\n",
    "    \n",
    "    global layer_0\n",
    "    \n",
    "    # clear out previous state, reset the layer to be all 0s\n",
    "    layer_0 *= 0\n",
    "    for word in review.split(\" \"):\n",
    "        layer_0[0][word2index[word]] += 1\n",
    "\n",
    "update_input_layer(reviews[0])"
   ]
  },
  {
   "cell_type": "code",
   "execution_count": null,
   "metadata": {
    "collapsed": false
   },
   "outputs": [],
   "source": [
    "layer_0"
   ]
  },
  {
   "cell_type": "code",
   "execution_count": null,
   "metadata": {
    "collapsed": true
   },
   "outputs": [],
   "source": [
    "review_counter = Counter()"
   ]
  },
  {
   "cell_type": "code",
   "execution_count": null,
   "metadata": {
    "collapsed": true
   },
   "outputs": [],
   "source": [
    "for word in reviews[0].split(\" \"):\n",
    "    review_counter[word] += 1"
   ]
  },
  {
   "cell_type": "code",
   "execution_count": null,
   "metadata": {
    "collapsed": false,
    "scrolled": true
   },
   "outputs": [],
   "source": [
    "review_counter.most_common()"
   ]
  },
  {
   "cell_type": "markdown",
   "metadata": {},
   "source": [
    "# Project 4: Reducing Noise in our Input Data"
   ]
  },
  {
   "cell_type": "code",
   "execution_count": null,
   "metadata": {
    "collapsed": true
   },
   "outputs": [],
   "source": [
    "import time\n",
    "import sys\n",
    "import numpy as np\n",
    "\n",
    "# Let's tweak our network from before to model these phenomena\n",
    "class SentimentNetwork:\n",
    "    def __init__(self, reviews,labels,hidden_nodes = 10, learning_rate = 0.1):\n",
    "       \n",
    "        # set our random number generator \n",
    "        np.random.seed(1)\n",
    "    \n",
    "        self.pre_process_data(reviews, labels)\n",
    "        \n",
    "        self.init_network(len(self.review_vocab),hidden_nodes, 1, learning_rate)\n",
    "        \n",
    "        \n",
    "    def pre_process_data(self, reviews, labels):\n",
    "        \n",
    "        review_vocab = set()\n",
    "        for review in reviews:\n",
    "            for word in review.split(\" \"):\n",
    "                review_vocab.add(word)\n",
    "        self.review_vocab = list(review_vocab)\n",
    "        \n",
    "        label_vocab = set()\n",
    "        for label in labels:\n",
    "            label_vocab.add(label)\n",
    "        \n",
    "        self.label_vocab = list(label_vocab)\n",
    "        \n",
    "        self.review_vocab_size = len(self.review_vocab)\n",
    "        self.label_vocab_size = len(self.label_vocab)\n",
    "        \n",
    "        self.word2index = {}\n",
    "        for i, word in enumerate(self.review_vocab):\n",
    "            self.word2index[word] = i\n",
    "        \n",
    "        self.label2index = {}\n",
    "        for i, label in enumerate(self.label_vocab):\n",
    "            self.label2index[label] = i\n",
    "         \n",
    "        \n",
    "    def init_network(self, input_nodes, hidden_nodes, output_nodes, learning_rate):\n",
    "        # Set number of nodes in input, hidden and output layers.\n",
    "        self.input_nodes = input_nodes\n",
    "        self.hidden_nodes = hidden_nodes\n",
    "        self.output_nodes = output_nodes\n",
    "\n",
    "        # Initialize weights\n",
    "        self.weights_0_1 = np.zeros((self.input_nodes,self.hidden_nodes))\n",
    "    \n",
    "        self.weights_1_2 = np.random.normal(0.0, self.output_nodes**-0.5, \n",
    "                                                (self.hidden_nodes, self.output_nodes))\n",
    "        \n",
    "        self.learning_rate = learning_rate\n",
    "        \n",
    "        self.layer_0 = np.zeros((1,input_nodes))\n",
    "    \n",
    "        \n",
    "    def update_input_layer(self,review):\n",
    "\n",
    "        # clear out previous state, reset the layer to be all 0s\n",
    "        self.layer_0 *= 0\n",
    "        for word in review.split(\" \"):\n",
    "            if(word in self.word2index.keys()):\n",
    "                self.layer_0[0][self.word2index[word]] = 1\n",
    "                \n",
    "    def get_target_for_label(self,label):\n",
    "        if(label == 'POSITIVE'):\n",
    "            return 1\n",
    "        else:\n",
    "            return 0\n",
    "        \n",
    "    def sigmoid(self,x):\n",
    "        return 1 / (1 + np.exp(-x))\n",
    "    \n",
    "    \n",
    "    def sigmoid_output_2_derivative(self,output):\n",
    "        return output * (1 - output)\n",
    "    \n",
    "    def train(self, training_reviews, training_labels):\n",
    "        \n",
    "        assert(len(training_reviews) == len(training_labels))\n",
    "        \n",
    "        correct_so_far = 0\n",
    "        \n",
    "        start = time.time()\n",
    "        \n",
    "        for i in range(len(training_reviews)):\n",
    "            \n",
    "            review = training_reviews[i]\n",
    "            label = training_labels[i]\n",
    "            \n",
    "            #### Implement the forward pass here ####\n",
    "            ### Forward pass ###\n",
    "\n",
    "            # Input Layer\n",
    "            self.update_input_layer(review)\n",
    "\n",
    "            # Hidden layer\n",
    "            layer_1 = self.layer_0.dot(self.weights_0_1)\n",
    "\n",
    "            # Output layer\n",
    "            layer_2 = self.sigmoid(layer_1.dot(self.weights_1_2))\n",
    "\n",
    "            #### Implement the backward pass here ####\n",
    "            ### Backward pass ###\n",
    "\n",
    "            # TODO: Output error\n",
    "            layer_2_error = layer_2 - self.get_target_for_label(label) # Output layer error is the difference between desired target and actual output.\n",
    "            layer_2_delta = layer_2_error * self.sigmoid_output_2_derivative(layer_2)\n",
    "\n",
    "            # TODO: Backpropagated error\n",
    "            layer_1_error = layer_2_delta.dot(self.weights_1_2.T) # errors propagated to the hidden layer\n",
    "            layer_1_delta = layer_1_error # hidden layer gradients - no nonlinearity so it's the same as the error\n",
    "\n",
    "            # TODO: Update the weights\n",
    "            self.weights_1_2 -= layer_1.T.dot(layer_2_delta) * self.learning_rate # update hidden-to-output weights with gradient descent step\n",
    "            self.weights_0_1 -= self.layer_0.T.dot(layer_1_delta) * self.learning_rate # update input-to-hidden weights with gradient descent step\n",
    "\n",
    "            if(np.abs(layer_2_error) < 0.5):\n",
    "                correct_so_far += 1\n",
    "            \n",
    "            reviews_per_second = i / float(time.time() - start)\n",
    "            \n",
    "            sys.stdout.write(\"\\rProgress:\" + str(100 * i/float(len(training_reviews)))[:4] + \"% Speed(reviews/sec):\" + str(reviews_per_second)[0:5] + \" #Correct:\" + str(correct_so_far) + \" #Trained:\" + str(i+1) + \" Training Accuracy:\" + str(correct_so_far * 100 / float(i+1))[:4] + \"%\")\n",
    "            if(i % 2500 == 0):\n",
    "                print(\"\")\n",
    "    \n",
    "    def test(self, testing_reviews, testing_labels):\n",
    "        \n",
    "        correct = 0\n",
    "        \n",
    "        start = time.time()\n",
    "        \n",
    "        for i in range(len(testing_reviews)):\n",
    "            pred = self.run(testing_reviews[i])\n",
    "            if(pred == testing_labels[i]):\n",
    "                correct += 1\n",
    "            \n",
    "            reviews_per_second = i / float(time.time() - start)\n",
    "            \n",
    "            sys.stdout.write(\"\\rProgress:\" + str(100 * i/float(len(testing_reviews)))[:4] \\\n",
    "                             + \"% Speed(reviews/sec):\" + str(reviews_per_second)[0:5] \\\n",
    "                            + \"% #Correct:\" + str(correct) + \" #Tested:\" + str(i+1) + \" Testing Accuracy:\" + str(correct * 100 / float(i+1))[:4] + \"%\")\n",
    "    \n",
    "    def run(self, review):\n",
    "        \n",
    "        # Input Layer\n",
    "        self.update_input_layer(review.lower())\n",
    "\n",
    "        # Hidden layer\n",
    "        layer_1 = self.layer_0.dot(self.weights_0_1)\n",
    "\n",
    "        # Output layer\n",
    "        layer_2 = self.sigmoid(layer_1.dot(self.weights_1_2))\n",
    "        \n",
    "        if(layer_2[0] > 0.5):\n",
    "            return \"POSITIVE\"\n",
    "        else:\n",
    "            return \"NEGATIVE\"\n",
    "        "
   ]
  },
  {
   "cell_type": "code",
   "execution_count": null,
   "metadata": {
    "collapsed": true
   },
   "outputs": [],
   "source": [
    "mlp = SentimentNetwork(reviews[:-1000],labels[:-1000], learning_rate=0.1)"
   ]
  },
  {
   "cell_type": "code",
   "execution_count": null,
   "metadata": {
    "collapsed": false,
    "scrolled": true
   },
   "outputs": [],
   "source": [
    "mlp.train(reviews[:-1000],labels[:-1000])"
   ]
  },
  {
   "cell_type": "code",
   "execution_count": null,
   "metadata": {
    "collapsed": false
   },
   "outputs": [],
   "source": [
    "# evaluate our model before training (just to show how horrible it is)\n",
    "mlp.test(reviews[-1000:],labels[-1000:])"
   ]
  },
  {
   "cell_type": "markdown",
   "metadata": {},
   "source": [
    "# Analyzing Inefficiencies in our Network"
   ]
  },
  {
   "cell_type": "code",
   "execution_count": null,
   "metadata": {
    "collapsed": false
   },
   "outputs": [],
   "source": [
    "Image(filename='sentiment_network_sparse.png')"
   ]
  },
  {
   "cell_type": "code",
   "execution_count": null,
   "metadata": {
    "collapsed": true
   },
   "outputs": [],
   "source": [
    "layer_0 = np.zeros(10)"
   ]
  },
  {
   "cell_type": "code",
   "execution_count": null,
   "metadata": {
    "collapsed": false
   },
   "outputs": [],
   "source": [
    "layer_0"
   ]
  },
  {
   "cell_type": "code",
   "execution_count": null,
   "metadata": {
    "collapsed": true
   },
   "outputs": [],
   "source": [
    "layer_0[4] = 1\n",
    "layer_0[9] = 1"
   ]
  },
  {
   "cell_type": "code",
   "execution_count": null,
   "metadata": {
    "collapsed": false
   },
   "outputs": [],
   "source": [
    "layer_0"
   ]
  },
  {
   "cell_type": "code",
   "execution_count": null,
   "metadata": {
    "collapsed": true
   },
   "outputs": [],
   "source": [
    "weights_0_1 = np.random.randn(10,5)"
   ]
  },
  {
   "cell_type": "code",
   "execution_count": null,
   "metadata": {
    "collapsed": false
   },
   "outputs": [],
   "source": [
    "layer_0.dot(weights_0_1)"
   ]
  },
  {
   "cell_type": "code",
   "execution_count": null,
   "metadata": {
    "collapsed": true
   },
   "outputs": [],
   "source": [
    "indices = [4,9]"
   ]
  },
  {
   "cell_type": "code",
   "execution_count": null,
   "metadata": {
    "collapsed": true
   },
   "outputs": [],
   "source": [
    "layer_1 = np.zeros(5)"
   ]
  },
  {
   "cell_type": "code",
   "execution_count": null,
   "metadata": {
    "collapsed": true
   },
   "outputs": [],
   "source": [
    "for index in indices:\n",
    "    layer_1 += (weights_0_1[index])"
   ]
  },
  {
   "cell_type": "code",
   "execution_count": null,
   "metadata": {
    "collapsed": false
   },
   "outputs": [],
   "source": [
    "layer_1"
   ]
  },
  {
   "cell_type": "code",
   "execution_count": null,
   "metadata": {
    "collapsed": false
   },
   "outputs": [],
   "source": [
    "Image(filename='sentiment_network_sparse_2.png')"
   ]
  },
  {
   "cell_type": "markdown",
   "metadata": {},
   "source": [
    "# Project 5: Making our Network More Efficient"
   ]
  },
  {
   "cell_type": "code",
   "execution_count": null,
   "metadata": {
    "collapsed": true
   },
   "outputs": [],
   "source": [
    "import time\n",
    "import sys\n",
    "\n",
    "# Let's tweak our network from before to model these phenomena\n",
    "class SentimentNetwork:\n",
    "    def __init__(self, reviews,labels,hidden_nodes = 10, learning_rate = 0.1):\n",
    "       \n",
    "        np.random.seed(1)\n",
    "    \n",
    "        self.pre_process_data(reviews)\n",
    "        \n",
    "        self.init_network(len(self.review_vocab),hidden_nodes, 1, learning_rate)\n",
    "        \n",
    "        \n",
    "    def pre_process_data(self,reviews):\n",
    "        \n",
    "        review_vocab = set()\n",
    "        for review in reviews:\n",
    "            for word in review.split(\" \"):\n",
    "                review_vocab.add(word)\n",
    "        self.review_vocab = list(review_vocab)\n",
    "        \n",
    "        label_vocab = set()\n",
    "        for label in labels:\n",
    "            label_vocab.add(label)\n",
    "        \n",
    "        self.label_vocab = list(label_vocab)\n",
    "        \n",
    "        self.review_vocab_size = len(self.review_vocab)\n",
    "        self.label_vocab_size = len(self.label_vocab)\n",
    "        \n",
    "        self.word2index = {}\n",
    "        for i, word in enumerate(self.review_vocab):\n",
    "            self.word2index[word] = i\n",
    "        \n",
    "        self.label2index = {}\n",
    "        for i, label in enumerate(self.label_vocab):\n",
    "            self.label2index[label] = i\n",
    "         \n",
    "        \n",
    "    def init_network(self, input_nodes, hidden_nodes, output_nodes, learning_rate):\n",
    "        # Set number of nodes in input, hidden and output layers.\n",
    "        self.input_nodes = input_nodes\n",
    "        self.hidden_nodes = hidden_nodes\n",
    "        self.output_nodes = output_nodes\n",
    "\n",
    "        # Initialize weights\n",
    "        self.weights_0_1 = np.zeros((self.input_nodes,self.hidden_nodes))\n",
    "    \n",
    "        self.weights_1_2 = np.random.normal(0.0, self.output_nodes**-0.5, \n",
    "                                                (self.hidden_nodes, self.output_nodes))\n",
    "        \n",
    "        self.learning_rate = learning_rate\n",
    "        \n",
    "        self.layer_0 = np.zeros((1,input_nodes))\n",
    "        self.layer_1 = np.zeros((1,hidden_nodes))\n",
    "        \n",
    "    def sigmoid(self,x):\n",
    "        return 1 / (1 + np.exp(-x))\n",
    "    \n",
    "    \n",
    "    def sigmoid_output_2_derivative(self,output):\n",
    "        return output * (1 - output)\n",
    "    \n",
    "    def update_input_layer(self,review):\n",
    "\n",
    "        # clear out previous state, reset the layer to be all 0s\n",
    "        self.layer_0 *= 0\n",
    "        for word in review.split(\" \"):\n",
    "            self.layer_0[0][self.word2index[word]] = 1\n",
    "\n",
    "    def get_target_for_label(self,label):\n",
    "        if(label == 'POSITIVE'):\n",
    "            return 1\n",
    "        else:\n",
    "            return 0\n",
    "        \n",
    "    def train(self, training_reviews_raw, training_labels):\n",
    "        \n",
    "        training_reviews = list()\n",
    "        for review in training_reviews_raw:\n",
    "            indices = set()\n",
    "            for word in review.split(\" \"):\n",
    "                if(word in self.word2index.keys()):\n",
    "                    indices.add(self.word2index[word])\n",
    "            training_reviews.append(list(indices))\n",
    "        \n",
    "        assert(len(training_reviews) == len(training_labels))\n",
    "        \n",
    "        correct_so_far = 0\n",
    "        \n",
    "        start = time.time()\n",
    "        \n",
    "        for i in range(len(training_reviews)):\n",
    "            \n",
    "            review = training_reviews[i]\n",
    "            label = training_labels[i]\n",
    "            \n",
    "            #### Implement the forward pass here ####\n",
    "            ### Forward pass ###\n",
    "\n",
    "            # Input Layer\n",
    "\n",
    "            # Hidden layer\n",
    "#             layer_1 = self.layer_0.dot(self.weights_0_1)\n",
    "            self.layer_1 *= 0\n",
    "            for index in review:\n",
    "                self.layer_1 += self.weights_0_1[index]\n",
    "            \n",
    "            # Output layer\n",
    "            layer_2 = self.sigmoid(self.layer_1.dot(self.weights_1_2))\n",
    "\n",
    "            #### Implement the backward pass here ####\n",
    "            ### Backward pass ###\n",
    "\n",
    "            # Output error\n",
    "            layer_2_error = layer_2 - self.get_target_for_label(label) # Output layer error is the difference between desired target and actual output.\n",
    "            layer_2_delta = layer_2_error * self.sigmoid_output_2_derivative(layer_2)\n",
    "\n",
    "            # Backpropagated error\n",
    "            layer_1_error = layer_2_delta.dot(self.weights_1_2.T) # errors propagated to the hidden layer\n",
    "            layer_1_delta = layer_1_error # hidden layer gradients - no nonlinearity so it's the same as the error\n",
    "\n",
    "            # Update the weights\n",
    "            self.weights_1_2 -= self.layer_1.T.dot(layer_2_delta) * self.learning_rate # update hidden-to-output weights with gradient descent step\n",
    "            \n",
    "            for index in review:\n",
    "                self.weights_0_1[index] -= layer_1_delta[0] * self.learning_rate # update input-to-hidden weights with gradient descent step\n",
    "\n",
    "            if(np.abs(layer_2_error) < 0.5):\n",
    "                correct_so_far += 1\n",
    "            \n",
    "            reviews_per_second = i / float(time.time() - start)\n",
    "            \n",
    "            sys.stdout.write(\"\\rProgress:\" + str(100 * i/float(len(training_reviews)))[:4] + \"% Speed(reviews/sec):\" + str(reviews_per_second)[0:5] + \" #Correct:\" + str(correct_so_far) + \" #Trained:\" + str(i+1) + \" Training Accuracy:\" + str(correct_so_far * 100 / float(i+1))[:4] + \"%\")\n",
    "        \n",
    "    \n",
    "    def test(self, testing_reviews, testing_labels):\n",
    "        \n",
    "        correct = 0\n",
    "        \n",
    "        start = time.time()\n",
    "        \n",
    "        for i in range(len(testing_reviews)):\n",
    "            pred = self.run(testing_reviews[i])\n",
    "            if(pred == testing_labels[i]):\n",
    "                correct += 1\n",
    "            \n",
    "            reviews_per_second = i / float(time.time() - start)\n",
    "            \n",
    "            sys.stdout.write(\"\\rProgress:\" + str(100 * i/float(len(testing_reviews)))[:4] \\\n",
    "                             + \"% Speed(reviews/sec):\" + str(reviews_per_second)[0:5] \\\n",
    "                            + \"% #Correct:\" + str(correct) + \" #Tested:\" + str(i+1) + \" Testing Accuracy:\" + str(correct * 100 / float(i+1))[:4] + \"%\")\n",
    "    \n",
    "    def run(self, review):\n",
    "        \n",
    "        # Input Layer\n",
    "\n",
    "\n",
    "        # Hidden layer\n",
    "        self.layer_1 *= 0\n",
    "        unique_indices = set()\n",
    "        for word in review.lower().split(\" \"):\n",
    "            if word in self.word2index.keys():\n",
    "                unique_indices.add(self.word2index[word])\n",
    "        for index in unique_indices:\n",
    "            self.layer_1 += self.weights_0_1[index]\n",
    "        \n",
    "        # Output layer\n",
    "        layer_2 = self.sigmoid(self.layer_1.dot(self.weights_1_2))\n",
    "        \n",
    "        if(layer_2[0] > 0.5):\n",
    "            return \"POSITIVE\"\n",
    "        else:\n",
    "            return \"NEGATIVE\"\n",
    "        "
   ]
  },
  {
   "cell_type": "code",
   "execution_count": null,
   "metadata": {
    "collapsed": true
   },
   "outputs": [],
   "source": [
    "mlp = SentimentNetwork(reviews[:-1000],labels[:-1000], learning_rate=0.1)"
   ]
  },
  {
   "cell_type": "code",
   "execution_count": null,
   "metadata": {
    "collapsed": false
   },
   "outputs": [],
   "source": [
    "mlp.train(reviews[:-1000],labels[:-1000])"
   ]
  },
  {
   "cell_type": "code",
   "execution_count": null,
   "metadata": {
    "collapsed": false
   },
   "outputs": [],
   "source": [
    "# evaluate our model before training (just to show how horrible it is)\n",
    "mlp.test(reviews[-1000:],labels[-1000:])"
   ]
  },
  {
   "cell_type": "markdown",
   "metadata": {},
   "source": [
    "# Further Noise Reduction"
   ]
  },
  {
   "cell_type": "code",
   "execution_count": null,
   "metadata": {
    "collapsed": false
   },
   "outputs": [],
   "source": [
    "Image(filename='sentiment_network_sparse_2.png')"
   ]
  },
  {
   "cell_type": "code",
   "execution_count": null,
   "metadata": {
    "collapsed": false
   },
   "outputs": [],
   "source": [
    "# words most frequently seen in a review with a \"POSITIVE\" label\n",
    "pos_neg_ratios.most_common()"
   ]
  },
  {
   "cell_type": "code",
   "execution_count": null,
   "metadata": {
    "collapsed": false
   },
   "outputs": [],
   "source": [
    "# words most frequently seen in a review with a \"NEGATIVE\" label\n",
    "list(reversed(pos_neg_ratios.most_common()))[0:30]"
   ]
  },
  {
   "cell_type": "code",
   "execution_count": null,
   "metadata": {
    "collapsed": false
   },
   "outputs": [],
   "source": [
    "from bokeh.models import ColumnDataSource, LabelSet\n",
    "from bokeh.plotting import figure, show, output_file\n",
    "from bokeh.io import output_notebook\n",
    "output_notebook()"
   ]
  },
  {
   "cell_type": "code",
   "execution_count": null,
   "metadata": {
    "collapsed": false
   },
   "outputs": [],
   "source": [
    "hist, edges = np.histogram(list(map(lambda x:x[1],pos_neg_ratios.most_common())), density=True, bins=100, normed=True)\n",
    "\n",
    "p = figure(tools=\"pan,wheel_zoom,reset,save\",\n",
    "           toolbar_location=\"above\",\n",
    "           title=\"Word Positive/Negative Affinity Distribution\")\n",
    "p.quad(top=hist, bottom=0, left=edges[:-1], right=edges[1:], line_color=\"#555555\")\n",
    "show(p)"
   ]
  },
  {
   "cell_type": "code",
   "execution_count": null,
   "metadata": {
    "collapsed": true
   },
   "outputs": [],
   "source": [
    "frequency_frequency = Counter()\n",
    "\n",
    "for word, cnt in total_counts.most_common():\n",
    "    frequency_frequency[cnt] += 1"
   ]
  },
  {
   "cell_type": "code",
   "execution_count": null,
   "metadata": {
    "collapsed": false
   },
   "outputs": [],
   "source": [
    "hist, edges = np.histogram(list(map(lambda x:x[1],frequency_frequency.most_common())), density=True, bins=100, normed=True)\n",
    "\n",
    "p = figure(tools=\"pan,wheel_zoom,reset,save\",\n",
    "           toolbar_location=\"above\",\n",
    "           title=\"The frequency distribution of the words in our corpus\")\n",
    "p.quad(top=hist, bottom=0, left=edges[:-1], right=edges[1:], line_color=\"#555555\")\n",
    "show(p)"
   ]
  },
  {
   "cell_type": "markdown",
   "metadata": {},
   "source": [
    "# Reducing Noise by Strategically Reducing the Vocabulary"
   ]
  },
  {
   "cell_type": "code",
   "execution_count": null,
   "metadata": {
    "collapsed": true
   },
   "outputs": [],
   "source": [
    "import time\n",
    "import sys\n",
    "import numpy as np\n",
    "\n",
    "# Let's tweak our network from before to model these phenomena\n",
    "class SentimentNetwork:\n",
    "    def __init__(self, reviews,labels,min_count = 10,polarity_cutoff = 0.1,hidden_nodes = 10, learning_rate = 0.1):\n",
    "       \n",
    "        np.random.seed(1)\n",
    "    \n",
    "        self.pre_process_data(reviews, polarity_cutoff, min_count)\n",
    "        \n",
    "        self.init_network(len(self.review_vocab),hidden_nodes, 1, learning_rate)\n",
    "        \n",
    "        \n",
    "    def pre_process_data(self,reviews, polarity_cutoff,min_count):\n",
    "        \n",
    "        positive_counts = Counter()\n",
    "        negative_counts = Counter()\n",
    "        total_counts = Counter()\n",
    "\n",
    "        for i in range(len(reviews)):\n",
    "            if(labels[i] == 'POSITIVE'):\n",
    "                for word in reviews[i].split(\" \"):\n",
    "                    positive_counts[word] += 1\n",
    "                    total_counts[word] += 1\n",
    "            else:\n",
    "                for word in reviews[i].split(\" \"):\n",
    "                    negative_counts[word] += 1\n",
    "                    total_counts[word] += 1\n",
    "\n",
    "        pos_neg_ratios = Counter()\n",
    "\n",
    "        for term,cnt in list(total_counts.most_common()):\n",
    "            if(cnt >= 50):\n",
    "                pos_neg_ratio = positive_counts[term] / float(negative_counts[term]+1)\n",
    "                pos_neg_ratios[term] = pos_neg_ratio\n",
    "\n",
    "        for word,ratio in pos_neg_ratios.most_common():\n",
    "            if(ratio > 1):\n",
    "                pos_neg_ratios[word] = np.log(ratio)\n",
    "            else:\n",
    "                pos_neg_ratios[word] = -np.log((1 / (ratio + 0.01)))\n",
    "        \n",
    "        review_vocab = set()\n",
    "        for review in reviews:\n",
    "            for word in review.split(\" \"):\n",
    "                if(total_counts[word] > min_count):\n",
    "                    if(word in pos_neg_ratios.keys()):\n",
    "                        if((pos_neg_ratios[word] >= polarity_cutoff) or (pos_neg_ratios[word] <= -polarity_cutoff)):\n",
    "                            review_vocab.add(word)\n",
    "                    else:\n",
    "                        review_vocab.add(word)\n",
    "        self.review_vocab = list(review_vocab)\n",
    "        \n",
    "        label_vocab = set()\n",
    "        for label in labels:\n",
    "            label_vocab.add(label)\n",
    "        \n",
    "        self.label_vocab = list(label_vocab)\n",
    "        \n",
    "        self.review_vocab_size = len(self.review_vocab)\n",
    "        self.label_vocab_size = len(self.label_vocab)\n",
    "        \n",
    "        self.word2index = {}\n",
    "        for i, word in enumerate(self.review_vocab):\n",
    "            self.word2index[word] = i\n",
    "        \n",
    "        self.label2index = {}\n",
    "        for i, label in enumerate(self.label_vocab):\n",
    "            self.label2index[label] = i\n",
    "         \n",
    "        \n",
    "    def init_network(self, input_nodes, hidden_nodes, output_nodes, learning_rate):\n",
    "        # Set number of nodes in input, hidden and output layers.\n",
    "        self.input_nodes = input_nodes\n",
    "        self.hidden_nodes = hidden_nodes\n",
    "        self.output_nodes = output_nodes\n",
    "\n",
    "        # Initialize weights\n",
    "        self.weights_0_1 = np.zeros((self.input_nodes,self.hidden_nodes))\n",
    "    \n",
    "        self.weights_1_2 = np.random.normal(0.0, self.output_nodes**-0.5, \n",
    "                                                (self.hidden_nodes, self.output_nodes))\n",
    "        \n",
    "        self.learning_rate = learning_rate\n",
    "        \n",
    "        self.layer_0 = np.zeros((1,input_nodes))\n",
    "        self.layer_1 = np.zeros((1,hidden_nodes))\n",
    "        \n",
    "    def sigmoid(self,x):\n",
    "        return 1 / (1 + np.exp(-x))\n",
    "    \n",
    "    \n",
    "    def sigmoid_output_2_derivative(self,output):\n",
    "        return output * (1 - output)\n",
    "    \n",
    "    def update_input_layer(self,review):\n",
    "\n",
    "        # clear out previous state, reset the layer to be all 0s\n",
    "        self.layer_0 *= 0\n",
    "        for word in review.split(\" \"):\n",
    "            self.layer_0[0][self.word2index[word]] = 1\n",
    "\n",
    "    def get_target_for_label(self,label):\n",
    "        if(label == 'POSITIVE'):\n",
    "            return 1\n",
    "        else:\n",
    "            return 0\n",
    "        \n",
    "    def train(self, training_reviews_raw, training_labels):\n",
    "        \n",
    "        training_reviews = list()\n",
    "        for review in training_reviews_raw:\n",
    "            indices = set()\n",
    "            for word in review.split(\" \"):\n",
    "                if(word in self.word2index.keys()):\n",
    "                    indices.add(self.word2index[word])\n",
    "            training_reviews.append(list(indices))\n",
    "        \n",
    "        assert(len(training_reviews) == len(training_labels))\n",
    "        \n",
    "        correct_so_far = 0\n",
    "        \n",
    "        start = time.time()\n",
    "        \n",
    "        for i in range(len(training_reviews)):\n",
    "            \n",
    "            review = training_reviews[i]\n",
    "            label = training_labels[i]\n",
    "            \n",
    "            #### Implement the forward pass here ####\n",
    "            ### Forward pass ###\n",
    "\n",
    "            # Input Layer\n",
    "\n",
    "            # Hidden layer\n",
    "#             layer_1 = self.layer_0.dot(self.weights_0_1)\n",
    "            self.layer_1 *= 0\n",
    "            for index in review:\n",
    "                self.layer_1 += self.weights_0_1[index]\n",
    "            \n",
    "            # Output layer\n",
    "            layer_2 = self.sigmoid(self.layer_1.dot(self.weights_1_2))\n",
    "\n",
    "            #### Implement the backward pass here ####\n",
    "            ### Backward pass ###\n",
    "\n",
    "            # Output error\n",
    "            layer_2_error = layer_2 - self.get_target_for_label(label) # Output layer error is the difference between desired target and actual output.\n",
    "            layer_2_delta = layer_2_error * self.sigmoid_output_2_derivative(layer_2)\n",
    "\n",
    "            # Backpropagated error\n",
    "            layer_1_error = layer_2_delta.dot(self.weights_1_2.T) # errors propagated to the hidden layer\n",
    "            layer_1_delta = layer_1_error # hidden layer gradients - no nonlinearity so it's the same as the error\n",
    "\n",
    "            # Update the weights\n",
    "            self.weights_1_2 -= self.layer_1.T.dot(layer_2_delta) * self.learning_rate # update hidden-to-output weights with gradient descent step\n",
    "            \n",
    "            for index in review:\n",
    "                self.weights_0_1[index] -= layer_1_delta[0] * self.learning_rate # update input-to-hidden weights with gradient descent step\n",
    "\n",
    "            if(layer_2 >= 0.5 and label == 'POSITIVE'):\n",
    "                correct_so_far += 1\n",
    "            if(layer_2 < 0.5 and label == 'NEGATIVE'):\n",
    "                correct_so_far += 1\n",
    "            \n",
    "            reviews_per_second = i / float(time.time() - start)\n",
    "            \n",
    "            sys.stdout.write(\"\\rProgress:\" + str(100 * i/float(len(training_reviews)))[:4] + \"% Speed(reviews/sec):\" + str(reviews_per_second)[0:5] + \" #Correct:\" + str(correct_so_far) + \" #Trained:\" + str(i+1) + \" Training Accuracy:\" + str(correct_so_far * 100 / float(i+1))[:4] + \"%\")\n",
    "        \n",
    "    \n",
    "    def test(self, testing_reviews, testing_labels):\n",
    "        \n",
    "        correct = 0\n",
    "        \n",
    "        start = time.time()\n",
    "        \n",
    "        for i in range(len(testing_reviews)):\n",
    "            pred = self.run(testing_reviews[i])\n",
    "            if(pred == testing_labels[i]):\n",
    "                correct += 1\n",
    "            \n",
    "            reviews_per_second = i / float(time.time() - start)\n",
    "            \n",
    "            sys.stdout.write(\"\\rProgress:\" + str(100 * i/float(len(testing_reviews)))[:4] \\\n",
    "                             + \"% Speed(reviews/sec):\" + str(reviews_per_second)[0:5] \\\n",
    "                            + \"% #Correct:\" + str(correct) + \" #Tested:\" + str(i+1) + \" Testing Accuracy:\" + str(correct * 100 / float(i+1))[:4] + \"%\")\n",
    "    \n",
    "    def run(self, review):\n",
    "        \n",
    "        # Input Layer\n",
    "\n",
    "\n",
    "        # Hidden layer\n",
    "        self.layer_1 *= 0\n",
    "        unique_indices = set()\n",
    "        for word in review.lower().split(\" \"):\n",
    "            if word in self.word2index.keys():\n",
    "                unique_indices.add(self.word2index[word])\n",
    "        for index in unique_indices:\n",
    "            self.layer_1 += self.weights_0_1[index]\n",
    "        \n",
    "        # Output layer\n",
    "        layer_2 = self.sigmoid(self.layer_1.dot(self.weights_1_2))\n",
    "        \n",
    "        if(layer_2[0] >= 0.5):\n",
    "            return \"POSITIVE\"\n",
    "        else:\n",
    "            return \"NEGATIVE\"\n",
    "        "
   ]
  },
  {
   "cell_type": "code",
   "execution_count": null,
   "metadata": {
    "collapsed": true
   },
   "outputs": [],
   "source": [
    "mlp = SentimentNetwork(reviews[:-1000],labels[:-1000],min_count=20,polarity_cutoff=0.05,learning_rate=0.01)"
   ]
  },
  {
   "cell_type": "code",
   "execution_count": null,
   "metadata": {
    "collapsed": false
   },
   "outputs": [],
   "source": [
    "mlp.train(reviews[:-1000],labels[:-1000])"
   ]
  },
  {
   "cell_type": "code",
   "execution_count": null,
   "metadata": {
    "collapsed": false
   },
   "outputs": [],
   "source": [
    "mlp.test(reviews[-1000:],labels[-1000:])"
   ]
  },
  {
   "cell_type": "code",
   "execution_count": null,
   "metadata": {
    "collapsed": true
   },
   "outputs": [],
   "source": [
    "mlp = SentimentNetwork(reviews[:-1000],labels[:-1000],min_count=20,polarity_cutoff=0.8,learning_rate=0.01)"
   ]
  },
  {
   "cell_type": "code",
   "execution_count": null,
   "metadata": {
    "collapsed": false
   },
   "outputs": [],
   "source": [
    "mlp.train(reviews[:-1000],labels[:-1000])"
   ]
  },
  {
   "cell_type": "code",
   "execution_count": null,
   "metadata": {
    "collapsed": false
   },
   "outputs": [],
   "source": [
    "mlp.test(reviews[-1000:],labels[-1000:])"
   ]
  }
 ],
 "metadata": {
  "anaconda-cloud": {},
  "kernelspec": {
   "display_name": "Python [default]",
   "language": "python",
   "name": "python3"
  },
  "language_info": {
   "codemirror_mode": {
    "name": "ipython",
    "version": 3
   },
   "file_extension": ".py",
   "mimetype": "text/x-python",
   "name": "python",
   "nbconvert_exporter": "python",
   "pygments_lexer": "ipython3",
   "version": "3.5.2"
  }
 },
 "nbformat": 4,
 "nbformat_minor": 1
}
